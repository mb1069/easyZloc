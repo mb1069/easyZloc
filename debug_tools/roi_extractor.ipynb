{
 "cells": [
  {
   "cell_type": "code",
   "execution_count": 4,
   "id": "41325ddd",
   "metadata": {},
   "outputs": [],
   "source": [
    "import glob\n",
    "from tifffile import imread, imwrite\n",
    "import matplotlib.pyplot as plt\n",
    "import numpy as np\n",
    "import os\n"
   ]
  },
  {
   "cell_type": "code",
   "execution_count": 10,
   "id": "fcbf666d",
   "metadata": {},
   "outputs": [
    {
     "name": "stdout",
     "output_type": "stream",
     "text": [
      "/home/miguel/Projects/uni/data/smlm_3d/20220729_nup/28_07_2022_sample/prime95b/A2/FOV3/storm_1/storm_1_MMStack_Default**.ome.tif\n",
      "/home/miguel/Projects/uni/data/smlm_3d/20220729_nup/28_07_2022_sample/prime95b/A2/FOV3/storm_1/storm_1_MMStack_Default.ome.tif\n",
      "/home/miguel/Projects/uni/data/smlm_3d/20220729_nup/28_07_2022_sample/prime95b/A2/FOV3/storm_1/storm_1_MMStack_Default_1.ome.tif\n",
      "/home/miguel/Projects/uni/data/smlm_3d/20220729_nup/28_07_2022_sample/prime95b/A2/FOV3/storm_1/storm_1_MMStack_Default_10.ome.tif\n",
      "/home/miguel/Projects/uni/data/smlm_3d/20220729_nup/28_07_2022_sample/prime95b/A2/FOV3/storm_1/storm_1_MMStack_Default_11.ome.tif\n",
      "/home/miguel/Projects/uni/data/smlm_3d/20220729_nup/28_07_2022_sample/prime95b/A2/FOV3/storm_1/storm_1_MMStack_Default_12.ome.tif\n",
      "/home/miguel/Projects/uni/data/smlm_3d/20220729_nup/28_07_2022_sample/prime95b/A2/FOV3/storm_1/storm_1_MMStack_Default_2.ome.tif\n",
      "/home/miguel/Projects/uni/data/smlm_3d/20220729_nup/28_07_2022_sample/prime95b/A2/FOV3/storm_1/storm_1_MMStack_Default_3.ome.tif\n",
      "/home/miguel/Projects/uni/data/smlm_3d/20220729_nup/28_07_2022_sample/prime95b/A2/FOV3/storm_1/storm_1_MMStack_Default_4.ome.tif\n",
      "/home/miguel/Projects/uni/data/smlm_3d/20220729_nup/28_07_2022_sample/prime95b/A2/FOV3/storm_1/storm_1_MMStack_Default_5.ome.tif\n",
      "/home/miguel/Projects/uni/data/smlm_3d/20220729_nup/28_07_2022_sample/prime95b/A2/FOV3/storm_1/storm_1_MMStack_Default_6.ome.tif\n",
      "/home/miguel/Projects/uni/data/smlm_3d/20220729_nup/28_07_2022_sample/prime95b/A2/FOV3/storm_1/storm_1_MMStack_Default_7.ome.tif\n",
      "/home/miguel/Projects/uni/data/smlm_3d/20220729_nup/28_07_2022_sample/prime95b/A2/FOV3/storm_1/storm_1_MMStack_Default_8.ome.tif\n",
      "/home/miguel/Projects/uni/data/smlm_3d/20220729_nup/28_07_2022_sample/prime95b/A2/FOV3/storm_1/storm_1_MMStack_Default_9.ome.tif\n"
     ]
    }
   ],
   "source": [
    "base_file = '/home/miguel/Projects/uni/data/smlm_3d/20220729_nup/28_07_2022_sample/prime95b/A2/FOV3/storm_1/storm_1_MMStack_Default**.ome.tif'\n",
    "out_file = '/home/miguel/Projects/uni/data/smlm_3d/20220729_nup/28_07_2022_sample/prime95b/A2/FOV3/storm_1/out/'\n",
    "os.makedirs(out_file, exist_ok=True)\n",
    "imgs = list(sorted(glob.glob(base_file)))\n",
    "for i in imgs:\n",
    "    print(i)"
   ]
  },
  {
   "cell_type": "code",
   "execution_count": 13,
   "id": "cc1f7ddb",
   "metadata": {},
   "outputs": [
    {
     "name": "stderr",
     "output_type": "stream",
     "text": [
      "\r",
      "  0%|          | 0/13 [00:00<?, ?it/s]"
     ]
    },
    {
     "name": "stdout",
     "output_type": "stream",
     "text": [
      "433 429\n"
     ]
    },
    {
     "name": "stderr",
     "output_type": "stream",
     "text": [
      "100%|██████████| 13/13 [00:51<00:00,  3.98s/it]\n"
     ]
    },
    {
     "ename": "ValueError",
     "evalue": "all input arrays must have the same shape",
     "output_type": "error",
     "traceback": [
      "\u001b[0;31m---------------------------------------------------------------------------\u001b[0m",
      "\u001b[0;31mValueError\u001b[0m                                Traceback (most recent call last)",
      "\u001b[0;32m<ipython-input-13-03a611e6a0f3>\u001b[0m in \u001b[0;36m<module>\u001b[0;34m\u001b[0m\n\u001b[1;32m     29\u001b[0m     \u001b[0msub_imgs\u001b[0m\u001b[0;34m.\u001b[0m\u001b[0mappend\u001b[0m\u001b[0;34m(\u001b[0m\u001b[0msub_img\u001b[0m\u001b[0;34m)\u001b[0m\u001b[0;34m\u001b[0m\u001b[0;34m\u001b[0m\u001b[0m\n\u001b[1;32m     30\u001b[0m \u001b[0;34m\u001b[0m\u001b[0m\n\u001b[0;32m---> 31\u001b[0;31m \u001b[0mroi\u001b[0m \u001b[0;34m=\u001b[0m \u001b[0mnp\u001b[0m\u001b[0;34m.\u001b[0m\u001b[0mstack\u001b[0m\u001b[0;34m(\u001b[0m\u001b[0msub_imgs\u001b[0m\u001b[0;34m)\u001b[0m\u001b[0;34m\u001b[0m\u001b[0;34m\u001b[0m\u001b[0m\n\u001b[0m\u001b[1;32m     32\u001b[0m \u001b[0moutfile\u001b[0m \u001b[0;34m=\u001b[0m \u001b[0mout_file\u001b[0m \u001b[0;34m+\u001b[0m \u001b[0;34mf'out.ome.tif'\u001b[0m\u001b[0;34m\u001b[0m\u001b[0;34m\u001b[0m\u001b[0m\n\u001b[1;32m     33\u001b[0m \u001b[0mimwrite\u001b[0m\u001b[0;34m(\u001b[0m\u001b[0moutfile\u001b[0m\u001b[0;34m,\u001b[0m \u001b[0msub_img\u001b[0m\u001b[0;34m,\u001b[0m \u001b[0mcompress\u001b[0m\u001b[0;34m=\u001b[0m\u001b[0;36m6\u001b[0m\u001b[0;34m)\u001b[0m\u001b[0;34m\u001b[0m\u001b[0;34m\u001b[0m\u001b[0m\n",
      "\u001b[0;32m<__array_function__ internals>\u001b[0m in \u001b[0;36mstack\u001b[0;34m(*args, **kwargs)\u001b[0m\n",
      "\u001b[0;32m~/Projects/uni/venv/lib/python3.8/site-packages/numpy/core/shape_base.py\u001b[0m in \u001b[0;36mstack\u001b[0;34m(arrays, axis, out)\u001b[0m\n\u001b[1;32m    424\u001b[0m     \u001b[0mshapes\u001b[0m \u001b[0;34m=\u001b[0m \u001b[0;34m{\u001b[0m\u001b[0marr\u001b[0m\u001b[0;34m.\u001b[0m\u001b[0mshape\u001b[0m \u001b[0;32mfor\u001b[0m \u001b[0marr\u001b[0m \u001b[0;32min\u001b[0m \u001b[0marrays\u001b[0m\u001b[0;34m}\u001b[0m\u001b[0;34m\u001b[0m\u001b[0;34m\u001b[0m\u001b[0m\n\u001b[1;32m    425\u001b[0m     \u001b[0;32mif\u001b[0m \u001b[0mlen\u001b[0m\u001b[0;34m(\u001b[0m\u001b[0mshapes\u001b[0m\u001b[0;34m)\u001b[0m \u001b[0;34m!=\u001b[0m \u001b[0;36m1\u001b[0m\u001b[0;34m:\u001b[0m\u001b[0;34m\u001b[0m\u001b[0;34m\u001b[0m\u001b[0m\n\u001b[0;32m--> 426\u001b[0;31m         \u001b[0;32mraise\u001b[0m \u001b[0mValueError\u001b[0m\u001b[0;34m(\u001b[0m\u001b[0;34m'all input arrays must have the same shape'\u001b[0m\u001b[0;34m)\u001b[0m\u001b[0;34m\u001b[0m\u001b[0;34m\u001b[0m\u001b[0m\n\u001b[0m\u001b[1;32m    427\u001b[0m \u001b[0;34m\u001b[0m\u001b[0m\n\u001b[1;32m    428\u001b[0m     \u001b[0mresult_ndim\u001b[0m \u001b[0;34m=\u001b[0m \u001b[0marrays\u001b[0m\u001b[0;34m[\u001b[0m\u001b[0;36m0\u001b[0m\u001b[0;34m]\u001b[0m\u001b[0;34m.\u001b[0m\u001b[0mndim\u001b[0m \u001b[0;34m+\u001b[0m \u001b[0;36m1\u001b[0m\u001b[0;34m\u001b[0m\u001b[0;34m\u001b[0m\u001b[0m\n",
      "\u001b[0;31mValueError\u001b[0m: all input arrays must have the same shape"
     ]
    }
   ],
   "source": [
    "from PIL import Image\n",
    "import matplotlib.pyplot as plt\n",
    "from tqdm import trange, tqdm\n",
    "import os\n",
    "\n",
    "os.makedirs(out_file, exist_ok=True)\n",
    "\n",
    "\n",
    "\n",
    "min_x = int(41446/106)\n",
    "max_x = int(46003/106)\n",
    "min_y = int(41219/106)\n",
    "max_y = int(45563/106)\n",
    "\n",
    "print(max_x, max_y)\n",
    "\n",
    "\n",
    "sub_imgs = []\n",
    "i = 0\n",
    "for impath in tqdm(imgs):\n",
    "    with Image.open(impath) as im:\n",
    "        sub_img = np.zeros((im.n_frames, max_y-min_y, max_x-min_x))\n",
    "        for frame in range(im.n_frames):\n",
    "            im.seek(frame)\n",
    "            sub_img[frame] = im.crop((min_x, min_y, max_x, max_y))\n",
    "\n",
    "    \n",
    "#     imwrite(outfile, sub_img)\n",
    "    sub_imgs.append(sub_img)\n",
    "\n",
    "roi = np.concatenate(sub_imgs, axis=0)\n",
    "outfile = out_file + f'out.ome.tif'\n",
    "imwrite(outfile, sub_img, compress=6)\n"
   ]
  },
  {
   "cell_type": "code",
   "execution_count": 22,
   "id": "aab1031c",
   "metadata": {},
   "outputs": [
    {
     "name": "stdout",
     "output_type": "stream",
     "text": [
      "float32\n"
     ]
    }
   ],
   "source": [
    "roi = np.concatenate(sub_imgs, axis=0)\n",
    "roi = roi.astype(np.float32)\n",
    "print(roi.dtype)\n",
    "outfile = out_file + f'out32.ome.tif'\n",
    "imwrite(outfile, sub_img, compress=6)\n"
   ]
  },
  {
   "cell_type": "code",
   "execution_count": null,
   "id": "299a54a7",
   "metadata": {},
   "outputs": [],
   "source": []
  }
 ],
 "metadata": {
  "kernelspec": {
   "display_name": "Python 3",
   "language": "python",
   "name": "python3"
  },
  "language_info": {
   "codemirror_mode": {
    "name": "ipython",
    "version": 3
   },
   "file_extension": ".py",
   "mimetype": "text/x-python",
   "name": "python",
   "nbconvert_exporter": "python",
   "pygments_lexer": "ipython3",
   "version": "3.8.5"
  }
 },
 "nbformat": 4,
 "nbformat_minor": 5
}
