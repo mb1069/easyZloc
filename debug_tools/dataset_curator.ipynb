{
 "cells": [
  {
   "cell_type": "code",
   "execution_count": 1,
   "id": "e5d2ba2e",
   "metadata": {
    "scrolled": false
   },
   "outputs": [
    {
     "name": "stderr",
     "output_type": "stream",
     "text": [
      "<ipython-input-1-1334a49c87b3>:70: RuntimeWarning: invalid value encountered in true_divide\n",
      "  img = (img - img.min()) / (img.max() - img.min())\n"
     ]
    },
    {
     "data": {
      "application/vnd.jupyter.widget-view+json": {
       "model_id": "ed4b88603f8a4d7aa28629c0600b6084",
       "version_major": 2,
       "version_minor": 0
      },
      "text/plain": [
       "VBox(children=(HBox(children=(VBox(children=(Image(value=b'\\x89PNG\\r\\n\\x1a\\n\\x00\\x00\\x00\\rIHDR\\x00\\x00\\x00 \\x0…"
      ]
     },
     "metadata": {},
     "output_type": "display_data"
    }
   ],
   "source": [
    "%load_ext autoreload\n",
    "%autoreload 2\n",
    "from data.visualise import scatter_3d, scatter_yz, show_psf_axial, plot_with_sphere, grid_psfs\n",
    "from data.datasets import ExperimentalDataSet, TrainingDataSet\n",
    "\n",
    "from config.datasets import dataset_configs\n",
    "from data.estimate_offset import remove_bg\n",
    "import matplotlib.pyplot as plt\n",
    "import numpy as np\n",
    "import pandas as pd\n",
    "import ipywidgets as widgets\n",
    "from IPython.display import display, clear_output\n",
    "from functools import partial\n",
    "from PIL import Image\n",
    "\n",
    "from io import BytesIO\n",
    "\n",
    "def showarray(a, fmt='png'):\n",
    "    f = BytesIO()\n",
    "    Image.fromarray(a).save(f, fmt)\n",
    "    return f.getvalue()\n",
    "    \n",
    "plt.rcParams['figure.figsize'] = [3, 5]\n",
    "dataset = '20220506_Miguel_beads_zeiss'\n",
    "cfg = dataset_configs[dataset]['training_3']\n",
    "cfg['csv'] = cfg['csv'].replace('_filtered', '')\n",
    "ds = ExperimentalDataSet(cfg, transform_data=False, lazy=True)\n",
    "ds.prepare_debug()\n",
    "\n",
    "ds.filter_emitters_proximity = False\n",
    "if 'id' not in list(ds.csv_data):\n",
    "    ds.csv_data['id'] = list(range(ds.csv_data.shape[0]))\n",
    "\n",
    "ROWS = 1000\n",
    "COLS = 5\n",
    "IMG_WIDTH, IMG_HEIGHT = 64, 64\n",
    "\n",
    "n_psfs = ds.csv_data.shape[0]\n",
    "\n",
    "psfs = []\n",
    "ds.prepare_debug()\n",
    "for i in range(n_psfs):\n",
    "    psf, _, _, z, _ = ds.debug_emitter(i, 10000)\n",
    "    idx = np.argmin(abs(z))\n",
    "    psf = remove_bg(psf)\n",
    "    psfs.append(psf[idx])\n",
    "psfs = np.stack(psfs)\n",
    "print(psfs.shape, n_psfs)\n",
    "psfs *= 255 * 255\n",
    "psfs = np.uint16(psfs)\n",
    "psfs = [p for p in psfs]\n",
    "\n",
    "selected_ids = set()\n",
    "def on_click(*args, **kwargs):\n",
    "    selected_ids.add(args[0])\n",
    "    print(selected_ids)\n",
    "\n",
    "def show_all_psfs():\n",
    "    clear_output()\n",
    "    n_psfs = ds.csv_data.shape[0]\n",
    "\n",
    "    rows = []\n",
    "    for row in range(ROWS):\n",
    "        finished = False\n",
    "        cols = []\n",
    "        for col in range(COLS):\n",
    "            index = row * COLS + col\n",
    "            try:\n",
    "                img = psfs[index]\n",
    "                img = (img - img.min()) / (img.max() - img.min())\n",
    "                img = (img*255*255).astype(np.uint16)\n",
    "                im_data = showarray(img)\n",
    "            except IndexError:\n",
    "                finished = True\n",
    "                break\n",
    "            image = widgets.Image(\n",
    "                value=im_data, width=IMG_WIDTH, height=IMG_HEIGHT\n",
    "            )\n",
    "            psf_id = ds.csv_data.iloc[index]['id']\n",
    "            button = widgets.Button(description='Image %d' % psf_id)\n",
    "            # Bind the click event to the on_click function, with our index as argument\n",
    "            button.on_click(partial(on_click, psf_id))\n",
    "\n",
    "            # Create a vertical layout box, image above the button\n",
    "            box = widgets.VBox([image, button])\n",
    "            cols.append(box)\n",
    "\n",
    "        # Create a horizontal layout box, grouping all the columns together\n",
    "        rows.append(widgets.HBox(cols))\n",
    "        if finished:\n",
    "            break\n",
    "    # Create a vertical layout box, grouping all the rows together\n",
    "    result = widgets.VBox(rows)\n",
    "    display(result)\n",
    "    \n",
    "show_all_psfs()\n",
    "    "
   ]
  },
  {
   "cell_type": "code",
   "execution_count": 2,
   "id": "c83cf3dc",
   "metadata": {},
   "outputs": [
    {
     "name": "stdout",
     "output_type": "stream",
     "text": [
      "Rows 9 Cols 10 n_spaces 90 n_psfs 86\n"
     ]
    },
    {
     "data": {
      "image/png": "[encoded data removed]",
      "text/plain": [
       "<Figure size 2160x720 with 1 Axes>"
      ]
     },
     "metadata": {
      "needs_background": "light"
     },
     "output_type": "display_data"
    }
   ],
   "source": [
    "plt.imshow(grid_psfs(psfs))\n",
    "plt.show()"
   ]
  },
  {
   "cell_type": "code",
   "execution_count": 3,
   "id": "586a2929",
   "metadata": {
    "scrolled": true
   },
   "outputs": [
    {
     "name": "stdout",
     "output_type": "stream",
     "text": [
      "(86, 10)\n"
     ]
    },
    {
     "ename": "Exception",
     "evalue": "",
     "output_type": "error",
     "traceback": [
      "\u001b[0;31m---------------------------------------------------------------------------\u001b[0m",
      "\u001b[0;31mException\u001b[0m                                 Traceback (most recent call last)",
      "\u001b[0;32m<ipython-input-3-cd119a04f8e9>\u001b[0m in \u001b[0;36m<module>\u001b[0;34m\u001b[0m\n\u001b[1;32m      3\u001b[0m \u001b[0mselected_ids\u001b[0m \u001b[0;34m=\u001b[0m \u001b[0;34m[\u001b[0m\u001b[0mint\u001b[0m\u001b[0;34m(\u001b[0m\u001b[0ms\u001b[0m\u001b[0;34m)\u001b[0m \u001b[0;32mfor\u001b[0m \u001b[0ms\u001b[0m \u001b[0;32min\u001b[0m \u001b[0msorted\u001b[0m\u001b[0;34m(\u001b[0m\u001b[0mselected_ids\u001b[0m\u001b[0;34m)\u001b[0m\u001b[0;34m]\u001b[0m\u001b[0;34m\u001b[0m\u001b[0;34m\u001b[0m\u001b[0m\n\u001b[1;32m      4\u001b[0m \u001b[0;32mif\u001b[0m \u001b[0mlen\u001b[0m\u001b[0;34m(\u001b[0m\u001b[0mselected_ids\u001b[0m\u001b[0;34m)\u001b[0m \u001b[0;34m==\u001b[0m \u001b[0;36m0\u001b[0m\u001b[0;34m:\u001b[0m\u001b[0;34m\u001b[0m\u001b[0;34m\u001b[0m\u001b[0m\n\u001b[0;32m----> 5\u001b[0;31m     \u001b[0;32mraise\u001b[0m \u001b[0mException\u001b[0m\u001b[0;34m\u001b[0m\u001b[0;34m\u001b[0m\u001b[0m\n\u001b[0m\u001b[1;32m      6\u001b[0m \u001b[0mds\u001b[0m\u001b[0;34m.\u001b[0m\u001b[0mcsv_data\u001b[0m \u001b[0;34m=\u001b[0m \u001b[0mds\u001b[0m\u001b[0;34m.\u001b[0m\u001b[0mcsv_data\u001b[0m\u001b[0;34m[\u001b[0m\u001b[0;34m~\u001b[0m\u001b[0mds\u001b[0m\u001b[0;34m.\u001b[0m\u001b[0mcsv_data\u001b[0m\u001b[0;34m[\u001b[0m\u001b[0;34m'id'\u001b[0m\u001b[0;34m]\u001b[0m\u001b[0;34m.\u001b[0m\u001b[0misin\u001b[0m\u001b[0;34m(\u001b[0m\u001b[0mselected_ids\u001b[0m\u001b[0;34m)\u001b[0m\u001b[0;34m]\u001b[0m\u001b[0;34m\u001b[0m\u001b[0;34m\u001b[0m\u001b[0m\n\u001b[1;32m      7\u001b[0m \u001b[0;31m# for i in sorted(selected_ids):\u001b[0m\u001b[0;34m\u001b[0m\u001b[0;34m\u001b[0m\u001b[0;34m\u001b[0m\u001b[0m\n",
      "\u001b[0;31mException\u001b[0m: "
     ]
    }
   ],
   "source": [
    "print(ds.csv_data.shape)\n",
    "\n",
    "selected_ids = [int(s) for s in sorted(selected_ids)]\n",
    "if len(selected_ids) == 0:\n",
    "    raise Exception\n",
    "ds.csv_data = ds.csv_data[~ds.csv_data['id'].isin(selected_ids)]\n",
    "# for i in sorted(selected_ids):\n",
    "#     ds.csv_data.drop(i, inplace=True)"
   ]
  },
  {
   "cell_type": "code",
   "execution_count": 4,
   "id": "08f53449",
   "metadata": {},
   "outputs": [
    {
     "name": "stdout",
     "output_type": "stream",
     "text": [
      "/home/miguel/Projects/uni/data/smlm_3d/bead_3D_STORM_three_instruments/20210723_Olympus_beads/1mm_beads_agarose_centre_1/1mm_beads_agarose_centre_1_MMStack_Default_substack_filtered_2.csv\n"
     ]
    }
   ],
   "source": [
    "import os\n",
    "csv_path = os.path.join(cfg['bpath'], cfg['csv'].replace('.csv', '_filtered_2.csv'))\n",
    "ds.csv_data.to_csv(csv_path)\n",
    "print(csv_path)"
   ]
  },
  {
   "cell_type": "code",
   "execution_count": null,
   "id": "2e5e9159",
   "metadata": {},
   "outputs": [],
   "source": []
  }
 ],
 "metadata": {
  "kernelspec": {
   "display_name": "Python 3",
   "language": "python",
   "name": "python3"
  },
  "language_info": {
   "codemirror_mode": {
    "name": "ipython",
    "version": 3
   },
   "file_extension": ".py",
   "mimetype": "text/x-python",
   "name": "python",
   "nbconvert_exporter": "python",
   "pygments_lexer": "ipython3",
   "version": "3.8.5"
  }
 },
 "nbformat": 4,
 "nbformat_minor": 5
}
