{
 "cells": [
  {
   "cell_type": "code",
   "execution_count": 1,
   "id": "095bc8a7",
   "metadata": {},
   "outputs": [],
   "source": [
    "%load_ext autoreload\n",
    "%autoreload 2\n",
    "\n",
    "from data.visualise import scatter_3d, show_psf_axial\n",
    "from data.datasets import TrainingDataSet, ExperimentalDataSet\n",
    "from config.datasets import dataset_configs\n",
    "from ipywidgets import interact, interactive, fixed, interact_manual\n",
    "import ipywidgets as widgets\n",
    "from debug_tools.view_dataset_psfs import grid_psfs\n",
    "import numpy as np\n",
    "import matplotlib.pyplot as plt"
   ]
  },
  {
   "cell_type": "code",
   "execution_count": 8,
   "id": "e0ef3ed3",
   "metadata": {
    "scrolled": false
   },
   "outputs": [
    {
     "name": "stderr",
     "output_type": "stream",
     "text": [
      " 47%|████▋     | 147/316 [00:00<00:00, 1460.57it/s]"
     ]
    },
    {
     "name": "stdout",
     "output_type": "stream",
     "text": [
      "Reading img...\n",
      "Loading /home/miguel/Projects/uni/data/smlm_3d/bead_3D_STORM_three_instruments/20200723_OpenFrame_3D_beads/glass_beads_1mm_agarose_center_1/glass_beads_1mm_agarose_center_1_MMStack_Default_substack.ome.tif\n",
      "Loading /home/miguel/Projects/uni/data/smlm_3d/bead_3D_STORM_three_instruments/20200723_OpenFrame_3D_beads/glass_beads_1mm_agarose_center_1/glass_beads_1mm_agarose_center_1_MMStack_Default_substack.csv\n",
      "334 emitters before filtering\n",
      "316 emitters after borders\n"
     ]
    },
    {
     "name": "stderr",
     "output_type": "stream",
     "text": [
      "100%|██████████| 316/316 [00:00<00:00, 1467.51it/s]"
     ]
    },
    {
     "name": "stdout",
     "output_type": "stream",
     "text": [
      "(316, 32, 32, 1)\n"
     ]
    },
    {
     "name": "stderr",
     "output_type": "stream",
     "text": [
      "\n"
     ]
    }
   ],
   "source": [
    "\n",
    "dataset_name = 'openframe'\n",
    "sub_name = 'experimental'\n",
    "z_range = 1000\n",
    "cfg = dataset_configs[dataset_name][sub_name]\n",
    "\n",
    "\n",
    "dataset = ExperimentalDataSet(cfg, z_range, transform_data=False, lazy=True)\n",
    "dataset.filter_emitters_proximity = False\n",
    "dataset.prepare_data()\n",
    "all_psfs = dataset.data[0]\n",
    "\n",
    "\n",
    "# dataset = TrainingDataSet(cfg, z_range, lazy=True, transform_data=False, normalize_psf=False, filter_emitters_proximity=True, disable_emitter_peak_boundary=True)\n",
    "dataset.csv_backup = dataset.csv_data.copy()\n",
    "\n",
    "print(all_psfs.shape)\n",
    "# def norm_peak_layer(psf):\n",
    "#     peak_idx = np.argmax(psf.max(axis=(1,2)))\n",
    "#     psf = psf[[peak_idx]]\n",
    "#     psf = psf / psf.max()\n",
    "#     return psf\n",
    "# all_psfs = np.stack([norm_peak_layer(psf) for psf in all_psfs])\n",
    "psf_idx = dataset.kept_idx\n"
   ]
  },
  {
   "cell_type": "code",
   "execution_count": 9,
   "id": "f0483ff7",
   "metadata": {},
   "outputs": [
    {
     "name": "stdout",
     "output_type": "stream",
     "text": [
      "(316, 32, 32, 1)\n"
     ]
    }
   ],
   "source": [
    "print(all_psfs.shape)"
   ]
  },
  {
   "cell_type": "code",
   "execution_count": 10,
   "id": "2a339280",
   "metadata": {},
   "outputs": [],
   "source": [
    "\n",
    "selected_psfs = None\n",
    "def filter_csv_and_display(*args, **kwargs):\n",
    "    global all_psfs\n",
    "    global selected_psfs\n",
    "    print(f'{dataset.csv_backup.shape[0]} PSFs found in img.')\n",
    "    csv_data = dataset.csv_backup.copy()\n",
    "    for col_name, vals in kwargs.items():\n",
    "        n_before = csv_data.shape[0]\n",
    "        csv_data = csv_data[(csv_data[col_name] >= vals[0]) & (csv_data[col_name] <= vals[1])]\n",
    "        n_after = csv_data.shape[0]\n",
    "        print(f'\\t{n_before} -> {col_name} -> {n_after}')\n",
    "\n",
    "    selected_idx = [psf_idx.index(i) for i in csv_data.index if i in psf_idx]\n",
    "    psfs = [all_psfs[i] for i in selected_idx]\n",
    "    plt.rcParams['figure.figsize'] = [3, 3]\n",
    "\n",
    "    selected_psfs = np.array(psfs)\n",
    "    plt.rcParams['figure.figsize'] = [30, 50]\n",
    "    print(selected_psfs.shape)\n",
    "    psfs = grid_psfs(np.moveaxis(selected_psfs, 3, 1), cols=30).squeeze()\n",
    "    plt.imshow(psfs)\n"
   ]
  },
  {
   "cell_type": "code",
   "execution_count": 11,
   "id": "46eed8cc",
   "metadata": {
    "scrolled": false
   },
   "outputs": [
    {
     "data": {
      "application/vnd.jupyter.widget-view+json": {
       "model_id": "3db0f6202f434ddb8a061e0752d7f1cc",
       "version_major": 2,
       "version_minor": 0
      },
      "text/plain": [
       "interactive(children=(FloatRangeSlider(value=(22.50232, 182.4363), description='bkgstd [photon]', max=182.4363…"
      ]
     },
     "metadata": {},
     "output_type": "display_data"
    }
   ],
   "source": [
    "base_csv = dataset.csv_backup\n",
    "cols = {}\n",
    "for col_name in sorted(list(base_csv)):\n",
    "    if col_name in ['frame', 'x [nm]', 'y [nm]']:\n",
    "        continue\n",
    "    widget = widgets.FloatRangeSlider(min=base_csv[col_name].min(), max=base_csv[col_name].max(), value=[0, base_csv[col_name].max()])\n",
    "    cols[col_name] = widget\n",
    "    w = interactive(filter_csv_and_display, {'manual': base_csv.shape[0] > 1000}, **cols)\n",
    "display(w)"
   ]
  },
  {
   "cell_type": "code",
   "execution_count": 6,
   "id": "b7859aa8",
   "metadata": {},
   "outputs": [
    {
     "ename": "NameError",
     "evalue": "name 'psfs' is not defined",
     "output_type": "error",
     "traceback": [
      "\u001b[0;31m---------------------------------------------------------------------------\u001b[0m",
      "\u001b[0;31mNameError\u001b[0m                                 Traceback (most recent call last)",
      "\u001b[0;32m<ipython-input-6-3a50728639e2>\u001b[0m in \u001b[0;36m<module>\u001b[0;34m\u001b[0m\n\u001b[0;32m----> 1\u001b[0;31m \u001b[0meg_psf\u001b[0m \u001b[0;34m=\u001b[0m \u001b[0mpsfs\u001b[0m\u001b[0;34m[\u001b[0m\u001b[0;36m0\u001b[0m\u001b[0;34m]\u001b[0m\u001b[0;34m\u001b[0m\u001b[0;34m\u001b[0m\u001b[0m\n\u001b[0m\u001b[1;32m      2\u001b[0m \u001b[0;34m\u001b[0m\u001b[0m\n\u001b[1;32m      3\u001b[0m \u001b[0;32mimport\u001b[0m \u001b[0mnumpy\u001b[0m \u001b[0;32mas\u001b[0m \u001b[0mnp\u001b[0m\u001b[0;34m\u001b[0m\u001b[0;34m\u001b[0m\u001b[0m\n\u001b[1;32m      4\u001b[0m \u001b[0;34m\u001b[0m\u001b[0m\n\u001b[1;32m      5\u001b[0m \u001b[0;34m\u001b[0m\u001b[0m\n",
      "\u001b[0;31mNameError\u001b[0m: name 'psfs' is not defined"
     ]
    }
   ],
   "source": [
    "eg_psf = psfs[0]\n",
    "\n",
    "import numpy as np\n",
    "\n",
    "\n",
    "def fit_gaussian(psf):\n",
    "    def twoD_Gaussian(coords, amplitude, xo, yo, sigma_x, sigma_y, theta, offset):\n",
    "        (x, y) = coords\n",
    "        xo = float(xo)\n",
    "        yo = float(yo)    \n",
    "        a = (np.cos(theta)**2)/(2*sigma_x**2) + (np.sin(theta)**2)/(2*sigma_y**2)\n",
    "        b = -(np.sin(2*theta))/(4*sigma_x**2) + (np.sin(2*theta))/(4*sigma_y**2)\n",
    "        c = (np.sin(theta)**2)/(2*sigma_x**2) + (np.cos(theta)**2)/(2*sigma_y**2)\n",
    "        g = offset + amplitude*np.exp( - (a*((x-xo)**2) + 2*b*(x-xo)*(y-yo) \n",
    "                                + c*((y-yo)**2)))\n",
    "        return g.ravel()\n",
    "\n",
    "    initial_amp = psf.max()\n",
    "    initial_x0 = psf.shape[-1]//2\n",
    "    initial_y0 = psf.shape[-2]//2\n",
    "    sigma_x = initial_x0/10\n",
    "    sigma_y = initial_y0/10\n",
    "    theta = 1\n",
    "    offset = psf.max() - psf.min()\n",
    "    \n",
    "    initial_guess = (initial_amp, initial_x0, initial_y0, sigma_x, sigma_y, theta, offset)\n",
    "\n",
    "#     data_noisy = data + 0.2*np.random.normal(size=data.shape)\n",
    "\n",
    "    popt, pcov = opt.curve_fit(twoD_Gaussian, (x, y), psf, p0=initial_guess)\n",
    "\n",
    "fit_gaussian(eg_psf)"
   ]
  },
  {
   "cell_type": "code",
   "execution_count": null,
   "id": "e9381fcd",
   "metadata": {},
   "outputs": [],
   "source": []
  },
  {
   "cell_type": "code",
   "execution_count": null,
   "id": "3d1a4643",
   "metadata": {},
   "outputs": [],
   "source": []
  }
 ],
 "metadata": {
  "kernelspec": {
   "display_name": "Python 3",
   "language": "python",
   "name": "python3"
  },
  "language_info": {
   "codemirror_mode": {
    "name": "ipython",
    "version": 3
   },
   "file_extension": ".py",
   "mimetype": "text/x-python",
   "name": "python",
   "nbconvert_exporter": "python",
   "pygments_lexer": "ipython3",
   "version": "3.8.5"
  }
 },
 "nbformat": 4,
 "nbformat_minor": 5
}
