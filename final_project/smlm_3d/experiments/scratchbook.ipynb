{
 "cells": [
  {
   "cell_type": "code",
   "execution_count": 1,
   "id": "91d2f31a",
   "metadata": {},
   "outputs": [
    {
     "name": "stdout",
     "output_type": "stream",
     "text": [
      "Reading img...\n"
     ]
    },
    {
     "name": "stderr",
     "output_type": "stream",
     "text": [
      "  2%|▏         | 150/6192 [00:00<00:04, 1493.58it/s]"
     ]
    },
    {
     "name": "stdout",
     "output_type": "stream",
     "text": [
      "Loading /home/miguel/Projects/uni/data/smlm_3d/20210930_Nuclear_pore/exp2/647_STORM/A2/4631144/../MMStack_Default.ome.tif\n",
      "Loading /home/miguel/Projects/uni/data/smlm_3d/20210930_Nuclear_pore/exp2/647_STORM/A2/4631144/MMStack_Default_final_subset.csv\n",
      "(15000, 128, 128)\n",
      "9999 emitters before filtering\n",
      "6192 emitters after borders\n"
     ]
    },
    {
     "name": "stderr",
     "output_type": "stream",
     "text": [
      "100%|██████████| 6192/6192 [00:04<00:00, 1525.97it/s]\n"
     ]
    }
   ],
   "source": [
    "%load_ext autoreload\n",
    "%autoreload 2\n",
    "\n",
    "\n",
    "from final_project.smlm_3d.config.datasets import dataset_configs\n",
    "from final_project.smlm_3d.data.datasets import GenericDataSet, ExperimentalDataSet\n",
    "\n",
    "\n",
    "class StormDataset(ExperimentalDataSet):\n",
    "    def __init__(self, config, lazy=False, transform_data=False, normalize_psf=True):\n",
    "        super().__init__(config, filter_localisations=False, lazy=True, transform_data=transform_data, normalize_psf=normalize_psf)\n",
    "        self.filter_emitters_proximity=False\n",
    "        self.filter_emitters_edges=True\n",
    "        print(self.img.shape)\n",
    "        if not lazy:\n",
    "            self.prepare_data()\n",
    "\n",
    "cfg = dataset_configs['nuclear_pore']['a2']\n",
    "storm_ds = StormDataset(cfg)\n"
   ]
  },
  {
   "cell_type": "code",
   "execution_count": 4,
   "id": "d402879b",
   "metadata": {},
   "outputs": [
    {
     "data": {
      "text/plain": [
       "(6192, 32, 32, 1)"
      ]
     },
     "execution_count": 4,
     "metadata": {},
     "output_type": "execute_result"
    }
   ],
   "source": [
    "storm_ds.data[0].shape"
   ]
  },
  {
   "cell_type": "code",
   "execution_count": null,
   "id": "2b82546a",
   "metadata": {},
   "outputs": [],
   "source": []
  }
 ],
 "metadata": {
  "kernelspec": {
   "display_name": "Python 3",
   "language": "python",
   "name": "python3"
  },
  "language_info": {
   "codemirror_mode": {
    "name": "ipython",
    "version": 3
   },
   "file_extension": ".py",
   "mimetype": "text/x-python",
   "name": "python",
   "nbconvert_exporter": "python",
   "pygments_lexer": "ipython3",
   "version": "3.8.5"
  }
 },
 "nbformat": 4,
 "nbformat_minor": 5
}
