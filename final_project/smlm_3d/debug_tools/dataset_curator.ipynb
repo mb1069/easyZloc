{
 "cells": [
  {
   "cell_type": "code",
   "execution_count": 1,
   "id": "e5d2ba2e",
   "metadata": {
    "scrolled": false
   },
   "outputs": [
    {
     "name": "stderr",
     "output_type": "stream",
     "text": [
      "<ipython-input-1-c593d87ac90b>:70: RuntimeWarning: invalid value encountered in true_divide\n",
      "  img = (img - img.min()) / (img.max() - img.min())\n"
     ]
    },
    {
     "data": {
      "application/vnd.jupyter.widget-view+json": {
       "model_id": "8881f56872c5455181ac0562b3c76590",
       "version_major": 2,
       "version_minor": 0
      },
      "text/plain": [
       "VBox(children=(HBox(children=(VBox(children=(Image(value=b\"\\x89PNG\\r\\n\\x1a\\n\\x00\\x00\\x00\\rIHDR\\x00\\x00\\x00 \\x0…"
      ]
     },
     "metadata": {},
     "output_type": "display_data"
    },
    {
     "name": "stdout",
     "output_type": "stream",
     "text": [
      "{4.0}\n",
      "{8.0, 4.0}\n",
      "{8.0, 34.0, 4.0}\n",
      "{8.0, 34.0, 4.0, 70.0}\n",
      "{34.0, 4.0, 70.0, 8.0, 74.0}\n",
      "{34.0, 4.0, 70.0, 8.0, 74.0, 95.0}\n",
      "{34.0, 4.0, 70.0, 8.0, 74.0, 127.0, 95.0}\n",
      "{34.0, 4.0, 70.0, 8.0, 74.0, 149.0, 127.0, 95.0}\n",
      "{34.0, 4.0, 70.0, 8.0, 74.0, 149.0, 152.0, 127.0, 95.0}\n",
      "{34.0, 4.0, 70.0, 8.0, 74.0, 149.0, 152.0, 155.0, 127.0, 95.0}\n",
      "{34.0, 4.0, 70.0, 8.0, 74.0, 174.0, 149.0, 152.0, 155.0, 127.0, 95.0}\n",
      "{34.0, 4.0, 70.0, 8.0, 74.0, 187.0, 174.0, 149.0, 152.0, 155.0, 127.0, 95.0}\n"
     ]
    }
   ],
   "source": [
    "%load_ext autoreload\n",
    "%autoreload 2\n",
    "from final_project.smlm_3d.data.visualise import scatter_3d, scatter_yz, show_psf_axial, plot_with_sphere, grid_psfs\n",
    "from final_project.smlm_3d.data.datasets import ExperimentalDataSet, TrainingDataSet\n",
    "\n",
    "from final_project.smlm_3d.config.datasets import dataset_configs\n",
    "from final_project.smlm_3d.data.estimate_offset import remove_bg\n",
    "import matplotlib.pyplot as plt\n",
    "import numpy as np\n",
    "import pandas as pd\n",
    "import ipywidgets as widgets\n",
    "from IPython.display import display, clear_output\n",
    "from functools import partial\n",
    "from PIL import Image\n",
    "\n",
    "from io import BytesIO\n",
    "\n",
    "def showarray(a, fmt='png'):\n",
    "    f = BytesIO()\n",
    "    Image.fromarray(a).save(f, fmt)\n",
    "    return f.getvalue()\n",
    "    \n",
    "plt.rcParams['figure.figsize'] = [3, 5]\n",
    "dataset = 'olympus'\n",
    "cfg = dataset_configs[dataset]['experimental']\n",
    "cfg['csv'] = cfg['csv'].replace('_filtered', '')\n",
    "ds = ExperimentalDataSet(cfg, transform_data=False, lazy=True)\n",
    "ds.prepare_debug()\n",
    "\n",
    "ds.filter_emitters_proximity = False\n",
    "if 'id' not in list(ds.csv_data):\n",
    "    ds.csv_data['id'] = list(range(ds.csv_data.shape[0]))\n",
    "\n",
    "ROWS = 1000\n",
    "COLS = 5\n",
    "IMG_WIDTH, IMG_HEIGHT = 64, 64\n",
    "\n",
    "n_psfs = ds.csv_data.shape[0]\n",
    "\n",
    "psfs = []\n",
    "ds.prepare_debug()\n",
    "for i in range(n_psfs):\n",
    "    psf, _, _, z, _ = ds.debug_emitter(i, 10000)\n",
    "    idx = np.argmin(abs(z))\n",
    "    psf = remove_bg(psf)\n",
    "    psfs.append(psf[idx])\n",
    "psfs = np.stack(psfs)\n",
    "print(psfs.shape, n_psfs)\n",
    "psfs *= 255 * 255\n",
    "psfs = np.uint16(psfs)\n",
    "psfs = [p for p in psfs]\n",
    "\n",
    "selected_ids = set()\n",
    "def on_click(*args, **kwargs):\n",
    "    selected_ids.add(args[0])\n",
    "    print(selected_ids)\n",
    "\n",
    "def show_all_psfs():\n",
    "    clear_output()\n",
    "    n_psfs = ds.csv_data.shape[0]\n",
    "\n",
    "    rows = []\n",
    "    for row in range(ROWS):\n",
    "        finished = False\n",
    "        cols = []\n",
    "        for col in range(COLS):\n",
    "            index = row * COLS + col\n",
    "            try:\n",
    "                img = psfs[index]\n",
    "                img = (img - img.min()) / (img.max() - img.min())\n",
    "                img = (img*255*255).astype(np.uint16)\n",
    "                im_data = showarray(img)\n",
    "            except IndexError:\n",
    "                finished = True\n",
    "                break\n",
    "            image = widgets.Image(\n",
    "                value=im_data, width=IMG_WIDTH, height=IMG_HEIGHT\n",
    "            )\n",
    "            psf_id = ds.csv_data.iloc[index]['id']\n",
    "            button = widgets.Button(description='Image %d' % psf_id)\n",
    "            # Bind the click event to the on_click function, with our index as argument\n",
    "            button.on_click(partial(on_click, psf_id))\n",
    "\n",
    "            # Create a vertical layout box, image above the button\n",
    "            box = widgets.VBox([image, button])\n",
    "            cols.append(box)\n",
    "\n",
    "        # Create a horizontal layout box, grouping all the columns together\n",
    "        rows.append(widgets.HBox(cols))\n",
    "        if finished:\n",
    "            break\n",
    "    # Create a vertical layout box, grouping all the rows together\n",
    "    result = widgets.VBox(rows)\n",
    "    display(result)\n",
    "    \n",
    "show_all_psfs()\n",
    "    "
   ]
  },
  {
   "cell_type": "code",
   "execution_count": 2,
   "id": "c83cf3dc",
   "metadata": {},
   "outputs": [
    {
     "name": "stdout",
     "output_type": "stream",
     "text": [
      "Rows 20 Cols 10 n_spaces 200 n_psfs 197\n"
     ]
    },
    {
     "data": {
      "image/png": "[encoded data removed]",
      "text/plain": [
       "<Figure size 216x360 with 1 Axes>"
      ]
     },
     "metadata": {
      "needs_background": "light"
     },
     "output_type": "display_data"
    }
   ],
   "source": [
    "plt.imshow(grid_psfs(psfs))\n",
    "plt.show()"
   ]
  },
  {
   "cell_type": "code",
   "execution_count": 3,
   "id": "586a2929",
   "metadata": {
    "scrolled": true
   },
   "outputs": [
    {
     "name": "stdout",
     "output_type": "stream",
     "text": [
      "(197, 10)\n"
     ]
    }
   ],
   "source": [
    "print(ds.csv_data.shape)\n",
    "\n",
    "selected_ids = [int(s) for s in sorted(selected_ids)]\n",
    "if len(selected_ids) == 0:\n",
    "    raise Exception\n",
    "ds.csv_data = ds.csv_data[~ds.csv_data['id'].isin(selected_ids)]\n",
    "# for i in sorted(selected_ids):\n",
    "#     ds.csv_data.drop(i, inplace=True)"
   ]
  },
  {
   "cell_type": "code",
   "execution_count": 4,
   "id": "08f53449",
   "metadata": {},
   "outputs": [
    {
     "name": "stdout",
     "output_type": "stream",
     "text": [
      "/home/miguel/Projects/uni/data/smlm_3d/bead_3D_STORM_three_instruments/20210723_Olympus_beads/1mm_beads_agarose_centre_1/1mm_beads_agarose_centre_1_MMStack_Default_substack_filtered_2.csv\n"
     ]
    }
   ],
   "source": [
    "import os\n",
    "csv_path = os.path.join(cfg['bpath'], cfg['csv'].replace('.csv', '_filtered_2.csv'))\n",
    "ds.csv_data.to_csv(csv_path)\n",
    "print(csv_path)"
   ]
  },
  {
   "cell_type": "code",
   "execution_count": null,
   "id": "2e5e9159",
   "metadata": {},
   "outputs": [],
   "source": []
  }
 ],
 "metadata": {
  "kernelspec": {
   "display_name": "Python 3",
   "language": "python",
   "name": "python3"
  },
  "language_info": {
   "codemirror_mode": {
    "name": "ipython",
    "version": 3
   },
   "file_extension": ".py",
   "mimetype": "text/x-python",
   "name": "python",
   "nbconvert_exporter": "python",
   "pygments_lexer": "ipython3",
   "version": "3.8.5"
  }
 },
 "nbformat": 4,
 "nbformat_minor": 5
}
