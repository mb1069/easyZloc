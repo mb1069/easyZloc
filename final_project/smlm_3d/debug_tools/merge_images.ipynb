{
 "cells": [
  {
   "cell_type": "code",
   "execution_count": 6,
   "id": "30cdc0e9",
   "metadata": {},
   "outputs": [
    {
     "name": "stdout",
     "output_type": "stream",
     "text": [
      "0um_1_MMStack_Default.ome.tif (500, 900, 900)\n",
      "2um_1_MMStack_Default.ome.tif (500, 900, 900)\n",
      "4um_11_MMStack_Default.ome.tif (500, 900, 900)\n",
      "6um_1_MMStack_Default.ome.tif (500, 900, 900)\n",
      "8um_1_MMStack_Default.ome.tif (500, 900, 900)\n",
      "10um_1_MMStack_Default.ome.tif (500, 900, 900)\n",
      "12um_1_MMStack_Default.ome.tif (500, 900, 900)\n",
      "14um_1_MMStack_Default.ome.tif (500, 900, 900)\n",
      "16um_1_MMStack_Default.ome.tif (500, 900, 900)\n"
     ]
    }
   ],
   "source": [
    "from natsort import natsorted\n",
    "import glob\n",
    "import os\n",
    "from tifffile import imread, imwrite\n",
    "import numpy as np\n",
    "\n",
    "dirname = '/home/miguel/Projects/uni/data/smlm_3d/20220408_nup96_tubulin_simultaneous_STORM/Miguel_sphere_500_frames_every_2um'\n",
    "\n",
    "img_glob = dirname + '/*/*.tif'\n",
    "\n",
    "imgs = natsorted(glob.glob(img_glob))\n",
    "\n",
    "total_img = []\n",
    "for impath in imgs:\n",
    "    if '4um_10nm_647_beads' in impath:\n",
    "        continue\n",
    "    img = imread(impath)\n",
    "    print(os.path.basename(impath), img.shape)\n",
    "    total_img.append(img)\n",
    "\n",
    "total_img = np.concatenate(total_img)"
   ]
  },
  {
   "cell_type": "code",
   "execution_count": 9,
   "id": "f373e71b",
   "metadata": {},
   "outputs": [],
   "source": [
    "outpath = '/home/miguel/Projects/uni/data/smlm_3d/20220408_nup96_tubulin_simultaneous_STORM/Miguel_sphere_500_frames_every_2um/concat'\n",
    "\n",
    "out_imgpath = outpath + '/' + 'concat.ome.tif'\n",
    "\n",
    "imwrite(out_imgpath, total_img, compress=6)"
   ]
  },
  {
   "cell_type": "code",
   "execution_count": null,
   "id": "a4e53832",
   "metadata": {},
   "outputs": [],
   "source": []
  }
 ],
 "metadata": {
  "kernelspec": {
   "display_name": "Python 3",
   "language": "python",
   "name": "python3"
  },
  "language_info": {
   "codemirror_mode": {
    "name": "ipython",
    "version": 3
   },
   "file_extension": ".py",
   "mimetype": "text/x-python",
   "name": "python",
   "nbconvert_exporter": "python",
   "pygments_lexer": "ipython3",
   "version": "3.8.5"
  }
 },
 "nbformat": 4,
 "nbformat_minor": 5
}
