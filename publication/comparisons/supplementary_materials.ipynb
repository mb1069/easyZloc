{
 "cells": [
  {
   "cell_type": "code",
   "execution_count": 1,
   "id": "a85a0203",
   "metadata": {},
   "outputs": [
    {
     "name": "stderr",
     "output_type": "stream",
     "text": [
      "  2%|█                                        | 62/2531 [00:02<01:43, 23.93it/s]\n",
      "\n",
      "KeyboardInterrupt\n",
      "\n"
     ]
    }
   ],
   "source": [
    "import matplotlib.pyplot as plt\n",
    "from glob import glob\n",
    "from tqdm import tqdm\n",
    "\n",
    "def is_valid_img(img):\n",
    "    for x in [200, 450, 800]:\n",
    "        if img[500:550, x:x+50, :].mean() == 1.0:\n",
    "            return False\n",
    "    return True\n",
    "\n",
    "kept_imgs = []\n",
    "for imname in tqdm(sorted(glob('comparison_plots/*.png'))):\n",
    "    img = plt.imread(imname)\n",
    "    if is_valid_img(img):\n",
    "        kept_imgs.append(img)\n",
    "#     else:\n",
    "#         plt.imshow(img)\n",
    "#         plt.show()\n"
   ]
  },
  {
   "cell_type": "code",
   "execution_count": null,
   "id": "1265798c",
   "metadata": {},
   "outputs": [],
   "source": [
    "import os\n",
    "import subprocess\n",
    "folder = './video'\n",
    "os.makedirs(folder, exist_ok=True)\n",
    "from tqdm import trange\n",
    "\n",
    "def generate_video(img):\n",
    "    for i in trange(len(img)):\n",
    "        plt.imshow(img[i])\n",
    "        plt.savefig(folder + \"/file%06d.png\" % i)\n",
    "        plt.close()\n",
    "\n",
    "    os.chdir(folder)\n",
    "    subprocess.call([\n",
    "        'ffmpeg', '-framerate', '4', '-i', 'file%06d.png', '-r', '30', '-pix_fmt', 'yuv420p',\n",
    "        'video_name.mp4'\n",
    "    ])\n",
    "#     for file_name in glob.glob(\"*.png\"):\n",
    "#         os.remove(file_name)\n",
    "\n",
    "generate_video(kept_imgs)"
   ]
  },
  {
   "cell_type": "code",
   "execution_count": 117,
   "id": "f6121d8f",
   "metadata": {},
   "outputs": [],
   "source": [
    "import pandas as pd\n",
    "import seaborn as sns\n",
    "import matplotlib.pyplot as plt\n",
    "import numpy as np\n",
    "matplotlib.rcParams.update({'font.size': 16})\n",
    "\n",
    "df = pd.read_csv('test/selected/bead_data.csv')\n",
    "df = df.sort_values(['id'])\n",
    "sns.scatterplot(data=df, x='x', y='y', hue='Selected')\n",
    "plt.xlabel('x (normalised)')\n",
    "plt.ylabel('y (normalised)')\n",
    "plt.tight_layout()\n",
    "\n",
    "df = df[df['Selected']==True]\n",
    "df['id'] = np.arange(4).astype(int) + 1\n",
    "\n",
    "def label_point(x, y, val, ax):\n",
    "    a = pd.concat({'x': x, 'y': y, 'val': val}, axis=1)\n",
    "    for i, point in a.iterrows():\n",
    "        ax.text(point['x']+.02, point['y'], str(int(point['val'])))\n",
    "\n",
    "label_point(df.x, df.y, df.id, plt.gca()) \n",
    "\n",
    "\n",
    "plt.savefig('./bead_data_xy.png')\n",
    "plt.close()"
   ]
  },
  {
   "cell_type": "code",
   "execution_count": 31,
   "id": "60a9bd92-3a7c-4e7b-a122-8b437d5f82c4",
   "metadata": {
    "scrolled": true
   },
   "outputs": [
    {
     "name": "stdout",
     "output_type": "stream",
     "text": [
      "test/selected/test_bead_4.png\n",
      "(715, 416, 4)\n",
      "test/selected/test_bead_38.png\n",
      "(715, 416, 4)\n",
      "test/selected/test_bead_62.png\n",
      "(715, 416, 4)\n",
      "test/selected/test_bead_89.png\n",
      "(715, 416, 4)\n"
     ]
    }
   ],
   "source": [
    "from glob import glob\n",
    "import matplotlib\n",
    "from natsort import natsorted\n",
    "import matplotlib.pyplot as plt\n",
    "matplotlib.rcParams.update({'font.size': 16})\n",
    "i = 1\n",
    "for impath in natsorted(glob('test/selected/test_bead*.png')):\n",
    "    print(impath)\n",
    "    img = plt.imread(impath)\n",
    "    img = img[35:750, 64:480, :]\n",
    "    print(img.shape)\n",
    "    plt.gca().text(0, 950, str(i))\n",
    "    i += 1\n",
    "    plt.imshow(img, extent=[-1100, 1100, -1100, 1100], aspect=img.shape[0]/img.shape[1])\n",
    "    plt.plot([-1000, 1000], [-1040, 983], c='orange', linewidth=4, alpha=0.5)\n",
    "    plt.xlabel('Estimated true z (nm)')\n",
    "    plt.ylabel('Predicted z (nm)')\n",
    "    plt.tight_layout()\n",
    "    plt.savefig(impath.replace('test_bead', 'fig'), bbox_inches='tight', pad_inches=0)\n",
    "    plt.close()\n"
   ]
  }
 ],
 "metadata": {
  "kernelspec": {
   "display_name": "Python 3 (ipykernel)",
   "language": "python",
   "name": "python3"
  },
  "language_info": {
   "codemirror_mode": {
    "name": "ipython",
    "version": 3
   },
   "file_extension": ".py",
   "mimetype": "text/x-python",
   "name": "python",
   "nbconvert_exporter": "python",
   "pygments_lexer": "ipython3",
   "version": "3.11.5"
  }
 },
 "nbformat": 4,
 "nbformat_minor": 5
}
