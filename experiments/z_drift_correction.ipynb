{
 "cells": [
  {
   "cell_type": "code",
   "execution_count": null,
   "id": "99450f16-5c15-4979-bb14-64711026e0a2",
   "metadata": {},
   "outputs": [],
   "source": [
    "import pandas as pd\n",
    "import seaborn as sns\n",
    "import h5py\n",
    "import numpy as np\n",
    "\n",
    "# locs_path = '/home/miguel/Projects/smlm_z/autofocus/VIT_zeiss_lowsnr_data/out_resnet_fov-max_aug11/out_nup/locs_3d.hdf5'\n",
    "# locs_path = '/home/miguel/Projects/smlm_z/autofocus/VIT_zeiss_lowsnr_data/out_33/out_nup/locs_3d.hdf5'\n",
    "locs_path = '/home/miguel/Projects/smlm_z/autofocus/VIT_zeiss_lowsnr_data/out_24_nvidia6/out_nup/locs_3d.hdf5'\n",
    "# locs_path = '/home/miguel/Projects/smlm_z/publication/VIT_fd-loco3/out_3/out_nup/locs_3d.hdf5'\n",
    "df = pd.read_hdf(locs_path, key='locs')\n",
    "\n"
   ]
  },
  {
   "cell_type": "code",
   "execution_count": null,
   "id": "1ba9e39a-5972-4600-af08-9cbe00e27bff",
   "metadata": {},
   "outputs": [],
   "source": [
    "list(df)"
   ]
  },
  {
   "cell_type": "code",
   "execution_count": null,
   "id": "1875ef56-aa1c-4185-a8b3-68f70ebf818b",
   "metadata": {},
   "outputs": [],
   "source": [
    "sns.scatterplot(data=df, x='x [nm]', y='y [nm]', hue='group')"
   ]
  },
  {
   "cell_type": "code",
   "execution_count": null,
   "id": "db1ca821-96a7-4a56-ad92-54af2c987092",
   "metadata": {},
   "outputs": [],
   "source": [
    "sns.scatterplot(data=df.groupby('frame').mean(), x='frame', y='z [nm]', alpha=0.05, label='z locs (nm)')"
   ]
  },
  {
   "cell_type": "code",
   "execution_count": null,
   "id": "2d979228-d5a1-4575-88e3-e648c4fc945e",
   "metadata": {},
   "outputs": [],
   "source": [
    "from scipy.interpolate import splrep, BSpline\n",
    "import matplotlib.pyplot as plt\n",
    "rcc = 500\n",
    "def frame_center(x):\n",
    "    return x.left + (rcc/2)\n",
    "    \n",
    "df['frame_bin'] = (pd.cut(df['frame'].astype(int), np.arange(0, df['frame'].max()+rcc, rcc), include_lowest=True))\n",
    "df_group_bin = df.groupby('frame_bin').mean().reset_index()\n",
    "df_group_bin['frame_bin_center'] = df_group_bin['frame_bin'].map(frame_center)\n",
    "\n",
    "sns.scatterplot(data=df_group_bin, x='frame_bin_center', y='z [nm]', label='Mean z pos (nm)')\n",
    "from scipy.interpolate import CubicSpline\n",
    "\n",
    "x = df_group_bin['frame_bin_center']\n",
    "y = df_group_bin['z [nm]']\n",
    "spline = BSpline(*splrep(x, y, s=len(y)*100))\n",
    "\n",
    "_x = np.arange(df['frame'].min(), df['frame'].max()+1)\n",
    "_y = spline(_x)\n",
    "sns.lineplot(x=_x, y=_y, label='Spline fit')\n",
    "plt.show()"
   ]
  },
  {
   "cell_type": "code",
   "execution_count": null,
   "id": "ca25f580-f2b9-422b-a27e-ab45cc802f7e",
   "metadata": {},
   "outputs": [],
   "source": [
    "df2 = df.copy(deep=True)\n",
    "del df2['frame_bin']\n",
    "del df2['index']\n",
    "df2['z [nm]'] -= df2['frame'].map(lambda f: _y[f])\n",
    "sns.scatterplot(data=df2.groupby('frame').mean(), x='frame', y='z [nm]', alpha=0.02, label='raw drift')\n"
   ]
  },
  {
   "cell_type": "code",
   "execution_count": null,
   "id": "87a43b53-83c0-4e6b-a8b7-e1de1a38fcf3",
   "metadata": {},
   "outputs": [],
   "source": [
    "sns.histplot(data=df, x='z [nm]')\n",
    "plt.show()\n",
    "sns.histplot(data=df2, x='z [nm]')\n",
    "plt.show()"
   ]
  },
  {
   "cell_type": "code",
   "execution_count": null,
   "id": "0ef03240-b05b-452c-a243-ff67bc114374",
   "metadata": {},
   "outputs": [],
   "source": [
    "df2.shape"
   ]
  },
  {
   "cell_type": "code",
   "execution_count": null,
   "id": "404125ea-353a-4e46-91f1-5eba364ee44c",
   "metadata": {},
   "outputs": [],
   "source": [
    "import h5py\n",
    "import shutil\n",
    "locs_undrift_path = locs_path.replace('locs_3d.hdf5', f'locs_3d_undrift_z_rcc{rcc}.hdf5')\n",
    "\n",
    "with h5py.File(locs_undrift_path, \"w\") as locs_file:\n",
    "    locs_file.create_dataset(\"locs\", data=df2.to_records())\n",
    "shutil.copyfile(locs_path.replace('.hdf5', '.yaml'), locs_undrift_path.replace('.hdf5', '.yaml'))"
   ]
  }
 ],
 "metadata": {
  "kernelspec": {
   "display_name": "Python 3 (ipykernel)",
   "language": "python",
   "name": "python3"
  },
  "language_info": {
   "codemirror_mode": {
    "name": "ipython",
    "version": 3
   },
   "file_extension": ".py",
   "mimetype": "text/x-python",
   "name": "python",
   "nbconvert_exporter": "python",
   "pygments_lexer": "ipython3",
   "version": "3.11.6"
  }
 },
 "nbformat": 4,
 "nbformat_minor": 5
}
