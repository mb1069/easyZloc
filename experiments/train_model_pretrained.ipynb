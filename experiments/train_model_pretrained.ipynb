{
 "cells": [
  {
   "cell_type": "markdown",
   "id": "caa75045",
   "metadata": {},
   "source": [
    "# 1. Data preparation"
   ]
  },
  {
   "cell_type": "code",
   "execution_count": 1,
   "id": "e3c826d7",
   "metadata": {
    "scrolled": true
   },
   "outputs": [
    {
     "name": "stdout",
     "output_type": "stream",
     "text": [
      "Loaded spots...\n"
     ]
    },
    {
     "name": "stderr",
     "output_type": "stream",
     "text": [
      "\r",
      "  0%|          | 0/93 [00:00<?, ?it/s]"
     ]
    },
    {
     "name": "stdout",
     "output_type": "stream",
     "text": [
      "Aligning (94, 41, 31, 31) psfs...\n"
     ]
    },
    {
     "name": "stderr",
     "output_type": "stream",
     "text": [
      "100%|██████████| 93/93 [00:18<00:00,  5.05it/s]\n"
     ]
    },
    {
     "name": "stdout",
     "output_type": "stream",
     "text": [
      "Prepared stacks...\n",
      "masking\n",
      "Adding noise... 30\n",
      "0.0 2290.7545568738624\n",
      "195 2110\n",
      "195 1648\n",
      "Standardising using\n",
      " \tmean: 0.003320366880867502\n",
      " \tstd 0.0007165275906944611\n"
     ]
    }
   ],
   "source": [
    "%load_ext autoreload\n",
    "%autoreload 2\n",
    "\n",
    "from data.datasets import TrainingPicassoDataset\n",
    "from config.datasets import dataset_configs\n",
    "\n",
    "z_range = 1000\n",
    "dataset = 'picasso_test'\n",
    "train_dataset = TrainingPicassoDataset(dataset_configs[dataset]['training'], z_range)\n",
    "\n",
    "import matplotlib.pyplot as plt\n",
    "plt.rcParams['figure.figsize'] = [15, 5]\n",
    "\n"
   ]
  },
  {
   "cell_type": "code",
   "execution_count": 2,
   "id": "bf7e9507",
   "metadata": {},
   "outputs": [
    {
     "name": "stdout",
     "output_type": "stream",
     "text": [
      "(77345, 32, 32, 1)\n",
      "(713, 32, 32, 1)\n",
      "(357, 32, 32, 1)\n"
     ]
    }
   ],
   "source": [
    "import numpy as np\n",
    "from skimage.transform import resize\n",
    "\n",
    "for k in train_dataset.data.keys():\n",
    "#     train_dataset.data[k][0][0] = np.repeat(train_dataset.data[k][0][0], 3, axis=-1)\n",
    "    train_dataset.data[k][0][0] = np.stack([resize(img, (32, 32, 1), anti_aliasing=True) for img in train_dataset.data[k][0][0]])\n",
    "    print(train_dataset.data[k][0][0].shape)"
   ]
  },
  {
   "cell_type": "markdown",
   "id": "8179860b",
   "metadata": {},
   "source": [
    "# 2. Training the model\n"
   ]
  },
  {
   "cell_type": "code",
   "execution_count": 3,
   "id": "a9f451dc",
   "metadata": {},
   "outputs": [],
   "source": [
    "TRAIN_NEW_MODEL = True"
   ]
  },
  {
   "cell_type": "code",
   "execution_count": 4,
   "id": "c0fca688",
   "metadata": {},
   "outputs": [],
   "source": [
    "# resnet34\n"
   ]
  },
  {
   "cell_type": "code",
   "execution_count": 5,
   "id": "1d5d671b",
   "metadata": {},
   "outputs": [],
   "source": [
    "# class ResBlock(Model):\n",
    "#     def __init__(self, channels, stride=1, name='ResBlock'):\n",
    "#         super(ResBlock, self).__init__(name=name)\n",
    "#         self.flag = (stride != 1)\n",
    "#         self.conv1 = Conv2D(channels, 3, stride, padding='same')\n",
    "#         self.bn1 = BatchNormalization()\n",
    "#         self.conv2 = Conv2D(channels, 3, padding='same')\n",
    "#         self.bn2 = BatchNormalization()\n",
    "#         self.relu = ReLU()\n",
    "#         if self.flag:\n",
    "#             self.bn3 = BatchNormalization()\n",
    "#             self.conv3 = Conv2D(channels, 1, stride)\n",
    "\n",
    "#     def call(self, x):\n",
    "#         x1 = self.conv1(x)\n",
    "#         x1 = self.bn1(x1)\n",
    "#         x1 = self.relu(x1)\n",
    "#         x1 = self.conv2(x1)\n",
    "#         x1 = self.bn2(x1)\n",
    "#         if self.flag:\n",
    "#             x = self.conv3(x)\n",
    "#             x = self.bn3(x)\n",
    "#         x1 = Layers.add([x, x1])\n",
    "#         x1 = self.relu(x1)\n",
    "#         return x1\n",
    "    \n",
    "# def resnet_model(bound):\n",
    "#     print(f'Loading functional resnet with bound {bound}')\n",
    "#     img_input = Input((bound, bound, 3))\n",
    "#     coords_input = Input((2,))\n",
    "# #     augment_data = Sequential([\n",
    "# #         RandomTranslation(1/bound, 1/bound)\n",
    "# #     ])\n",
    "    \n",
    "#     feature_extraction = Sequential([\n",
    "#         Conv2D(64, 7, 2, padding='same'),\n",
    "#         BatchNormalization(),\n",
    "#         ReLU(),\n",
    "#         MaxPooling2D(3, 2),\n",
    "#         ResBlock(64, name='ResBlock64_1'),\n",
    "#         ResBlock(64, name='ResBlock64_2'),\n",
    "#         ResBlock(64, name='ResBlock64_3'),\n",
    "#         ResBlock(128, 2, name='ResBlock128_1'),\n",
    "#         ResBlock(128, name='ResBlock128_2'),\n",
    "#         ResBlock(128, name='ResBlock128_3'),\n",
    "#         ResBlock(128, name='ResBlock128_4'),\n",
    "#         ResBlock(256, 2, name='ResBlock256_1'),\n",
    "#         ResBlock(256, name='ResBlock256_2'),\n",
    "#         ResBlock(256, name='ResBlock256_3'),\n",
    "#         ResBlock(256, name='ResBlock256_4'),\n",
    "#         ResBlock(256, name='ResBlock256_5'),\n",
    "#         ResBlock(256, name='ResBlock256_6'),\n",
    "#         ResBlock(512, 2, name='ResBlock512_1'),\n",
    "#         ResBlock(512, name='ResBlock512_2'),\n",
    "#         ResBlock(512, name='ResBlock512_3'),\n",
    "#         GlobalAveragePooling2D()\n",
    "#     ])\n",
    "    \n",
    "#     mlp = Sequential([\n",
    "#         Dense(1024),\n",
    "#         Dropout(0.5),\n",
    "#         Dense(1024),\n",
    "#         Dropout(0.5),\n",
    "#         Dense(1)\n",
    "#     ])\n",
    "    \n",
    "# #     x = augment_data(img_input)\n",
    "#     x = feature_extraction(img_input)\n",
    "#     x = mlp(x)\n",
    "    \n",
    "#     model =  Model(inputs=img_input, outputs=x)\n",
    "#     model.compile(loss='mean_squared_error',optimizer=keras.optimizers.Adam(learning_rate=lr, decay=1e-6),metrics=['mean_absolute_error'])\n",
    "\n",
    "#     return model\n"
   ]
  },
  {
   "cell_type": "code",
   "execution_count": 6,
   "id": "50caca72",
   "metadata": {},
   "outputs": [],
   "source": [
    "####\n",
    "# ResNet50V2\n",
    "# Mean error 27.99669260727733\n",
    "# std error 22.314346799801278\n",
    "\n",
    "# ResNet101V2\n",
    "# Mean error 22.672933114202397\n",
    "# std error 15.972837859084999\n"
   ]
  },
  {
   "cell_type": "code",
   "execution_count": 7,
   "id": "61f3d537",
   "metadata": {},
   "outputs": [
    {
     "name": "stdout",
     "output_type": "stream",
     "text": [
      "(None, 2048)\n",
      "Model: \"model\"\n",
      "__________________________________________________________________________________________________\n",
      " Layer (type)                   Output Shape         Param #     Connected to                     \n",
      "==================================================================================================\n",
      " input_1 (InputLayer)           [(None, 32, 32, 1)]  0           []                               \n",
      "                                                                                                  \n",
      " resnet101v2 (Functional)       (None, 2048)         42620288    ['input_1[0][0]']                \n",
      "                                                                                                  \n",
      " input_2 (InputLayer)           [(None, 2)]          0           []                               \n",
      "                                                                                                  \n",
      " tf.concat (TFOpLambda)         (None, 2050)         0           ['resnet101v2[0][0]',            \n",
      "                                                                  'input_2[0][0]']                \n",
      "                                                                                                  \n",
      " sequential (Sequential)        (None, 1)            3150849     ['tf.concat[0][0]']              \n",
      "                                                                                                  \n",
      "==================================================================================================\n",
      "Total params: 45,771,137\n",
      "Trainable params: 45,673,473\n",
      "Non-trainable params: 97,664\n",
      "__________________________________________________________________________________________________\n",
      "None\n"
     ]
    }
   ],
   "source": [
    "import tensorflow as tf\n",
    "from tensorflow.keras.layers import BatchNormalization, ReLU\n",
    "from tensorflow.keras import Model, Sequential\n",
    "from tensorflow.keras import layers as Layers\n",
    "from tensorflow.keras.layers import Dense, Dropout, Input\n",
    "from tensorflow.keras.layers import MaxPooling2D, GlobalAveragePooling2D, Conv2D\n",
    "from tensorflow import keras\n",
    "\n",
    "bound = 32\n",
    "def get_pretrained_model():\n",
    "    img_input_shape = (bound, bound, 1)\n",
    "    img_input = Input(img_input_shape)\n",
    "    coords_input = Input((2,))\n",
    "\n",
    "    resnet = tf.keras.applications.resnet_v2.ResNet101V2(\n",
    "            include_top=False,\n",
    "            weights=None,\n",
    "            pooling='avg',\n",
    "            input_shape=img_input_shape\n",
    "        )\n",
    "    x = resnet(img_input)\n",
    "    \n",
    "    print(x.shape)\n",
    "\n",
    "    mlp = Sequential([\n",
    "        Dense(1024),\n",
    "        Dropout(0.5),\n",
    "        Dense(1024),\n",
    "        Dropout(0.5),\n",
    "        Dense(1)\n",
    "    ])\n",
    "    x = tf.concat((x, coords_input), axis=1)\n",
    "    x = mlp(x)\n",
    "    \n",
    "    return Model(inputs=(img_input, coords_input), outputs=x)\n",
    "\n",
    "model = get_pretrained_model()\n",
    "lr=0.01\n",
    "model.compile(loss='mean_squared_error',optimizer=keras.optimizers.Adam(learning_rate=lr, decay=1e-6),metrics=['mean_absolute_error'])\n",
    "\n",
    "print(model.summary())"
   ]
  },
  {
   "cell_type": "code",
   "execution_count": 9,
   "id": "a8d46522",
   "metadata": {},
   "outputs": [
    {
     "name": "stdout",
     "output_type": "stream",
     "text": [
      "The autoreload extension is already loaded. To reload it, use:\n",
      "  %reload_ext autoreload\n"
     ]
    },
    {
     "data": {
      "application/vnd.jupyter.widget-view+json": {
       "model_id": "81c3350f6c004e9d9559ee383703804f",
       "version_major": 2,
       "version_minor": 0
      },
      "text/plain": [
       "HBox(children=(HTML(value=''), FloatProgress(value=1.0, bar_style='info', layout=Layout(width='20px'), max=1.0…"
      ]
     },
     "metadata": {},
     "output_type": "display_data"
    },
    {
     "data": {
      "application/vnd.jupyter.widget-view+json": {
       "model_id": "c9690cb6e4f84ef0bd398053129035e2",
       "version_major": 2,
       "version_minor": 0
      },
      "text/plain": [
       "HBox(children=(HTML(value=''), FloatProgress(value=1.0, bar_style='info', layout=Layout(width='20px'), max=1.0…"
      ]
     },
     "metadata": {},
     "output_type": "display_data"
    },
    {
     "name": "stderr",
     "output_type": "stream",
     "text": [
      "IOPub message rate exceeded.\n",
      "The notebook server will temporarily stop sending output\n",
      "to the client in order to avoid crashing it.\n",
      "To change this limit, set the config variable\n",
      "`--NotebookApp.iopub_msg_rate_limit`.\n",
      "\n",
      "Current values:\n",
      "NotebookApp.iopub_msg_rate_limit=1000.0 (msgs/sec)\n",
      "NotebookApp.rate_limit_window=3.0 (secs)\n",
      "\n",
      "IOPub message rate exceeded.\n",
      "The notebook server will temporarily stop sending output\n",
      "to the client in order to avoid crashing it.\n",
      "To change this limit, set the config variable\n",
      "`--NotebookApp.iopub_msg_rate_limit`.\n",
      "\n",
      "Current values:\n",
      "NotebookApp.iopub_msg_rate_limit=1000.0 (msgs/sec)\n",
      "NotebookApp.rate_limit_window=3.0 (secs)\n",
      "\n",
      "IOPub message rate exceeded.\n",
      "The notebook server will temporarily stop sending output\n",
      "to the client in order to avoid crashing it.\n",
      "To change this limit, set the config variable\n",
      "`--NotebookApp.iopub_msg_rate_limit`.\n",
      "\n",
      "Current values:\n",
      "NotebookApp.iopub_msg_rate_limit=1000.0 (msgs/sec)\n",
      "NotebookApp.rate_limit_window=3.0 (secs)\n",
      "\n",
      "IOPub message rate exceeded.\n",
      "The notebook server will temporarily stop sending output\n",
      "to the client in order to avoid crashing it.\n",
      "To change this limit, set the config variable\n",
      "`--NotebookApp.iopub_msg_rate_limit`.\n",
      "\n",
      "Current values:\n",
      "NotebookApp.iopub_msg_rate_limit=1000.0 (msgs/sec)\n",
      "NotebookApp.rate_limit_window=3.0 (secs)\n",
      "\n",
      "IOPub message rate exceeded.\n",
      "The notebook server will temporarily stop sending output\n",
      "to the client in order to avoid crashing it.\n",
      "To change this limit, set the config variable\n",
      "`--NotebookApp.iopub_msg_rate_limit`.\n",
      "\n",
      "Current values:\n",
      "NotebookApp.iopub_msg_rate_limit=1000.0 (msgs/sec)\n",
      "NotebookApp.rate_limit_window=3.0 (secs)\n",
      "\n",
      "IOPub message rate exceeded.\n",
      "The notebook server will temporarily stop sending output\n",
      "to the client in order to avoid crashing it.\n",
      "To change this limit, set the config variable\n",
      "`--NotebookApp.iopub_msg_rate_limit`.\n",
      "\n",
      "Current values:\n",
      "NotebookApp.iopub_msg_rate_limit=1000.0 (msgs/sec)\n",
      "NotebookApp.rate_limit_window=3.0 (secs)\n",
      "\n",
      "IOPub message rate exceeded.\n",
      "The notebook server will temporarily stop sending output\n",
      "to the client in order to avoid crashing it.\n",
      "To change this limit, set the config variable\n",
      "`--NotebookApp.iopub_msg_rate_limit`.\n",
      "\n",
      "Current values:\n",
      "NotebookApp.iopub_msg_rate_limit=1000.0 (msgs/sec)\n",
      "NotebookApp.rate_limit_window=3.0 (secs)\n",
      "\n",
      "IOPub message rate exceeded.\n",
      "The notebook server will temporarily stop sending output\n",
      "to the client in order to avoid crashing it.\n",
      "To change this limit, set the config variable\n",
      "`--NotebookApp.iopub_msg_rate_limit`.\n",
      "\n",
      "Current values:\n",
      "NotebookApp.iopub_msg_rate_limit=1000.0 (msgs/sec)\n",
      "NotebookApp.rate_limit_window=3.0 (secs)\n",
      "\n",
      "IOPub message rate exceeded.\n",
      "The notebook server will temporarily stop sending output\n",
      "to the client in order to avoid crashing it.\n",
      "To change this limit, set the config variable\n",
      "`--NotebookApp.iopub_msg_rate_limit`.\n",
      "\n",
      "Current values:\n",
      "NotebookApp.iopub_msg_rate_limit=1000.0 (msgs/sec)\n",
      "NotebookApp.rate_limit_window=3.0 (secs)\n",
      "\n",
      "IOPub message rate exceeded.\n",
      "The notebook server will temporarily stop sending output\n",
      "to the client in order to avoid crashing it.\n",
      "To change this limit, set the config variable\n",
      "`--NotebookApp.iopub_msg_rate_limit`.\n",
      "\n",
      "Current values:\n",
      "NotebookApp.iopub_msg_rate_limit=1000.0 (msgs/sec)\n",
      "NotebookApp.rate_limit_window=3.0 (secs)\n",
      "\n"
     ]
    }
   ],
   "source": [
    "%load_ext autoreload\n",
    "%autoreload 2\n",
    "\n",
    "from tensorflow.keras.callbacks import ReduceLROnPlateau, EarlyStopping\n",
    "from model.model import load_new_model, save_model, load_trained_model\n",
    "\n",
    "import numpy as np\n",
    "import matplotlib.pyplot as plt\n",
    "from tqdm.keras import TqdmCallback\n",
    "\n",
    "import os\n",
    "import logging\n",
    "\n",
    "\n",
    "bound = train_dataset.data['train'][0][0].shape[1]\n",
    "\n",
    "BATCH_SIZE = 2**8\n",
    "LEARNING_RATE = 1e-3\n",
    "\n",
    "ds_name = dataset\n",
    "def train_model(dataset, val_dataset=None, pretrained_model=None):\n",
    "\n",
    "    if not val_dataset:\n",
    "        val_dataset = dataset['val']\n",
    "#     for k in dataset:\n",
    "#         imgs = dataset[k][0][0]\n",
    "#         norm_imgs = imgs / imgs.max(axis=(1, 2))[:, np.newaxis, np.newaxis]\n",
    "#         dataset[k][0][0] = norm_imgs\n",
    "\n",
    "    model = pretrained_model or get_pretrained_model(bound, LEARNING_RATE)\n",
    "\n",
    "    callbacks = [\n",
    "        ReduceLROnPlateau(\n",
    "        monitor='loss', factor=0.1, patience=50, verbose=True,\n",
    "        mode='min', min_delta=1, cooldown=50, min_lr=1e-7,),\n",
    "#         ReduceLROnPlateau(\n",
    "#         monitor='val_mean_absolute_error', factor=0.1, patience=50, verbose=True,\n",
    "#         mode='min', min_delta=1, cooldown=50, min_lr=1e-10,),\n",
    "        EarlyStopping(monitor='val_mean_absolute_error', patience=250, verbose=False, min_delta=1, restore_best_weights=True),\n",
    "#         WandbCallback(save_model=False),\n",
    "        TqdmCallback(verbose=1),\n",
    "    ]\n",
    "\n",
    "    history = model.fit(*dataset['train'], shuffle=True, epochs=5000, verbose=False, batch_size=BATCH_SIZE, validation_data=(*val_dataset,), callbacks=callbacks)\n",
    "    \n",
    "    plt.rcParams['figure.figsize'] = [10, 5]\n",
    "    fig, ax1 = plt.subplots()\n",
    "    ax1.plot(history.history['mean_absolute_error'], label='mse')\n",
    "    ax1.plot(history.history['val_mean_absolute_error'], label='val_mse')\n",
    "    ax1.set_yscale('log')\n",
    "    ax1.legend(loc=1)\n",
    "    ax2 = ax1.twinx()\n",
    "    ax2.plot(history.history['lr'], label='lr')\n",
    "    ax2.legend(loc=0)\n",
    "\n",
    "    plt.show()\n",
    "    return model\n",
    "\n",
    "if TRAIN_NEW_MODEL:\n",
    "    model = train_model(train_dataset.data, pretrained_model=model)\n",
    "else:\n",
    "    model = load_trained_model(dataset)\n",
    "\n"
   ]
  },
  {
   "cell_type": "code",
   "execution_count": 10,
   "id": "881c9887",
   "metadata": {
    "scrolled": false
   },
   "outputs": [
    {
     "name": "stdout",
     "output_type": "stream",
     "text": [
      "12/12 [==============================] - 1s 8ms/step\n",
      "Mean error 19.340576321470973\n",
      "std error 17.107175989659698\n"
     ]
    },
    {
     "data": {
      "image/png": "[encoded data removed]",
      "text/plain": [
       "<Figure size 360x360 with 1 Axes>"
      ]
     },
     "metadata": {
      "needs_background": "light"
     },
     "output_type": "display_data"
    },
    {
     "ename": "NameError",
     "evalue": "name 'grid_psfs' is not defined",
     "output_type": "error",
     "traceback": [
      "\u001b[0;31m---------------------------------------------------------------------------\u001b[0m",
      "\u001b[0;31mNameError\u001b[0m                                 Traceback (most recent call last)",
      "\u001b[0;32m<ipython-input-10-29210b1c6b02>\u001b[0m in \u001b[0;36m<module>\u001b[0;34m\u001b[0m\n\u001b[1;32m     19\u001b[0m \u001b[0mtest_imgs\u001b[0m \u001b[0;34m=\u001b[0m \u001b[0mtest_x\u001b[0m\u001b[0;34m[\u001b[0m\u001b[0;36m0\u001b[0m\u001b[0;34m]\u001b[0m\u001b[0;34m.\u001b[0m\u001b[0msqueeze\u001b[0m\u001b[0;34m(\u001b[0m\u001b[0;34m)\u001b[0m\u001b[0;34m[\u001b[0m\u001b[0midx\u001b[0m\u001b[0;34m]\u001b[0m\u001b[0;34m\u001b[0m\u001b[0;34m\u001b[0m\u001b[0m\n\u001b[1;32m     20\u001b[0m \u001b[0mplt\u001b[0m\u001b[0;34m.\u001b[0m\u001b[0mrcParams\u001b[0m\u001b[0;34m[\u001b[0m\u001b[0;34m'figure.figsize'\u001b[0m\u001b[0;34m]\u001b[0m \u001b[0;34m=\u001b[0m \u001b[0;34m[\u001b[0m\u001b[0;36m30\u001b[0m\u001b[0;34m,\u001b[0m \u001b[0;36m50\u001b[0m\u001b[0;34m]\u001b[0m\u001b[0;34m\u001b[0m\u001b[0;34m\u001b[0m\u001b[0m\n\u001b[0;32m---> 21\u001b[0;31m \u001b[0mplt\u001b[0m\u001b[0;34m.\u001b[0m\u001b[0mimshow\u001b[0m\u001b[0;34m(\u001b[0m\u001b[0mgrid_psfs\u001b[0m\u001b[0;34m(\u001b[0m\u001b[0mtest_imgs\u001b[0m\u001b[0;34m)\u001b[0m\u001b[0;34m)\u001b[0m\u001b[0;34m\u001b[0m\u001b[0;34m\u001b[0m\u001b[0m\n\u001b[0m\u001b[1;32m     22\u001b[0m \u001b[0mplt\u001b[0m\u001b[0;34m.\u001b[0m\u001b[0mshow\u001b[0m\u001b[0;34m(\u001b[0m\u001b[0;34m)\u001b[0m\u001b[0;34m\u001b[0m\u001b[0;34m\u001b[0m\u001b[0m\n\u001b[1;32m     23\u001b[0m \u001b[0;34m\u001b[0m\u001b[0m\n",
      "\u001b[0;31mNameError\u001b[0m: name 'grid_psfs' is not defined"
     ]
    }
   ],
   "source": [
    "import seaborn as sns\n",
    "import random\n",
    "\n",
    "test_x, test_y = train_dataset.data['test']\n",
    "\n",
    "pred_y = model.predict(test_x).squeeze()\n",
    "error = abs(test_y-pred_y)\n",
    "\n",
    "print(f'Mean error {np.mean(error)}')\n",
    "print(f'std error {np.std(error)}')\n",
    "\n",
    "plt.rcParams['figure.figsize'] = [5, 5]\n",
    "sns.histplot(error)\n",
    "plt.xlabel('Error (nm)')\n",
    "plt.show()\n",
    "\n",
    "\n",
    "idx = np.argsort(error)[::-1][0:1000]\n",
    "test_imgs = test_x[0].squeeze()[idx]\n",
    "plt.rcParams['figure.figsize'] = [30, 50]\n",
    "plt.imshow(grid_psfs(test_imgs))\n",
    "plt.show()\n",
    "\n",
    "def snr(img):\n",
    "    return img.max() / np.median(img)\n",
    "\n",
    "plt.rcParams['figure.figsize'] = [3, 5]\n",
    "plt.scatter(test_y, pred_y)\n",
    "plt.show()\n",
    "error = abs(pred_y-test_y)\n",
    "plt.boxplot(error)\n",
    "plt.show()\n",
    "\n",
    "plt.scatter([snr(img) for img in test_imgs], error, marker='.', alpha=0.2)\n",
    "plt.xlabel('snr')\n",
    "plt.ylabel('error [nm]')\n",
    "plt.show()"
   ]
  },
  {
   "cell_type": "code",
   "execution_count": 12,
   "id": "a1146619",
   "metadata": {},
   "outputs": [
    {
     "data": {
      "image/png": "[encoded data removed]",
      "text/plain": [
       "<Figure size 360x360 with 1 Axes>"
      ]
     },
     "metadata": {
      "needs_background": "light"
     },
     "output_type": "display_data"
    },
    {
     "data": {
      "image/png": "[encoded data removed]",
      "text/plain": [
       "<Figure size 360x360 with 1 Axes>"
      ]
     },
     "metadata": {
      "needs_background": "light"
     },
     "output_type": "display_data"
    },
    {
     "data": {
      "image/png": "[encoded data removed]",
      "text/plain": [
       "<Figure size 360x360 with 1 Axes>"
      ]
     },
     "metadata": {
      "needs_background": "light"
     },
     "output_type": "display_data"
    },
    {
     "data": {
      "image/png": "[encoded data removed]",
      "text/plain": [
       "<Figure size 360x360 with 1 Axes>"
      ]
     },
     "metadata": {
      "needs_background": "light"
     },
     "output_type": "display_data"
    },
    {
     "data": {
      "image/png": "[encoded data removed]",
      "text/plain": [
       "<Figure size 360x360 with 1 Axes>"
      ]
     },
     "metadata": {
      "needs_background": "light"
     },
     "output_type": "display_data"
    }
   ],
   "source": [
    "plt.rcParams['figure.figsize'] = [5, 5]\n",
    "mean_pixel_val = np.mean(test_x[0], axis=(1,2,3))\n",
    "plt.scatter(mean_pixel_val, error)\n",
    "plt.xlabel('Mean pixel val')\n",
    "plt.ylabel('Error (nm)')\n",
    "plt.show()\n",
    "\n",
    "median_pixel_val = np.median(test_x[0], axis=(1,2,3))\n",
    "plt.scatter(median_pixel_val, error)\n",
    "plt.xlabel('Median pixel val')\n",
    "plt.ylabel('Error (nm)')\n",
    "plt.show()\n",
    "\n",
    "max_pixel_val = np.max(test_x[0], axis=(1,2,3))\n",
    "plt.scatter(max_pixel_val, error)\n",
    "plt.xlabel('Max pixel val')\n",
    "plt.ylabel('Error (nm)')\n",
    "plt.show()\n",
    "\n",
    "min_pixel_val = np.min(test_x[0], axis=(1,2,3))\n",
    "plt.scatter(min_pixel_val, error)\n",
    "plt.xlabel('Min pixel val')\n",
    "plt.ylabel('Error (nm)')\n",
    "plt.show()\n",
    "\n",
    "snr = [np.max(img) / np.median(img) for img in test_x[0]]\n",
    "plt.scatter(snr, error)\n",
    "plt.xlabel('SNR')\n",
    "plt.ylabel('Error (nm)')\n",
    "plt.show()"
   ]
  },
  {
   "cell_type": "code",
   "execution_count": null,
   "id": "c01105ed",
   "metadata": {},
   "outputs": [],
   "source": [
    "!nvidia-smi"
   ]
  },
  {
   "cell_type": "code",
   "execution_count": null,
   "id": "064e3a32",
   "metadata": {},
   "outputs": [],
   "source": []
  }
 ],
 "metadata": {
  "kernelspec": {
   "display_name": "Python 3",
   "language": "python",
   "name": "python3"
  },
  "language_info": {
   "codemirror_mode": {
    "name": "ipython",
    "version": 3
   },
   "file_extension": ".py",
   "mimetype": "text/x-python",
   "name": "python",
   "nbconvert_exporter": "python",
   "pygments_lexer": "ipython3",
   "version": "3.8.10"
  }
 },
 "nbformat": 4,
 "nbformat_minor": 5
}
