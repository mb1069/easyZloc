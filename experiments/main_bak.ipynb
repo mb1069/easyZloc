{
 "cells": [
  {
   "cell_type": "code",
   "execution_count": 3,
   "id": "3029b5a7",
   "metadata": {},
   "outputs": [],
   "source": [
    "'''\n",
    "Data configs\n",
    "'''\n",
    "\n",
    "import pathlib\n",
    "bpath = pathlib.Path('/home/miguel/Projects/uni/data/smlm_3d/')\n",
    "\n",
    "dataset_configs = {\n",
    "    'olympus': {\n",
    "        'training': {\n",
    "            'bpath': bpath / 'bead_3D_STORM_three_instruments' / '20210723_Olympus_beads' / 'glass_beads_agarose_1',\n",
    "            'img': 'glass_beads_agarose_1_MMStack_Default.ome.tif',\n",
    "            'csv': 'glass_beads_agarose_1_MMStack_Default.csv',\n",
    "            'wl': 647,\n",
    "            'na': 1.3,\n",
    "            'voxel_sizes': (50, 65, 65),\n",
    "            'reverse_stack': False,\n",
    "        },\n",
    "        'sphere_ground_truth': {\n",
    "            'bpath': bpath / 'bead_3D_STORM_three_instruments' / '20210723_Olympus_beads' / '1mm_beads_agarose_centre_1',\n",
    "            'img': '1mm_beads_agarose_centre_1_MMStack_Default.ome.tif',\n",
    "            'csv': '1mm_beads_agarose_centre_1_MMStack_Default_substack.csv',\n",
    "            'wl': 647,\n",
    "            'na': 1.3,\n",
    "            'voxel_sizes': (50, 65, 65),\n",
    "            'reverse_stack': False,\n",
    "            'coverslip_exclusion': [4000, 2500]\n",
    "        },\n",
    "        'sphere': {\n",
    "            'bpath': bpath / 'bead_3D_STORM_three_instruments' / '20210723_Olympus_beads' / '1mm_beads_agarose_centre_1',\n",
    "            'img': '1mm_beads_agarose_centre_1_MMStack_Default_substack.tif',\n",
    "            'csv': '1mm_beads_agarose_centre_1_MMStack_Default_substack.csv',\n",
    "            'wl': 647,\n",
    "            'na': 1.3,\n",
    "            'voxel_sizes': (2000, 65, 65),\n",
    "            'reverse_stack': False,\n",
    "        },\n",
    "    },\n",
    "    'openframe': {\n",
    "        'training': {\n",
    "            'bpath': bpath / 'bead_3D_STORM_three_instruments' / '20200723_OpenFrame_3D_beads' / 'glass_beads_agarose_1',\n",
    "            'img': 'glass_beads_agarose_1_MMStack_Default.ome.tif',\n",
    "            'csv': 'glass_beads_agarose_1_MMStack_Default_filtered.csv',\n",
    "            'wl': 635,\n",
    "            'na': 1.4,\n",
    "            'voxel_sizes': (50, 85.5, 85.5),\n",
    "            'reverse_stack': True,\n",
    "            'ground_truth': 121,\n",
    "        },\n",
    "        'sphere_ground_truth': {\n",
    "            'bpath': bpath / 'bead_3D_STORM_three_instruments' / '20200723_OpenFrame_3D_beads' / 'glass_beads_1mm_agarose_center_1',\n",
    "            'img': 'glass_beads_1mm_agarose_center_1_MMStack_Default.ome.tif',\n",
    "            'csv': 'glass_beads_1mm_agarose_center_1_substack.csv',\n",
    "            'wl': 635,\n",
    "            'na': 1.4,\n",
    "            'voxel_sizes': (50, 85.5, 85.5),\n",
    "            'reverse_stack': True,\n",
    "            'coverslip_exclusion': [250, 0]\n",
    "        },\n",
    "        'sphere': {\n",
    "            'bpath': bpath / 'bead_3D_STORM_three_instruments' / '20200723_OpenFrame_3D_beads' / 'glass_beads_1mm_agarose_center_1',\n",
    "            'img': 'glass_beads_1mm_agarose_center_1_MMStack_substack.ome.tif',\n",
    "            'csv': 'glass_beads_1mm_agarose_center_1_substack.csv',\n",
    "            'wl': 635,\n",
    "            'na': 1.4,\n",
    "            'voxel_sizes': (2000, 85.5, 85.5),\n",
    "            'reverse_stack': False,\n",
    "        }\n",
    "    },\n",
    "    'other':{\n",
    "        'training':{\n",
    "            'bpath': bpath / 'bead_3D_STORM_three_instruments' / '20210723_beads_1mm' / '1mm_bead_agarose_1',\n",
    "            'img': '1mm_bead_agarose_1_MMStack_Pos0.ome.tif',\n",
    "            'csv': '1mm_bead_agarose_1_MMStack_Pos0.csv',\n",
    "            'wl': 635,\n",
    "            'na': 'unknown',\n",
    "            'voxel_sizes': (50, 106, 106),\n",
    "            'reverse_stack': False,\n",
    "        },\n",
    "        'sphere_ground_truth':{\n",
    "            'bpath': bpath / 'bead_3D_STORM_three_instruments' / '20210723_beads_1mm' / '1mm_bead_surface_center_1',\n",
    "            'img': '1mm_bead_surface_center_1_MMStack_Pos0.ome.tif',\n",
    "            'csv': '1mm_bead_surface_center_1_MMStack_Pos0_substack.csv',\n",
    "            'wl': 635,\n",
    "            'na': 'unknown',\n",
    "            'voxel_sizes': (50, 106, 106),\n",
    "            'reverse_stack': True,\n",
    "            'coverslip_exclusion': [0, 0]\n",
    "        },\n",
    "        'sphere':{\n",
    "            'bpath': bpath / 'bead_3D_STORM_three_instruments' / '20210723_beads_1mm' / '1mm_bead_surface_center_1',\n",
    "            'img': '1mm_bead_surface_center_1_MMStack_Pos0_substack.ome.tif',\n",
    "            'csv': '1mm_bead_surface_center_1_MMStack_Pos0_substack.csv',\n",
    "            'wl': 635,\n",
    "            'na': 'unknown',\n",
    "            'voxel_sizes': (2000, 106, 106),\n",
    "            'reverse_stack': True,\n",
    "        },\n",
    "        'single_slice':{\n",
    "            'bpath': bpath / 'bead_3D_STORM_three_instruments' / '20210723_beads_1mm' / '1mm_bead_surface_center_1',\n",
    "            'img': 'single_slice.ome.tif',\n",
    "            'csv': 'single_slice.csv',\n",
    "            'wl': 635,\n",
    "            'na': 'unknown',\n",
    "            'voxel_sizes': (0, 106, 106),\n",
    "            'reverse_stack': True,\n",
    "        },\n",
    "    },\n",
    "    'nuclear_pore': {\n",
    "        'training':{\n",
    "            'bpath': bpath / '20210930_Nuclear_pore' / 'Tetraspeck_beads_zstack_6um_10nm_647nm_300ms_1',\n",
    "            'img': 'Tetraspeck_beads_zstack_6um_10nm_647nm_300ms_1_MMStack_Default.ome.tif',\n",
    "            'csv': 'Tetraspeck_beads_zstack_6um_10nm_647nm_300ms_1_MMStack_Default.csv',\n",
    "            'wl': 647,\n",
    "            'na': 'unknown',\n",
    "            'voxel_sizes': (10, 130, 130),\n",
    "            'reverse_stack': False,\n",
    "        },\n",
    "        'a2': {\n",
    "            'bpath': bpath / '20210930_Nuclear_pore' / 'exp2' / '647_STORM' / 'A2' / '4631144',\n",
    "            'img': 'MMStack_Default_final_2D.ome.tiff',\n",
    "            'csv': 'MMStack_Default_final.csv',\n",
    "            'wl': 647,\n",
    "            'na': 'unknown',\n",
    "            'voxel_sizes': (0, 130, 130),\n",
    "            'reverse_stack': False,\n",
    "        },\n",
    "    },\n",
    "    'simulated_ideal_psf': {\n",
    "        'training':{\n",
    "            'simulation_csv': 'coords.csv',\n",
    "            'bpath': bpath / 'simulated_ideal_psf' / 'training',\n",
    "            'img': 'bead_stack.ome.tif',\n",
    "            'csv': 'bead_stack.csv',\n",
    "            'wl': 635,\n",
    "            'na': 'unknown',\n",
    "            'voxel_sizes': (50, 106, 106),\n",
    "            'reverse_stack': False,\n",
    "            'ground_truth': 100,\n",
    "        },\n",
    "        'experimental':{\n",
    "            'simulation_csv': 'coords.csv',\n",
    "            'bpath': bpath / 'simulated_ideal_psf' / 'experimental',\n",
    "            'img': 'bead_stack.ome.tif',\n",
    "            'csv': 'bead_stack.csv',\n",
    "            'wl': 635,\n",
    "            'na': 'unknown',\n",
    "            'voxel_sizes': (50, 106, 106),\n",
    "            'reverse_stack': False,\n",
    "            'ground_truth': 100,\n",
    "        },\n",
    "        'sphere_ground_truth': {\n",
    "            'simulation_csv': 'sphere_coords.csv',\n",
    "            'bpath': bpath / 'simulated_ideal_psf' / 'sphere',\n",
    "            'img': 'sphere.ome.tif',\n",
    "            'csv': 'sphere.csv',\n",
    "            'wl': 635,\n",
    "            'na': 'unknown',\n",
    "            'voxel_sizes': (50, 106, 106),\n",
    "            'reverse_stack': False,\n",
    "        },\n",
    "    },\n",
    "    'simulated_noise_free': {\n",
    "        'training':{\n",
    "            'simulation_csv': 'coords.csv',\n",
    "            'bpath': bpath / 'simulated_noise_free' / 'training',\n",
    "            'img': 'bead_stack.ome.tif',\n",
    "            'csv': 'bead_stack.csv',\n",
    "            'wl': 635,\n",
    "            'na': 'unknown',\n",
    "            'voxel_sizes': (50, 106, 106),\n",
    "            'reverse_stack': False,\n",
    "            'ground_truth': 100,\n",
    "        },\n",
    "        'experimental':{\n",
    "            'simulation_csv': 'coords.csv',\n",
    "            'bpath': bpath / 'simulated_noise_free' / 'experimental',\n",
    "            'img': 'bead_stack.ome.tif',\n",
    "            'csv': 'bead_stack.csv',\n",
    "            'wl': 635,\n",
    "            'na': 'unknown',\n",
    "            'voxel_sizes': (50, 106, 106),\n",
    "            'reverse_stack': False,\n",
    "            'ground_truth': 100,\n",
    "        },\n",
    "    },\n",
    "    'paired_bead_stacks': {\n",
    "        'training':{\n",
    "            'bpath': bpath / '20211006_100nm_beads_Miguel' / 'Original_FOV_647nm_300ms_2binning' / '100nm_Tetraspeck_beads_zstack_4um_10nm_647nm_300ms_1',\n",
    "            'img': '100nm_Tetraspeck_beads_zstack_4um_10nm_647nm_300ms_1_MMStack_Default.ome.tif',\n",
    "            'csv': '100nm_Tetraspeck_beads_zstack_4um_10nm_647nm_300ms_1_MMStack_Default.csv',\n",
    "            'wl': 647,\n",
    "            'na': 'unknown',\n",
    "            'voxel_sizes': (10, 90, 90),\n",
    "            'reverse_stack': False,\n",
    "            'ground_truth': 201,\n",
    "        },\n",
    "        'experimental':{\n",
    "            'bpath': bpath / '20211006_100nm_beads_Miguel' / '70.2um_FOV_to_left_of_original_FOV' / '100nm_Tetraspeck_beads_zstack_4um_10nm_647nm_300ms_1',\n",
    "            'img': '100nm_Tetraspeck_beads_zstack_4um_10nm_647nm_300ms_1_MMStack_Default.ome.tif',\n",
    "            'csv': '100nm_Tetraspeck_beads_zstack_4um_10nm_647nm_300ms_1_MMStack_Default.csv',\n",
    "            'wl': 647,\n",
    "            'na': 'unknown',\n",
    "            'voxel_sizes': (10, 90, 90),\n",
    "            'reverse_stack': False,\n",
    "            'ground_truth': 145\n",
    "        },\n",
    "        'exp_rotated':{\n",
    "            'bpath': bpath / '20211006_100nm_beads_Miguel' / 'Rotated_Plate__FOV_in_same_well_647nm_300ms_2binning' / '100nm_Tetraspeck_beads_zstack_4um_10nm_647nm_300ms_1',\n",
    "            'img': '100nm_Tetraspeck_beads_zstack_4um_10nm_647nm_300ms_1_MMStack_Default.ome.tif',\n",
    "            'csv': '100nm_Tetraspeck_beads_zstack_4um_10nm_647nm_300ms_1_MMStack_Default.csv',\n",
    "            'wl': 647,\n",
    "            'na': 'unknown',\n",
    "            'voxel_sizes': (10, 90, 90),\n",
    "            'reverse_stack': False,\n",
    "        }\n",
    "    }\n",
    "}"
   ]
  },
  {
   "cell_type": "markdown",
   "id": "caa75045",
   "metadata": {},
   "source": [
    "# 1. Data preparation"
   ]
  },
  {
   "cell_type": "code",
   "execution_count": null,
   "id": "e3c826d7",
   "metadata": {},
   "outputs": [
    {
     "name": "stderr",
     "output_type": "stream",
     "text": [
      "  2%|▏         | 14/699 [00:00<00:05, 134.28it/s]"
     ]
    },
    {
     "name": "stdout",
     "output_type": "stream",
     "text": [
      "Loading /home/miguel/Projects/uni/data/smlm_3d/20211006_100nm_beads_Miguel/Original_FOV_647nm_300ms_2binning/100nm_Tetraspeck_beads_zstack_4um_10nm_647nm_300ms_1/100nm_Tetraspeck_beads_zstack_4um_10nm_647nm_300ms_1_MMStack_Default.ome.tif\n",
      "Loading /home/miguel/Projects/uni/data/smlm_3d/20211006_100nm_beads_Miguel/Original_FOV_647nm_300ms_2binning/100nm_Tetraspeck_beads_zstack_4um_10nm_647nm_300ms_1/100nm_Tetraspeck_beads_zstack_4um_10nm_647nm_300ms_1_MMStack_Default.csv\n",
      "724 emitters before filtering\n",
      "699 emitters after borders\n",
      "\n",
      "\n",
      "\n",
      "\n"
     ]
    },
    {
     "name": "stderr",
     "output_type": "stream",
     "text": [
      "  8%|▊         | 56/699 [00:00<00:04, 128.62it/s]"
     ]
    },
    {
     "name": "stdout",
     "output_type": "stream",
     "text": [
      "\n",
      "\n",
      "\n",
      "\n",
      "\n"
     ]
    },
    {
     "name": "stderr",
     "output_type": "stream",
     "text": [
      " 12%|█▏        | 85/699 [00:00<00:04, 132.57it/s]"
     ]
    },
    {
     "name": "stdout",
     "output_type": "stream",
     "text": [
      "\n",
      "\n",
      "\n"
     ]
    },
    {
     "name": "stderr",
     "output_type": "stream",
     "text": [
      " 16%|█▋        | 115/699 [00:00<00:04, 135.51it/s]"
     ]
    },
    {
     "name": "stdout",
     "output_type": "stream",
     "text": [
      "\n",
      "\n",
      "\n",
      "\n"
     ]
    },
    {
     "name": "stderr",
     "output_type": "stream",
     "text": [
      " 22%|██▏       | 157/699 [00:01<00:04, 132.70it/s]"
     ]
    },
    {
     "name": "stdout",
     "output_type": "stream",
     "text": [
      "\n"
     ]
    },
    {
     "name": "stderr",
     "output_type": "stream",
     "text": [
      " 26%|██▋       | 185/699 [00:01<00:03, 135.09it/s]"
     ]
    },
    {
     "name": "stdout",
     "output_type": "stream",
     "text": [
      "\n",
      "\n",
      "\n"
     ]
    },
    {
     "name": "stderr",
     "output_type": "stream",
     "text": [
      " 35%|███▍      | 243/699 [00:01<00:03, 138.11it/s]"
     ]
    },
    {
     "name": "stdout",
     "output_type": "stream",
     "text": [
      "\n",
      "\n",
      "\n",
      "\n",
      "\n"
     ]
    },
    {
     "name": "stderr",
     "output_type": "stream",
     "text": [
      " 39%|███▉      | 275/699 [00:02<00:03, 139.15it/s]"
     ]
    },
    {
     "name": "stdout",
     "output_type": "stream",
     "text": [
      "\n",
      "\n",
      "\n",
      "\n"
     ]
    },
    {
     "name": "stderr",
     "output_type": "stream",
     "text": [
      " 44%|████▍     | 306/699 [00:02<00:02, 142.04it/s]"
     ]
    },
    {
     "name": "stdout",
     "output_type": "stream",
     "text": [
      "\n",
      "\n",
      "\n"
     ]
    },
    {
     "name": "stderr",
     "output_type": "stream",
     "text": [
      " 48%|████▊     | 337/699 [00:02<00:02, 144.20it/s]"
     ]
    },
    {
     "name": "stdout",
     "output_type": "stream",
     "text": [
      "\n",
      "\n",
      "\n",
      "\n"
     ]
    },
    {
     "name": "stderr",
     "output_type": "stream",
     "text": [
      " 57%|█████▋    | 399/699 [00:02<00:02, 144.91it/s]"
     ]
    },
    {
     "name": "stdout",
     "output_type": "stream",
     "text": [
      "\n",
      "\n",
      "\n",
      "\n",
      "\n",
      "\n"
     ]
    },
    {
     "name": "stderr",
     "output_type": "stream",
     "text": [
      " 64%|██████▎   | 444/699 [00:03<00:01, 138.28it/s]"
     ]
    },
    {
     "name": "stdout",
     "output_type": "stream",
     "text": [
      "\n",
      "\n",
      "\n",
      "\n"
     ]
    },
    {
     "name": "stderr",
     "output_type": "stream",
     "text": [
      " 68%|██████▊   | 475/699 [00:03<00:01, 140.66it/s]"
     ]
    },
    {
     "name": "stdout",
     "output_type": "stream",
     "text": [
      "\n",
      "\n"
     ]
    },
    {
     "name": "stderr",
     "output_type": "stream",
     "text": [
      " 74%|███████▍  | 519/699 [00:03<00:01, 136.86it/s]"
     ]
    },
    {
     "name": "stdout",
     "output_type": "stream",
     "text": [
      "\n",
      "\n",
      "\n"
     ]
    },
    {
     "name": "stderr",
     "output_type": "stream",
     "text": [
      " 79%|███████▉  | 552/699 [00:03<00:01, 146.52it/s]"
     ]
    },
    {
     "name": "stdout",
     "output_type": "stream",
     "text": [
      "\n",
      "\n",
      "\n",
      "\n",
      "\n",
      "\n",
      "\n"
     ]
    },
    {
     "name": "stderr",
     "output_type": "stream",
     "text": [
      " 85%|████████▌ | 596/699 [00:04<00:00, 137.95it/s]"
     ]
    },
    {
     "name": "stdout",
     "output_type": "stream",
     "text": [
      "\n",
      "\n",
      "\n"
     ]
    },
    {
     "name": "stderr",
     "output_type": "stream",
     "text": [
      " 89%|████████▉ | 624/699 [00:04<00:00, 132.55it/s]"
     ]
    },
    {
     "name": "stdout",
     "output_type": "stream",
     "text": [
      "\n",
      "\n",
      "\n"
     ]
    },
    {
     "name": "stderr",
     "output_type": "stream",
     "text": [
      " 93%|█████████▎| 652/699 [00:04<00:00, 131.90it/s]"
     ]
    },
    {
     "name": "stdout",
     "output_type": "stream",
     "text": [
      "\n",
      "\n"
     ]
    },
    {
     "name": "stderr",
     "output_type": "stream",
     "text": [
      " 97%|█████████▋| 680/699 [00:04<00:00, 127.68it/s]"
     ]
    },
    {
     "name": "stdout",
     "output_type": "stream",
     "text": [
      "\n",
      "\n",
      "\n",
      "\n"
     ]
    },
    {
     "name": "stderr",
     "output_type": "stream",
     "text": [
      "100%|██████████| 699/699 [00:05<00:00, 136.55it/s]\n"
     ]
    },
    {
     "name": "stdout",
     "output_type": "stream",
     "text": [
      "\n",
      "89.8 76.5\n",
      "32.0 19.6\n",
      "314 emitters after fitting plane\n",
      "Adding noise\n"
     ]
    }
   ],
   "source": [
    "from data.datasets import TrainingDataSet, ExperimentalDataSet, SphereTrainingDataset\n",
    "from workflow_v2 import concat_dataset_features\n",
    "\n",
    "\n",
    "z_range = 1000\n",
    "\n",
    "dataset = 'paired_bead_stacks'\n",
    "train_dataset = TrainingDataSet(dataset_configs[dataset]['training'], z_range, transform_data=False, add_noise=False, filter_emitters_proximity=False, filter_low_intensity_emitters=False, split_data=True)\n",
    "exp_dataset = TrainingDataSet(dataset_configs[dataset]['experimental'], z_range, transform_data=False, add_noise=False, split_data=False)\n",
    "\n",
    "# dataset = 'openframe'\n",
    "# train_dataset = TrainingDataSet(dataset_configs[dataset]['training'], z_range, transform_data=False, add_noise=True, filter_emitters_proximity=False, filter_low_intensity_emitters=False, split_data=True)\n",
    "# exp_dataset = SphereTrainingDataset(dataset_configs[dataset]['sphere_ground_truth'], transform_data=False, z_range=1000, split_data=False, add_noise=False, radius=5e5+50, lazy=False)\n",
    "\n",
    "\n"
   ]
  },
  {
   "cell_type": "markdown",
   "id": "6132f5f3",
   "metadata": {},
   "source": [
    "Functions above do the following operations\n",
    "1. Starting from a set of X/Y images of a sample, taken at different focal depths"
   ]
  },
  {
   "cell_type": "code",
   "execution_count": 17,
   "id": "10a0252e",
   "metadata": {},
   "outputs": [],
   "source": [
    "import matplotlib.pyplot as plt\n",
    "import numpy as np\n"
   ]
  },
  {
   "cell_type": "markdown",
   "id": "ee064dae",
   "metadata": {},
   "source": [
    "2. For each dot of light, cut out a stack of images around the dot (below example shows focus/defocus in steps of 200nm along Z axis)"
   ]
  },
  {
   "cell_type": "code",
   "execution_count": 18,
   "id": "df503c01",
   "metadata": {},
   "outputs": [
    {
     "ename": "KeyError",
     "evalue": "'train'",
     "output_type": "error",
     "traceback": [
      "\u001b[0;31m---------------------------------------------------------------------------\u001b[0m",
      "\u001b[0;31mKeyError\u001b[0m                                  Traceback (most recent call last)",
      "\u001b[0;32m<ipython-input-18-15d8fe14222a>\u001b[0m in \u001b[0;36m<module>\u001b[0;34m\u001b[0m\n\u001b[1;32m      3\u001b[0m \u001b[0mprev_i\u001b[0m \u001b[0;34m=\u001b[0m \u001b[0;36m0\u001b[0m\u001b[0;34m\u001b[0m\u001b[0;34m\u001b[0m\u001b[0m\n\u001b[1;32m      4\u001b[0m \u001b[0mi\u001b[0m\u001b[0;34m=\u001b[0m\u001b[0;36m0\u001b[0m\u001b[0;34m\u001b[0m\u001b[0;34m\u001b[0m\u001b[0m\n\u001b[0;32m----> 5\u001b[0;31m \u001b[0mprint\u001b[0m\u001b[0;34m(\u001b[0m\u001b[0mexp_dataset\u001b[0m\u001b[0;34m.\u001b[0m\u001b[0mdata\u001b[0m\u001b[0;34m[\u001b[0m\u001b[0;34m'train'\u001b[0m\u001b[0;34m]\u001b[0m\u001b[0;34m[\u001b[0m\u001b[0;36m1\u001b[0m\u001b[0;34m]\u001b[0m\u001b[0;34m[\u001b[0m\u001b[0;36m0\u001b[0m\u001b[0;34m:\u001b[0m\u001b[0;36m100\u001b[0m\u001b[0;34m]\u001b[0m\u001b[0;34m)\u001b[0m\u001b[0;34m\u001b[0m\u001b[0;34m\u001b[0m\u001b[0m\n\u001b[0m\u001b[1;32m      6\u001b[0m \u001b[0;32mwhile\u001b[0m \u001b[0mi\u001b[0m \u001b[0;34m<\u001b[0m \u001b[0mexp_dataset\u001b[0m\u001b[0;34m.\u001b[0m\u001b[0mdata\u001b[0m\u001b[0;34m[\u001b[0m\u001b[0;34m'train'\u001b[0m\u001b[0;34m]\u001b[0m\u001b[0;34m[\u001b[0m\u001b[0;36m0\u001b[0m\u001b[0;34m]\u001b[0m\u001b[0;34m[\u001b[0m\u001b[0;36m0\u001b[0m\u001b[0;34m]\u001b[0m\u001b[0;34m.\u001b[0m\u001b[0mshape\u001b[0m\u001b[0;34m[\u001b[0m\u001b[0;36m0\u001b[0m\u001b[0;34m]\u001b[0m\u001b[0;34m:\u001b[0m\u001b[0;34m\u001b[0m\u001b[0;34m\u001b[0m\u001b[0m\n\u001b[1;32m      7\u001b[0m     \u001b[0;32mif\u001b[0m \u001b[0mexp_dataset\u001b[0m\u001b[0;34m.\u001b[0m\u001b[0mdata\u001b[0m\u001b[0;34m[\u001b[0m\u001b[0;34m'train'\u001b[0m\u001b[0;34m]\u001b[0m\u001b[0;34m[\u001b[0m\u001b[0;36m1\u001b[0m\u001b[0;34m]\u001b[0m\u001b[0;34m[\u001b[0m\u001b[0mi\u001b[0m\u001b[0;34m]\u001b[0m\u001b[0;34m>\u001b[0m\u001b[0mexp_dataset\u001b[0m\u001b[0;34m.\u001b[0m\u001b[0mdata\u001b[0m\u001b[0;34m[\u001b[0m\u001b[0;34m'train'\u001b[0m\u001b[0;34m]\u001b[0m\u001b[0;34m[\u001b[0m\u001b[0;36m1\u001b[0m\u001b[0;34m]\u001b[0m\u001b[0;34m[\u001b[0m\u001b[0mi\u001b[0m\u001b[0;34m+\u001b[0m\u001b[0;36m1\u001b[0m\u001b[0;34m]\u001b[0m\u001b[0;34m:\u001b[0m\u001b[0;34m\u001b[0m\u001b[0;34m\u001b[0m\u001b[0m\n",
      "\u001b[0;31mKeyError\u001b[0m: 'train'"
     ]
    }
   ],
   "source": [
    "from data.visualise import show_psf_axial\n",
    "\n",
    "prev_i = 0\n",
    "i=0\n",
    "print(exp_dataset.data['train'][1][0:100])\n",
    "while i < exp_dataset.data['train'][0][0].shape[0]:\n",
    "    if exp_dataset.data['train'][1][i]>exp_dataset.data['train'][1][i+1]:\n",
    "        show_psf_axial(exp_dataset.data['train'][0][0][prev_i:i].squeeze())\n",
    "        prev_i = i\n",
    "    i += 1\n"
   ]
  },
  {
   "cell_type": "markdown",
   "id": "55374256",
   "metadata": {},
   "source": [
    "3. Estimate 'ground truth' 0 position (focus point) of each bead using peak brightness. This is inaccurate due to high SNR ratio in image, so refine these positions by assuming dots of light sit on a plane, model new Z positions as least squares of plane and exclude poorly located points\n",
    "4. Normalise each image to range [0,1]"
   ]
  },
  {
   "cell_type": "markdown",
   "id": "8179860b",
   "metadata": {},
   "source": [
    "# 2. Training the model\n",
    "\n",
    "Currently, I'm using 2 'calibration' datasets to see if my model can adapt from one to the other.\n",
    "All of the training dataset is used for training, and the 2nd dataset is used as validation."
   ]
  },
  {
   "cell_type": "code",
   "execution_count": 19,
   "id": "77487067",
   "metadata": {},
   "outputs": [],
   "source": [
    "import os\n",
    "\n",
    "model_path = '/home/miguel/Projects/uni/phd/smlm_z/final_project/smlm_3d/experiments/model_ckpt'\n",
    "\n",
    "def save_model(model):\n",
    "    model.save(model_path, save_format=\"tf\")\n",
    "    print('Saved model!')\n",
    "\n",
    "def load_model():\n",
    "    return keras.models.load_model(model_path)\n"
   ]
  },
  {
   "cell_type": "code",
   "execution_count": 20,
   "id": "fc25ac93",
   "metadata": {},
   "outputs": [
    {
     "data": {
      "image/png": "[encoded data removed]",
      "text/plain": [
       "<Figure size 432x288 with 1 Axes>"
      ]
     },
     "metadata": {
      "needs_background": "light"
     },
     "output_type": "display_data"
    },
    {
     "data": {
      "image/png": "[encoded data removed]",
      "text/plain": [
       "<Figure size 432x288 with 1 Axes>"
      ]
     },
     "metadata": {
      "needs_background": "light"
     },
     "output_type": "display_data"
    },
    {
     "data": {
      "image/png": "[encoded data removed]",
      "text/plain": [
       "<Figure size 432x288 with 1 Axes>"
      ]
     },
     "metadata": {
      "needs_background": "light"
     },
     "output_type": "display_data"
    },
    {
     "data": {
      "image/png": "[encoded data removed]",
      "text/plain": [
       "<Figure size 432x288 with 1 Axes>"
      ]
     },
     "metadata": {
      "needs_background": "light"
     },
     "output_type": "display_data"
    },
    {
     "data": {
      "image/png": "[encoded data removed]",
      "text/plain": [
       "<Figure size 432x288 with 1 Axes>"
      ]
     },
     "metadata": {
      "needs_background": "light"
     },
     "output_type": "display_data"
    },
    {
     "data": {
      "image/png": "[encoded data removed]",
      "text/plain": [
       "<Figure size 432x288 with 1 Axes>"
      ]
     },
     "metadata": {
      "needs_background": "light"
     },
     "output_type": "display_data"
    },
    {
     "data": {
      "image/png": "[encoded data removed]",
      "text/plain": [
       "<Figure size 432x288 with 1 Axes>"
      ]
     },
     "metadata": {
      "needs_background": "light"
     },
     "output_type": "display_data"
    }
   ],
   "source": [
    "import pandas as pd\n",
    "\n",
    "def gather_stats(dataset, name):\n",
    "    records = [] \n",
    "    \n",
    "    (imgs, coords), z_pos = dataset\n",
    "    \n",
    "    for img, coord, z_pos in zip(imgs, coords, z_pos):\n",
    "        results = {\n",
    "            'name': name,\n",
    "            'peak_brightness': img.max(),\n",
    "            'min_brightness': img.min(),\n",
    "            'mean_brightness': img.mean(),\n",
    "            'median_brightness': np.median(img),\n",
    "            'rho': coord[0],\n",
    "            'theta': coord[1],\n",
    "            'z_pos': z_pos\n",
    "        }\n",
    "        records.append(results)\n",
    "        \n",
    "    return pd.DataFrame.from_records(records)\n",
    "\n",
    "if 'all' not in train_dataset.data:\n",
    "    train = train_dataset.data['train']\n",
    "    val = train_dataset.data['val']\n",
    "    \n",
    "    records = []\n",
    "    records.append(gather_stats(train, 'train'))\n",
    "    records.append(gather_stats(val, 'val'))\n",
    "    \n",
    "    df = pd.concat(records)\n",
    "    for col in list(df):\n",
    "        if col != 'name':\n",
    "            df.boxplot(by='name', column=col)\n",
    "    \n",
    "    "
   ]
  },
  {
   "cell_type": "code",
   "execution_count": 21,
   "id": "37a59532",
   "metadata": {},
   "outputs": [],
   "source": [
    "from scipy.optimize import curve_fit\n",
    "\n",
    "def shift_correction(y, y_pred):\n",
    "    y_pred = y_pred -  tf.math.reduce_mean(y_pred) +  tf.math.reduce_mean(y)\n",
    "    return y_pred\n",
    "\n",
    "\n"
   ]
  },
  {
   "cell_type": "code",
   "execution_count": 22,
   "id": "a9f451dc",
   "metadata": {},
   "outputs": [],
   "source": [
    "import tensorflow as tf\n",
    "from tensorflow import keras\n",
    "\n",
    "from tensorflow.keras.layers import *\n",
    "from tensorflow.keras import Model\n",
    "from tensorflow.keras import layers as Layers\n",
    "from tensorflow.keras.layers import Dense, Dropout\n",
    "from tensorflow.keras.layers import Conv2D\n",
    "from tensorflow.keras.layers import MaxPooling2D\n",
    "\n",
    "from workflow_v2 import eval_model\n",
    "\n",
    "class ResBlock(Model):\n",
    "    def __init__(self, channels, stride=1):\n",
    "        super(ResBlock, self).__init__(name='ResBlock')\n",
    "        self.flag = (stride != 1)\n",
    "        self.conv1 = Conv2D(channels, 3, stride, padding='same')\n",
    "        self.bn1 = BatchNormalization()\n",
    "        self.conv2 = Conv2D(channels, 3, padding='same')\n",
    "        self.bn2 = BatchNormalization()\n",
    "        self.relu = ReLU()\n",
    "        if self.flag:\n",
    "            self.bn3 = BatchNormalization()\n",
    "            self.conv3 = Conv2D(channels, 1, stride)\n",
    "\n",
    "    def call(self, x):\n",
    "        x1 = self.conv1(x)\n",
    "        x1 = self.bn1(x1)\n",
    "        x1 = self.relu(x1)\n",
    "        x1 = self.conv2(x1)\n",
    "        x1 = self.bn2(x1)\n",
    "        if self.flag:\n",
    "            x = self.conv3(x)\n",
    "            x = self.bn3(x)\n",
    "        x1 = Layers.add([x, x1])\n",
    "        x1 = self.relu(x1)\n",
    "        return x1\n",
    "\n",
    "\n",
    "class ResNet34(Model):\n",
    "    def __init__(self):\n",
    "        super(ResNet34, self).__init__(name='ResNet34')\n",
    "        self.transpose = RandomTranslation(0.1, 0.1)\n",
    "        self.conv1 = Conv2D(64, 7, 2, padding='same')\n",
    "        self.bn = BatchNormalization()\n",
    "        self.relu = ReLU()\n",
    "        self.mp1 = MaxPooling2D(3, 2)\n",
    "\n",
    "        self.conv2_1 = ResBlock(64)\n",
    "        self.conv2_2 = ResBlock(64)\n",
    "        self.conv2_3 = ResBlock(64)\n",
    "\n",
    "        self.conv3_1 = ResBlock(128, 2)\n",
    "        self.conv3_2 = ResBlock(128)\n",
    "        self.conv3_3 = ResBlock(128)\n",
    "        self.conv3_4 = ResBlock(128)\n",
    "\n",
    "        self.conv4_1 = ResBlock(256, 2)\n",
    "        self.conv4_2 = ResBlock(256)\n",
    "        self.conv4_3 = ResBlock(256)\n",
    "        self.conv4_4 = ResBlock(256)\n",
    "        self.conv4_5 = ResBlock(256)\n",
    "        self.conv4_6 = ResBlock(256)\n",
    "\n",
    "        self.conv5_1 = ResBlock(512, 2)\n",
    "        self.conv5_2 = ResBlock(512)\n",
    "        self.conv5_3 = ResBlock(512)\n",
    "\n",
    "        self.pool = GlobalAveragePooling2D()\n",
    "        self.fc1 = Dense(512)\n",
    "        self.dp1 = Dropout(0.5)\n",
    "        self.fc2 = Dense(512)\n",
    "        self.dp2 = Dropout(0.5)\n",
    "        self.fc3 = Dense(1)\n",
    "\n",
    "    def call(self, inp):\n",
    "        x, coords = inp\n",
    "        x = self.transpose(x)\n",
    "        x = self.conv1(x)\n",
    "        x = self.bn(x)\n",
    "        x = self.relu(x)\n",
    "        x = self.mp1(x)\n",
    "\n",
    "        x = self.conv2_1(x)\n",
    "        x = self.conv2_2(x)\n",
    "        x = self.conv2_3(x)\n",
    "\n",
    "        x = self.conv3_1(x)\n",
    "        x = self.conv3_2(x)\n",
    "        x = self.conv3_3(x)\n",
    "        x = self.conv3_4(x)\n",
    "\n",
    "        x = self.conv4_1(x)\n",
    "        x = self.conv4_2(x)\n",
    "        x = self.conv4_3(x)\n",
    "        x = self.conv4_4(x)\n",
    "        x = self.conv4_5(x)\n",
    "        x = self.conv4_6(x)\n",
    "\n",
    "        x = self.conv5_1(x)\n",
    "        x = self.conv5_2(x)\n",
    "        x = self.conv5_3(x)\n",
    "\n",
    "        x = self.pool(x)\n",
    "\n",
    "        # Concat norm X/Y coordinates\n",
    "        x = tf.concat((x, coords), axis=1)\n",
    "\n",
    "        x = self.fc1(x)\n",
    "        x = self.dp1(x)\n",
    "        x = self.fc2(x)\n",
    "        x = self.dp2(x)\n",
    "        x = self.fc3(x)\n",
    "        # Restrict to valid output range [-1000, 1000]    \n",
    "#         x = tf.tanh(x) * 1000\n",
    "        return x\n",
    "\n",
    "    def test_step(self, data):\n",
    "        (img, coords), y = data\n",
    "        y_pred = self((img, coords), training=False)\n",
    "\n",
    "        shifted_pred = shift_correction(y, y_pred)\n",
    "\n",
    "        self.compiled_loss(y, shifted_pred, regularization_losses=self.losses)\n",
    "        self.compiled_metrics.update_state(y, shifted_pred)\n",
    "        # Return a dict mapping metric names to current value.\n",
    "        # Note that it will include the loss (tracked in self.metrics).\n",
    "        return {m.name: m.result() for m in self.metrics}\n",
    "\n",
    "\n",
    "\n",
    "def load_regression_model():\n",
    "\n",
    "    # model = Sequential()\n",
    "    # model.add(Conv2D(64, kernel_size=(3, 3), activation='relu'))\n",
    "    # model.add(Conv2D(32, kernel_size=(3, 3), activation='relu'))\n",
    "    # model.add(MaxPooling2D(pool_size=(2, 2)))\n",
    "    # model.add(Dropout(0.25))\n",
    "    # model.add(Conv2D(32, kernel_size=(3, 3), activation='relu'))\n",
    "    # model.add(MaxPooling2D(pool_size=(2, 2)))\n",
    "    # model.add(Dropout(0.25))\n",
    "    # model.add(Conv2D(16, kernel_size=(3, 3), activation='relu'))\n",
    "    # model.add(MaxPooling2D(pool_size=(2, 2)))\n",
    "    # model.add(Dropout(0.25))\n",
    "    # model.add(Flatten())\n",
    "    # model.add(Dense(512, activation='relu'))\n",
    "    # model.add(Dropout(0.5))\n",
    "    # model.add(Dense(1, activation='linear'))\n",
    "\n",
    "    model = ResNet34()\n",
    "    \n",
    "#     model = res34()\n",
    "    model.compile(loss='mean_squared_error',optimizer=keras.optimizers.Adam(learning_rate=0.01, decay=1e-6),metrics=['mean_absolute_error'])\n",
    "    return model\n"
   ]
  },
  {
   "cell_type": "code",
   "execution_count": 23,
   "id": "3cc70d0b",
   "metadata": {
    "scrolled": false
   },
   "outputs": [
    {
     "name": "stdout",
     "output_type": "stream",
     "text": [
      "Epoch 1/500\n",
      "118/118 [==============================] - 20s 149ms/step - loss: 258906.4375 - mean_absolute_error: 417.4031 - val_loss: 165313744.0000 - val_mean_absolute_error: 5356.1226 - lr: 0.0100\n",
      "Epoch 2/500\n",
      "118/118 [==============================] - 16s 135ms/step - loss: 88930.1719 - mean_absolute_error: 216.2288 - val_loss: 422186.3125 - val_mean_absolute_error: 506.1656 - lr: 0.0100\n",
      "Epoch 3/500\n",
      "118/118 [==============================] - 16s 136ms/step - loss: 47480.0781 - mean_absolute_error: 150.9101 - val_loss: 187833.9844 - val_mean_absolute_error: 308.4947 - lr: 0.0100\n",
      "Epoch 4/500\n",
      "118/118 [==============================] - 16s 136ms/step - loss: 34539.8711 - mean_absolute_error: 128.6430 - val_loss: 203037.7031 - val_mean_absolute_error: 358.3101 - lr: 0.0100\n",
      "Epoch 5/500\n",
      "118/118 [==============================] - 16s 136ms/step - loss: 28230.8750 - mean_absolute_error: 115.7890 - val_loss: 247588.5625 - val_mean_absolute_error: 397.1565 - lr: 0.0100\n",
      "Epoch 6/500\n",
      "118/118 [==============================] - 16s 136ms/step - loss: 23212.2500 - mean_absolute_error: 106.4193 - val_loss: 112082.7188 - val_mean_absolute_error: 239.3745 - lr: 0.0100\n",
      "Epoch 7/500\n",
      "118/118 [==============================] - 16s 136ms/step - loss: 21013.1484 - mean_absolute_error: 101.6665 - val_loss: 240298.7656 - val_mean_absolute_error: 384.1360 - lr: 0.0100\n",
      "Epoch 8/500\n",
      "118/118 [==============================] - 16s 137ms/step - loss: 19400.0547 - mean_absolute_error: 97.3517 - val_loss: 76465.4219 - val_mean_absolute_error: 200.5514 - lr: 0.0100\n",
      "Epoch 9/500\n",
      "118/118 [==============================] - 16s 137ms/step - loss: 18551.3086 - mean_absolute_error: 95.6335 - val_loss: 232756.7656 - val_mean_absolute_error: 381.9301 - lr: 0.0100\n",
      "Epoch 10/500\n",
      "118/118 [==============================] - 16s 137ms/step - loss: 17929.0430 - mean_absolute_error: 94.5221 - val_loss: 14109.3125 - val_mean_absolute_error: 91.2045 - lr: 0.0100\n",
      "Epoch 11/500\n",
      "118/118 [==============================] - 16s 137ms/step - loss: 17123.4004 - mean_absolute_error: 91.7919 - val_loss: 231178.9531 - val_mean_absolute_error: 381.6919 - lr: 0.0100\n",
      "Epoch 12/500\n",
      "118/118 [==============================] - 16s 137ms/step - loss: 16682.2949 - mean_absolute_error: 91.0697 - val_loss: 127888.9844 - val_mean_absolute_error: 264.2542 - lr: 0.0100\n",
      "Epoch 13/500\n",
      "118/118 [==============================] - 16s 137ms/step - loss: 14989.0205 - mean_absolute_error: 86.6159 - val_loss: 36180.4141 - val_mean_absolute_error: 149.0795 - lr: 0.0100\n",
      "Epoch 14/500\n",
      "118/118 [==============================] - 16s 137ms/step - loss: 15093.1836 - mean_absolute_error: 87.3047 - val_loss: 50701.2617 - val_mean_absolute_error: 152.0975 - lr: 0.0100\n",
      "Epoch 15/500\n",
      "118/118 [==============================] - 16s 137ms/step - loss: 15086.5479 - mean_absolute_error: 87.2470 - val_loss: 96876.7344 - val_mean_absolute_error: 232.7103 - lr: 0.0100\n",
      "Epoch 16/500\n",
      "118/118 [==============================] - 16s 137ms/step - loss: 14629.1846 - mean_absolute_error: 86.6582 - val_loss: 14429.5098 - val_mean_absolute_error: 92.1818 - lr: 0.0100\n",
      "Epoch 17/500\n",
      "118/118 [==============================] - 16s 137ms/step - loss: 13587.9014 - mean_absolute_error: 82.7758 - val_loss: 184411.3906 - val_mean_absolute_error: 334.5764 - lr: 0.0100\n",
      "Epoch 18/500\n",
      "118/118 [==============================] - 16s 137ms/step - loss: 13344.6074 - mean_absolute_error: 81.3272 - val_loss: 18776.1465 - val_mean_absolute_error: 95.6985 - lr: 0.0100\n",
      "Epoch 19/500\n",
      "118/118 [==============================] - 16s 137ms/step - loss: 13463.2920 - mean_absolute_error: 81.8601 - val_loss: 37680.6445 - val_mean_absolute_error: 134.8468 - lr: 0.0100\n",
      "Epoch 20/500\n",
      "118/118 [==============================] - 16s 137ms/step - loss: 12740.6406 - mean_absolute_error: 79.7248 - val_loss: 67079.3047 - val_mean_absolute_error: 170.0849 - lr: 0.0100\n",
      "Epoch 21/500\n",
      "118/118 [==============================] - 16s 137ms/step - loss: 12345.6992 - mean_absolute_error: 78.6960 - val_loss: 30034.8711 - val_mean_absolute_error: 114.7902 - lr: 0.0100\n",
      "Epoch 22/500\n",
      "118/118 [==============================] - 16s 138ms/step - loss: 12025.8838 - mean_absolute_error: 77.8716 - val_loss: 9470.6348 - val_mean_absolute_error: 67.7416 - lr: 0.0100\n",
      "Epoch 23/500\n",
      "118/118 [==============================] - 16s 137ms/step - loss: 12169.2725 - mean_absolute_error: 78.3571 - val_loss: 16081.1855 - val_mean_absolute_error: 88.8395 - lr: 0.0100\n",
      "Epoch 24/500\n",
      "118/118 [==============================] - 16s 137ms/step - loss: 11340.6826 - mean_absolute_error: 75.7352 - val_loss: 19840.7559 - val_mean_absolute_error: 95.3459 - lr: 0.0100\n",
      "Epoch 25/500\n",
      "118/118 [==============================] - 16s 137ms/step - loss: 12227.7188 - mean_absolute_error: 78.8012 - val_loss: 10487.3779 - val_mean_absolute_error: 81.4068 - lr: 0.0100\n",
      "Epoch 26/500\n",
      "118/118 [==============================] - 16s 138ms/step - loss: 11479.8408 - mean_absolute_error: 76.4146 - val_loss: 36524.1016 - val_mean_absolute_error: 115.3704 - lr: 0.0100\n",
      "Epoch 27/500\n",
      "118/118 [==============================] - 16s 137ms/step - loss: 11688.0381 - mean_absolute_error: 76.8363 - val_loss: 19682.7422 - val_mean_absolute_error: 101.3988 - lr: 0.0100\n",
      "Epoch 28/500\n",
      "118/118 [==============================] - 16s 137ms/step - loss: 11510.7695 - mean_absolute_error: 76.1766 - val_loss: 19362.0254 - val_mean_absolute_error: 90.1713 - lr: 0.0100\n",
      "Epoch 29/500\n",
      "118/118 [==============================] - 16s 137ms/step - loss: 10852.3701 - mean_absolute_error: 73.9994 - val_loss: 21794.8516 - val_mean_absolute_error: 109.9241 - lr: 0.0100\n",
      "Epoch 30/500\n",
      "118/118 [==============================] - 16s 137ms/step - loss: 11383.5664 - mean_absolute_error: 75.5761 - val_loss: 24082.8906 - val_mean_absolute_error: 104.5894 - lr: 0.0100\n",
      "Epoch 31/500\n",
      "118/118 [==============================] - 16s 137ms/step - loss: 10676.2656 - mean_absolute_error: 73.3987 - val_loss: 11797.0820 - val_mean_absolute_error: 87.2989 - lr: 0.0100\n",
      "Epoch 32/500\n",
      "118/118 [==============================] - 16s 137ms/step - loss: 10486.2793 - mean_absolute_error: 73.0829 - val_loss: 37564.6836 - val_mean_absolute_error: 148.4944 - lr: 0.0100\n",
      "Epoch 33/500\n",
      "118/118 [==============================] - 16s 137ms/step - loss: 10670.4580 - mean_absolute_error: 73.8867 - val_loss: 92380.6641 - val_mean_absolute_error: 175.1103 - lr: 0.0100\n",
      "Epoch 34/500\n",
      "118/118 [==============================] - 16s 137ms/step - loss: 10983.5957 - mean_absolute_error: 75.1428 - val_loss: 32980.8633 - val_mean_absolute_error: 113.3560 - lr: 0.0100\n",
      "Epoch 35/500\n",
      "118/118 [==============================] - 16s 137ms/step - loss: 9993.0732 - mean_absolute_error: 71.3636 - val_loss: 12556.0215 - val_mean_absolute_error: 78.7254 - lr: 0.0100\n",
      "Epoch 36/500\n",
      "118/118 [==============================] - 16s 137ms/step - loss: 10561.3975 - mean_absolute_error: 73.2548 - val_loss: 24274.7617 - val_mean_absolute_error: 107.7064 - lr: 0.0100\n",
      "Epoch 37/500\n",
      "118/118 [==============================] - 16s 138ms/step - loss: 9841.4043 - mean_absolute_error: 70.4959 - val_loss: 9520.6719 - val_mean_absolute_error: 71.1570 - lr: 0.0100\n",
      "Epoch 38/500\n",
      "118/118 [==============================] - 16s 137ms/step - loss: 10325.8418 - mean_absolute_error: 72.1837 - val_loss: 15763.9512 - val_mean_absolute_error: 91.3042 - lr: 0.0100\n",
      "Epoch 39/500\n",
      "118/118 [==============================] - 16s 138ms/step - loss: 9930.4717 - mean_absolute_error: 70.8055 - val_loss: 29459.0410 - val_mean_absolute_error: 123.3625 - lr: 0.0100\n",
      "Epoch 40/500\n",
      "118/118 [==============================] - 16s 137ms/step - loss: 9555.9805 - mean_absolute_error: 69.6760 - val_loss: 57347.2070 - val_mean_absolute_error: 150.3433 - lr: 0.0100\n",
      "Epoch 41/500\n",
      "118/118 [==============================] - 16s 138ms/step - loss: 10090.6689 - mean_absolute_error: 71.3366 - val_loss: 25369.8711 - val_mean_absolute_error: 118.0721 - lr: 0.0100\n",
      "Epoch 42/500\n",
      "118/118 [==============================] - 16s 138ms/step - loss: 10242.9541 - mean_absolute_error: 72.1633 - val_loss: 5398.9844 - val_mean_absolute_error: 54.5684 - lr: 0.0100\n",
      "Epoch 43/500\n",
      "118/118 [==============================] - 16s 138ms/step - loss: 9877.2588 - mean_absolute_error: 71.0228 - val_loss: 16216.6348 - val_mean_absolute_error: 103.4732 - lr: 0.0100\n",
      "Epoch 44/500\n",
      "118/118 [==============================] - 16s 137ms/step - loss: 9765.6914 - mean_absolute_error: 70.3150 - val_loss: 42277.8984 - val_mean_absolute_error: 141.0619 - lr: 0.0100\n",
      "Epoch 45/500\n",
      "118/118 [==============================] - 16s 137ms/step - loss: 9811.0801 - mean_absolute_error: 71.0227 - val_loss: 12344.2393 - val_mean_absolute_error: 85.1281 - lr: 0.0100\n",
      "Epoch 46/500\n",
      "118/118 [==============================] - 16s 137ms/step - loss: 9620.1758 - mean_absolute_error: 69.6362 - val_loss: 7577.6445 - val_mean_absolute_error: 65.0281 - lr: 0.0100\n",
      "Epoch 47/500\n",
      "118/118 [==============================] - 16s 138ms/step - loss: 9613.7451 - mean_absolute_error: 69.9546 - val_loss: 22132.6211 - val_mean_absolute_error: 98.7497 - lr: 0.0100\n",
      "Epoch 48/500\n",
      "118/118 [==============================] - 16s 137ms/step - loss: 9310.1289 - mean_absolute_error: 68.7792 - val_loss: 9074.7432 - val_mean_absolute_error: 59.7971 - lr: 0.0100\n",
      "Epoch 49/500\n",
      "118/118 [==============================] - 16s 138ms/step - loss: 9581.1689 - mean_absolute_error: 69.6687 - val_loss: 10667.5947 - val_mean_absolute_error: 65.1306 - lr: 0.0100\n",
      "Epoch 50/500\n",
      "118/118 [==============================] - 16s 138ms/step - loss: 9531.8457 - mean_absolute_error: 69.6240 - val_loss: 36096.9297 - val_mean_absolute_error: 130.5387 - lr: 0.0100\n",
      "Epoch 51/500\n",
      "118/118 [==============================] - 16s 138ms/step - loss: 9570.2393 - mean_absolute_error: 69.4986 - val_loss: 26039.3340 - val_mean_absolute_error: 127.5794 - lr: 0.0100\n",
      "Epoch 52/500\n",
      "118/118 [==============================] - 16s 137ms/step - loss: 8915.1533 - mean_absolute_error: 67.5290 - val_loss: 20070.0801 - val_mean_absolute_error: 99.3924 - lr: 0.0100\n",
      "Epoch 53/500\n",
      "118/118 [==============================] - 16s 137ms/step - loss: 9131.3262 - mean_absolute_error: 68.1025 - val_loss: 36161.6914 - val_mean_absolute_error: 104.3957 - lr: 0.0100\n",
      "Epoch 54/500\n",
      "118/118 [==============================] - 16s 138ms/step - loss: 8487.6113 - mean_absolute_error: 65.9683 - val_loss: 18931.8516 - val_mean_absolute_error: 95.5441 - lr: 0.0100\n",
      "Epoch 61/500\n",
      "118/118 [==============================] - 16s 137ms/step - loss: 8704.3652 - mean_absolute_error: 66.5919 - val_loss: 8053.0132 - val_mean_absolute_error: 64.3424 - lr: 0.0100\n",
      "Epoch 62/500\n",
      "118/118 [==============================] - 16s 137ms/step - loss: 9289.3516 - mean_absolute_error: 68.8466 - val_loss: 15050.0498 - val_mean_absolute_error: 81.5680 - lr: 0.0100\n",
      "Epoch 63/500\n",
      "118/118 [==============================] - 16s 138ms/step - loss: 8087.0630 - mean_absolute_error: 64.2661 - val_loss: 51235.7539 - val_mean_absolute_error: 169.6040 - lr: 0.0100\n",
      "Epoch 64/500\n",
      "118/118 [==============================] - 16s 138ms/step - loss: 8311.6094 - mean_absolute_error: 65.4632 - val_loss: 4535.2227 - val_mean_absolute_error: 49.3519 - lr: 0.0100\n",
      "Epoch 65/500\n",
      "118/118 [==============================] - 16s 137ms/step - loss: 8383.6895 - mean_absolute_error: 65.4347 - val_loss: 35010.0039 - val_mean_absolute_error: 130.9174 - lr: 0.0100\n",
      "Epoch 66/500\n",
      "118/118 [==============================] - 16s 137ms/step - loss: 8504.4238 - mean_absolute_error: 65.9360 - val_loss: 9561.3008 - val_mean_absolute_error: 62.9930 - lr: 0.0100\n",
      "Epoch 67/500\n",
      "118/118 [==============================] - 16s 137ms/step - loss: 8033.3364 - mean_absolute_error: 64.4212 - val_loss: 10583.5449 - val_mean_absolute_error: 66.0580 - lr: 0.0100\n",
      "Epoch 68/500\n",
      "118/118 [==============================] - 16s 137ms/step - loss: 8470.7041 - mean_absolute_error: 65.4548 - val_loss: 37960.3633 - val_mean_absolute_error: 128.3790 - lr: 0.0100\n",
      "Epoch 69/500\n",
      "118/118 [==============================] - 16s 137ms/step - loss: 8043.4331 - mean_absolute_error: 64.2906 - val_loss: 7498.9810 - val_mean_absolute_error: 66.2546 - lr: 0.0100\n",
      "Epoch 70/500\n",
      "118/118 [==============================] - 16s 137ms/step - loss: 8043.8828 - mean_absolute_error: 64.5434 - val_loss: 19102.2207 - val_mean_absolute_error: 91.2228 - lr: 0.0100\n",
      "Epoch 72/500\n",
      "118/118 [==============================] - 16s 137ms/step - loss: 9010.0068 - mean_absolute_error: 67.3295 - val_loss: 11206.0566 - val_mean_absolute_error: 66.8808 - lr: 0.0100\n",
      "Epoch 73/500\n",
      "118/118 [==============================] - 16s 138ms/step - loss: 8623.4795 - mean_absolute_error: 66.6314 - val_loss: 8722.0898 - val_mean_absolute_error: 68.3132 - lr: 0.0100\n",
      "Epoch 74/500\n",
      "118/118 [==============================] - 16s 137ms/step - loss: 8075.4727 - mean_absolute_error: 64.0979 - val_loss: 6763.4136 - val_mean_absolute_error: 63.2080 - lr: 0.0100\n",
      "Epoch 75/500\n",
      "118/118 [==============================] - 16s 137ms/step - loss: 7847.5757 - mean_absolute_error: 63.4145 - val_loss: 9581.3613 - val_mean_absolute_error: 73.1352 - lr: 0.0100\n",
      "Epoch 76/500\n",
      "118/118 [==============================] - 16s 138ms/step - loss: 7794.6260 - mean_absolute_error: 63.1542 - val_loss: 11598.0264 - val_mean_absolute_error: 67.7220 - lr: 0.0100\n",
      "Epoch 77/500\n",
      "118/118 [==============================] - 16s 137ms/step - loss: 7812.3506 - mean_absolute_error: 63.4265 - val_loss: 21750.8242 - val_mean_absolute_error: 108.1227 - lr: 0.0100\n",
      "Epoch 78/500\n",
      "118/118 [==============================] - 16s 137ms/step - loss: 7582.6353 - mean_absolute_error: 62.5941 - val_loss: 6629.7095 - val_mean_absolute_error: 58.8248 - lr: 0.0100\n",
      "Epoch 79/500\n",
      "118/118 [==============================] - 16s 138ms/step - loss: 7713.9263 - mean_absolute_error: 62.9232 - val_loss: 4490.3931 - val_mean_absolute_error: 46.7181 - lr: 0.0100\n",
      "Epoch 80/500\n",
      "118/118 [==============================] - 16s 137ms/step - loss: 7684.4678 - mean_absolute_error: 62.9558 - val_loss: 8089.9380 - val_mean_absolute_error: 70.6746 - lr: 0.0100\n",
      "Epoch 81/500\n",
      "118/118 [==============================] - 16s 137ms/step - loss: 7473.6167 - mean_absolute_error: 62.3207 - val_loss: 5191.9521 - val_mean_absolute_error: 53.2785 - lr: 0.0100\n",
      "Epoch 82/500\n",
      "118/118 [==============================] - 16s 137ms/step - loss: 8312.8232 - mean_absolute_error: 65.2041 - val_loss: 15651.4541 - val_mean_absolute_error: 105.9125 - lr: 0.0100\n",
      "Epoch 83/500\n",
      "118/118 [==============================] - 16s 137ms/step - loss: 7839.9663 - mean_absolute_error: 64.0257 - val_loss: 3980.9263 - val_mean_absolute_error: 46.6121 - lr: 0.0100\n",
      "Epoch 84/500\n",
      "118/118 [==============================] - 16s 137ms/step - loss: 7460.9888 - mean_absolute_error: 62.1680 - val_loss: 36051.5938 - val_mean_absolute_error: 121.2759 - lr: 0.0100\n",
      "Epoch 85/500\n",
      "118/118 [==============================] - 16s 137ms/step - loss: 7572.0869 - mean_absolute_error: 62.2896 - val_loss: 15167.4160 - val_mean_absolute_error: 73.1672 - lr: 0.0100\n",
      "Epoch 86/500\n",
      "118/118 [==============================] - 16s 138ms/step - loss: 7559.6938 - mean_absolute_error: 62.6791 - val_loss: 10350.4043 - val_mean_absolute_error: 64.7464 - lr: 0.0100\n",
      "Epoch 87/500\n",
      "118/118 [==============================] - 16s 138ms/step - loss: 7452.8628 - mean_absolute_error: 61.9502 - val_loss: 4023.6946 - val_mean_absolute_error: 45.5105 - lr: 0.0100\n",
      "Epoch 88/500\n",
      "118/118 [==============================] - 16s 137ms/step - loss: 7857.6372 - mean_absolute_error: 63.6069 - val_loss: 8015.4531 - val_mean_absolute_error: 67.4858 - lr: 0.0100\n",
      "Epoch 89/500\n",
      "118/118 [==============================] - 16s 137ms/step - loss: 7511.0229 - mean_absolute_error: 62.4457 - val_loss: 6448.2446 - val_mean_absolute_error: 56.3980 - lr: 0.0100\n",
      "Epoch 90/500\n",
      "118/118 [==============================] - 16s 137ms/step - loss: 7590.6836 - mean_absolute_error: 62.8891 - val_loss: 5370.6953 - val_mean_absolute_error: 51.1295 - lr: 0.0100\n",
      "Epoch 91/500\n",
      "118/118 [==============================] - 16s 138ms/step - loss: 7375.7173 - mean_absolute_error: 61.7248 - val_loss: 5462.4419 - val_mean_absolute_error: 54.4151 - lr: 0.0100\n",
      "Epoch 92/500\n",
      "118/118 [==============================] - 16s 137ms/step - loss: 7520.9805 - mean_absolute_error: 62.0339 - val_loss: 12456.5029 - val_mean_absolute_error: 76.2593 - lr: 0.0100\n",
      "Epoch 93/500\n"
     ]
    },
    {
     "name": "stdout",
     "output_type": "stream",
     "text": [
      "118/118 [==============================] - 16s 137ms/step - loss: 7355.4233 - mean_absolute_error: 61.6732 - val_loss: 5426.1948 - val_mean_absolute_error: 50.6497 - lr: 0.0100\n",
      "Epoch 94/500\n",
      "118/118 [==============================] - 16s 137ms/step - loss: 7112.2261 - mean_absolute_error: 60.7374 - val_loss: 5770.2422 - val_mean_absolute_error: 50.5225 - lr: 0.0100\n",
      "Epoch 95/500\n",
      "118/118 [==============================] - 16s 137ms/step - loss: 7290.1177 - mean_absolute_error: 61.8454 - val_loss: 8485.6465 - val_mean_absolute_error: 69.9049 - lr: 0.0100\n",
      "Epoch 96/500\n",
      "118/118 [==============================] - 16s 137ms/step - loss: 7124.4014 - mean_absolute_error: 60.7033 - val_loss: 50113.7070 - val_mean_absolute_error: 146.1607 - lr: 0.0100\n",
      "Epoch 97/500\n",
      "118/118 [==============================] - 16s 137ms/step - loss: 7134.0068 - mean_absolute_error: 60.8691 - val_loss: 6495.6978 - val_mean_absolute_error: 63.2610 - lr: 0.0100\n",
      "Epoch 98/500\n",
      "118/118 [==============================] - 16s 137ms/step - loss: 7023.0474 - mean_absolute_error: 60.3240 - val_loss: 4036.0583 - val_mean_absolute_error: 45.9944 - lr: 0.0100\n",
      "Epoch 99/500\n",
      "118/118 [==============================] - 16s 138ms/step - loss: 6780.6987 - mean_absolute_error: 59.4956 - val_loss: 6160.0117 - val_mean_absolute_error: 54.5568 - lr: 0.0100\n",
      "Epoch 100/500\n",
      "118/118 [==============================] - 16s 137ms/step - loss: 7013.5405 - mean_absolute_error: 60.2917 - val_loss: 6433.1118 - val_mean_absolute_error: 55.0584 - lr: 0.0100\n",
      "Epoch 101/500\n",
      "118/118 [==============================] - 16s 137ms/step - loss: 7315.9316 - mean_absolute_error: 61.5648 - val_loss: 85955.9922 - val_mean_absolute_error: 191.4082 - lr: 0.0100\n",
      "Epoch 102/500\n",
      "118/118 [==============================] - 16s 138ms/step - loss: 7519.3979 - mean_absolute_error: 62.1318 - val_loss: 7881.9990 - val_mean_absolute_error: 59.3936 - lr: 0.0100\n",
      "Epoch 103/500\n",
      "118/118 [==============================] - 16s 137ms/step - loss: 6963.4707 - mean_absolute_error: 60.2074 - val_loss: 7970.8950 - val_mean_absolute_error: 63.0117 - lr: 0.0100\n",
      "Epoch 104/500\n",
      "118/118 [==============================] - 16s 137ms/step - loss: 6880.7817 - mean_absolute_error: 59.8945 - val_loss: 18047.8047 - val_mean_absolute_error: 107.8825 - lr: 0.0100\n",
      "Epoch 105/500\n",
      "118/118 [==============================] - 16s 137ms/step - loss: 6812.6426 - mean_absolute_error: 59.6796 - val_loss: 9279.8154 - val_mean_absolute_error: 65.4048 - lr: 0.0100\n",
      "Epoch 106/500\n",
      "118/118 [==============================] - 16s 137ms/step - loss: 7204.6758 - mean_absolute_error: 61.4849 - val_loss: 6300.0225 - val_mean_absolute_error: 57.1224 - lr: 0.0100\n",
      "Epoch 107/500\n",
      "118/118 [==============================] - 16s 137ms/step - loss: 7356.4385 - mean_absolute_error: 61.5729 - val_loss: 32468.7246 - val_mean_absolute_error: 154.9141 - lr: 0.0100\n",
      "Epoch 108/500\n",
      "118/118 [==============================] - 16s 137ms/step - loss: 6864.9258 - mean_absolute_error: 60.0639 - val_loss: 15224.5693 - val_mean_absolute_error: 70.5375 - lr: 0.0100\n",
      "Epoch 109/500\n",
      "118/118 [==============================] - 16s 137ms/step - loss: 6701.4492 - mean_absolute_error: 59.2510 - val_loss: 16406.7617 - val_mean_absolute_error: 86.1499 - lr: 0.0100\n",
      "Epoch 110/500\n",
      "118/118 [==============================] - 16s 138ms/step - loss: 7036.1392 - mean_absolute_error: 60.3673 - val_loss: 4799.3799 - val_mean_absolute_error: 51.6647 - lr: 0.0100\n",
      "Epoch 111/500\n",
      "118/118 [==============================] - 16s 137ms/step - loss: 7095.4775 - mean_absolute_error: 60.6694 - val_loss: 11447.2842 - val_mean_absolute_error: 69.5501 - lr: 0.0100\n",
      "Epoch 112/500\n",
      "118/118 [==============================] - 16s 137ms/step - loss: 6870.2344 - mean_absolute_error: 59.8659 - val_loss: 7205.7520 - val_mean_absolute_error: 67.4494 - lr: 0.0100\n",
      "Epoch 113/500\n",
      "118/118 [==============================] - 16s 137ms/step - loss: 6636.2998 - mean_absolute_error: 58.8237 - val_loss: 50383.8398 - val_mean_absolute_error: 207.5989 - lr: 0.0100\n",
      "Epoch 114/500\n",
      "118/118 [==============================] - 16s 137ms/step - loss: 6838.5386 - mean_absolute_error: 59.9854 - val_loss: 6362.6338 - val_mean_absolute_error: 56.4251 - lr: 0.0100\n",
      "Epoch 115/500\n",
      "118/118 [==============================] - 16s 137ms/step - loss: 6922.5796 - mean_absolute_error: 60.0812 - val_loss: 24346.7227 - val_mean_absolute_error: 101.7599 - lr: 0.0100\n",
      "Epoch 116/500\n",
      "118/118 [==============================] - 16s 137ms/step - loss: 6928.2461 - mean_absolute_error: 60.5583 - val_loss: 8185.3530 - val_mean_absolute_error: 70.0463 - lr: 0.0100\n",
      "Epoch 117/500\n",
      "118/118 [==============================] - 16s 137ms/step - loss: 6734.3120 - mean_absolute_error: 59.4296 - val_loss: 8437.1406 - val_mean_absolute_error: 70.2751 - lr: 0.0100\n",
      "Epoch 118/500\n",
      "118/118 [==============================] - 16s 137ms/step - loss: 6340.0771 - mean_absolute_error: 57.6261 - val_loss: 11631.6611 - val_mean_absolute_error: 80.5299 - lr: 0.0100\n",
      "Epoch 124/500\n",
      "118/118 [==============================] - 16s 137ms/step - loss: 6629.4072 - mean_absolute_error: 59.0660 - val_loss: 20677.7617 - val_mean_absolute_error: 117.8258 - lr: 0.0100\n",
      "Epoch 125/500\n",
      "118/118 [==============================] - 16s 137ms/step - loss: 6792.3145 - mean_absolute_error: 59.6078 - val_loss: 34313.9531 - val_mean_absolute_error: 139.5477 - lr: 0.0100\n",
      "Epoch 126/500\n",
      "118/118 [==============================] - 16s 137ms/step - loss: 6703.2402 - mean_absolute_error: 59.4145 - val_loss: 7150.1079 - val_mean_absolute_error: 71.5489 - lr: 0.0100\n",
      "Epoch 127/500\n",
      "118/118 [==============================] - 16s 137ms/step - loss: 6307.2441 - mean_absolute_error: 58.0510 - val_loss: 3839.6396 - val_mean_absolute_error: 44.6079 - lr: 0.0100\n",
      "Epoch 128/500\n",
      "118/118 [==============================] - 16s 137ms/step - loss: 6582.0063 - mean_absolute_error: 58.5903 - val_loss: 5907.6235 - val_mean_absolute_error: 51.6565 - lr: 0.0100\n",
      "Epoch 129/500\n",
      "118/118 [==============================] - 16s 137ms/step - loss: 6356.6934 - mean_absolute_error: 57.9560 - val_loss: 23809.4258 - val_mean_absolute_error: 92.5219 - lr: 0.0100\n",
      "Epoch 130/500\n",
      "118/118 [==============================] - 16s 138ms/step - loss: 6401.1787 - mean_absolute_error: 58.0231 - val_loss: 5166.8218 - val_mean_absolute_error: 53.4906 - lr: 0.0100\n",
      "Epoch 131/500\n",
      "118/118 [==============================] - 16s 138ms/step - loss: 6399.7861 - mean_absolute_error: 58.0638 - val_loss: 6342.0469 - val_mean_absolute_error: 53.6949 - lr: 0.0100\n",
      "Epoch 132/500\n",
      "118/118 [==============================] - 16s 137ms/step - loss: 6071.0703 - mean_absolute_error: 57.1831 - val_loss: 4839.7178 - val_mean_absolute_error: 50.6125 - lr: 0.0100\n",
      "Epoch 133/500\n",
      "118/118 [==============================] - 16s 137ms/step - loss: 6565.0312 - mean_absolute_error: 59.0658 - val_loss: 11937.9395 - val_mean_absolute_error: 68.1271 - lr: 0.0100\n",
      "Epoch 134/500\n",
      "118/118 [==============================] - 16s 137ms/step - loss: 6195.9917 - mean_absolute_error: 57.3578 - val_loss: 20955.0820 - val_mean_absolute_error: 88.1925 - lr: 0.0100\n",
      "Epoch 135/500\n",
      "118/118 [==============================] - 16s 137ms/step - loss: 6218.7744 - mean_absolute_error: 57.3448 - val_loss: 16144.2646 - val_mean_absolute_error: 98.9813 - lr: 0.0100\n",
      "Epoch 136/500\n",
      "118/118 [==============================] - 16s 137ms/step - loss: 6498.9375 - mean_absolute_error: 58.3264 - val_loss: 11910.8760 - val_mean_absolute_error: 70.2518 - lr: 0.0100\n",
      "Epoch 137/500\n",
      "118/118 [==============================] - ETA: 0s - loss: 6211.2808 - mean_absolute_error: 57.5057Restoring model weights from the end of the best epoch: 87.\n",
      "118/118 [==============================] - 16s 138ms/step - loss: 6211.2808 - mean_absolute_error: 57.5057 - val_loss: 5221.8687 - val_mean_absolute_error: 47.9860 - lr: 0.0100\n",
      "Epoch 00137: early stopping\n"
     ]
    },
    {
     "data": {
      "image/png": "[encoded data removed]",
      "text/plain": [
       "<Figure size 432x288 with 2 Axes>"
      ]
     },
     "metadata": {
      "needs_background": "light"
     },
     "output_type": "display_data"
    }
   ],
   "source": [
    "from tensorflow.keras.callbacks import ReduceLROnPlateau, EarlyStopping\n",
    "import numpy as np\n",
    "import matplotlib.pyplot as plt\n",
    "\n",
    "def train_model(dataset, val_dataset=None):\n",
    "    if not val_dataset:\n",
    "        val_dataset = dataset['val']\n",
    "    for k in dataset:\n",
    "        imgs = dataset[k][0][0]\n",
    "        norm_imgs = imgs / imgs.max(axis=(1, 2))[:, np.newaxis, np.newaxis]\n",
    "        dataset[k][0][0] = norm_imgs\n",
    "\n",
    "    model = load_regression_model()\n",
    "\n",
    "    callbacks = [\n",
    "        ReduceLROnPlateau(\n",
    "        monitor='loss', factor=0.1, patience=10, verbose=True,\n",
    "        mode='min', min_delta=1, cooldown=0, min_lr=1e-10,),\n",
    "        EarlyStopping(monitor='val_mean_absolute_error', patience=50, verbose=True, min_delta=1, restore_best_weights=True),\n",
    "    ]\n",
    "\n",
    "#     print(dataset['train'][0][0].shape)\n",
    "#     print(dataset['train'][0][1].shape)\n",
    "#     print(dataset['train'][1].shape)\n",
    "\n",
    "    history = model.fit(*dataset['train'], epochs=500, batch_size=4096, validation_data=(*val_dataset,), callbacks=callbacks, verbose=True)\n",
    "\n",
    "    fig, ax1 = plt.subplots()\n",
    "    ax1.plot(history.history['mean_absolute_error'], label='mse')\n",
    "    ax1.plot(history.history['val_mean_absolute_error'], label='val_mse')\n",
    "    ax1.set_yscale('log')\n",
    "    ax1.legend(loc=1)\n",
    "    ax2 = ax1.twinx()\n",
    "    ax2.plot(history.history['lr'], label='lr')\n",
    "    ax2.legend(loc=0)\n",
    "\n",
    "    plt.show()\n",
    "    return model\n",
    "\n",
    "model = train_model(train_dataset.data)\n",
    "# save_model(model)\n",
    "# model = load_regression_model()"
   ]
  },
  {
   "cell_type": "code",
   "execution_count": 1,
   "id": "8714935b",
   "metadata": {},
   "outputs": [
    {
     "ename": "NameError",
     "evalue": "name 'exp_dataset' is not defined",
     "output_type": "error",
     "traceback": [
      "\u001b[0;31m---------------------------------------------------------------------------\u001b[0m",
      "\u001b[0;31mNameError\u001b[0m                                 Traceback (most recent call last)",
      "\u001b[0;32m<ipython-input-1-46c040f745b7>\u001b[0m in \u001b[0;36m<module>\u001b[0;34m\u001b[0m\n\u001b[1;32m      1\u001b[0m \u001b[0;31m# 65.9 ~ 71.4 to beat\u001b[0m\u001b[0;34m\u001b[0m\u001b[0;34m\u001b[0m\u001b[0;34m\u001b[0m\u001b[0m\n\u001b[0;32m----> 2\u001b[0;31m \u001b[0mtest_x\u001b[0m\u001b[0;34m,\u001b[0m \u001b[0mtest_y\u001b[0m \u001b[0;34m=\u001b[0m \u001b[0mexp_dataset\u001b[0m\u001b[0;34m.\u001b[0m\u001b[0mdata\u001b[0m\u001b[0;34m[\u001b[0m\u001b[0;34m'all'\u001b[0m\u001b[0;34m]\u001b[0m\u001b[0;34m\u001b[0m\u001b[0;34m\u001b[0m\u001b[0m\n\u001b[0m\u001b[1;32m      3\u001b[0m \u001b[0;34m\u001b[0m\u001b[0m\n\u001b[1;32m      4\u001b[0m \u001b[0mpred\u001b[0m \u001b[0;34m=\u001b[0m \u001b[0mmodel\u001b[0m\u001b[0;34m.\u001b[0m\u001b[0mpredict\u001b[0m\u001b[0;34m(\u001b[0m\u001b[0mtest_x\u001b[0m\u001b[0;34m)\u001b[0m\u001b[0;34m.\u001b[0m\u001b[0msqueeze\u001b[0m\u001b[0;34m(\u001b[0m\u001b[0;34m)\u001b[0m\u001b[0;34m\u001b[0m\u001b[0;34m\u001b[0m\u001b[0m\n",
      "\u001b[0;31mNameError\u001b[0m: name 'exp_dataset' is not defined"
     ]
    }
   ],
   "source": [
    "# 65.9 ~ 71.4 to beat\n",
    "test_x, test_y = exp_dataset.data['all']\n",
    "\n",
    "pred = model.predict(test_x).squeeze()\n"
   ]
  },
  {
   "cell_type": "code",
   "execution_count": 25,
   "id": "8005b972",
   "metadata": {},
   "outputs": [
    {
     "data": {
      "image/png": "[encoded data removed]",
      "text/plain": [
       "<Figure size 432x288 with 1 Axes>"
      ]
     },
     "metadata": {
      "needs_background": "light"
     },
     "output_type": "display_data"
    },
    {
     "name": "stdout",
     "output_type": "stream",
     "text": [
      "158.68274806603938\n",
      "72.33489356561581\n"
     ]
    },
    {
     "data": {
      "image/png": "[encoded data removed]",
      "text/plain": [
       "<Figure size 432x288 with 1 Axes>"
      ]
     },
     "metadata": {
      "needs_background": "light"
     },
     "output_type": "display_data"
    }
   ],
   "source": [
    "from workflow_v2 import eval_model, shift_correction as original_shift_correction\n",
    "\n",
    "ae = np.mean(abs(test_y - pred))\n",
    "\n",
    "\n",
    "plt.scatter(test_y, pred, alpha=0.25, marker='+')\n",
    "plt.xlabel('True position (nm)')\n",
    "plt.ylabel('Predicted position (nm)')\n",
    "plt.show()\n",
    "shifted_pred = original_shift_correction(test_y, pred)\n",
    "\n",
    "shifted_ae = np.mean(abs(test_y-shifted_pred))\n",
    "\n",
    "print(ae)\n",
    "print(shifted_ae)\n",
    "\n",
    "\n",
    "\n",
    "def chunks(lst, n):\n",
    "    \"\"\"Yield successive n-sized chunks from lst.\"\"\"\n",
    "    for i in range(0, len(lst), n):\n",
    "        yield lst[i:i + n]\n",
    "\n",
    "stack_preds = list(chunks(pred, 39))\n",
    "stack_true = list(chunks(test_y, 39))\n",
    "\n",
    "for true_y, pred_y in zip(stack_true, stack_preds):\n",
    "    plt.plot(true_y, pred_y)\n",
    "plt.show()\n"
   ]
  },
  {
   "cell_type": "code",
   "execution_count": null,
   "id": "175cfc24",
   "metadata": {},
   "outputs": [],
   "source": [
    "plt.scatter(test_y, pred, label=str(i), alpha=0.5, marker='x')\n",
    "plt.show()\n",
    "\n",
    "ae = test_y.squeeze()-pred.squeeze()\n",
    "\n",
    "plt.boxplot(ae)\n",
    "plt.show()\n",
    "print(np.mean(ae))\n",
    "\n",
    "ae = list(map(np.mean, chunks(ae, 199)))"
   ]
  },
  {
   "cell_type": "code",
   "execution_count": null,
   "id": "0d42c0bf",
   "metadata": {
    "scrolled": false
   },
   "outputs": [],
   "source": [
    "import seaborn as sns\n",
    "sub_df = exp_dataset.csv_data\n",
    "sub_df['mean_error [nm]'] = ae\n",
    "\n",
    "sub_df['id'] = list(range(sub_df.shape[0]))\n",
    "# cols = ['chi2']\n",
    "# for c in cols:\n",
    "#     sub_df.plot.scatter(c, 'mean_error [nm]')\n",
    "#     plt.show()\n",
    "\n",
    "worst_images = sub_df.sort_values(by='mean_error [nm]', ascending=False)\n",
    "worst_idx = list(worst_images['id'][0:5])\n",
    "best_idx = list(worst_images['id'][-5:-1])\n",
    "\n",
    "for idx in worst_idx:\n",
    "    start = idx*(199)\n",
    "    end = (idx+1)*199\n",
    "    imstack_idx = slice(start, end, 25)\n",
    "    imstack = exp_dataset.data['all'][0][0][imstack_idx]\n",
    "    for img in imstack:\n",
    "        plt.imshow(img)\n",
    "        plt.show()\n",
    "    print('break')"
   ]
  },
  {
   "cell_type": "code",
   "execution_count": null,
   "id": "9feccd0e",
   "metadata": {},
   "outputs": [],
   "source": []
  },
  {
   "cell_type": "code",
   "execution_count": null,
   "id": "0be36f6b",
   "metadata": {},
   "outputs": [],
   "source": []
  }
 ],
 "metadata": {
  "kernelspec": {
   "display_name": "Python 3",
   "language": "python",
   "name": "python3"
  },
  "language_info": {
   "codemirror_mode": {
    "name": "ipython",
    "version": 3
   },
   "file_extension": ".py",
   "mimetype": "text/x-python",
   "name": "python",
   "nbconvert_exporter": "python",
   "pygments_lexer": "ipython3",
   "version": "3.8.5"
  }
 },
 "nbformat": 4,
 "nbformat_minor": 5
}
