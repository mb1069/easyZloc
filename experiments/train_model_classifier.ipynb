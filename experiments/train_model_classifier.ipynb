{
 "cells": [
  {
   "cell_type": "code",
   "execution_count": 1,
   "id": "45e4e0fd",
   "metadata": {},
   "outputs": [
    {
     "name": "stdout",
     "output_type": "stream",
     "text": [
      "(40, 32, 32)\n"
     ]
    }
   ],
   "source": [
    "from pyotf.otf import HanserPSF, apply_aberration, apply_named_aberration\n",
    "import matplotlib.pyplot as plt\n",
    "import numpy as np\n",
    "\n",
    "plt.rcParams['figure.figsize'] = [5, 5]\n",
    "\n",
    "from data.visualise import show_psf_axial, grid_psfs\n",
    "from data.align_psfs import  norm_zero_one\n",
    "\n",
    "\n",
    "kwargs = dict(\n",
    "    wl=647,\n",
    "    na=1.3,\n",
    "    ni=1.51,\n",
    "    res=106,\n",
    "    zres=50,\n",
    "    size=32,\n",
    "    zsize=40,\n",
    "    vec_corr=\"none\",\n",
    "    condition=\"none\",\n",
    ")\n",
    "psf = HanserPSF(**kwargs)\n",
    "psf = apply_aberration(psf, np.array([0, 0, 0, 0, 0]), np.array([0, 0, 0, 0, 1]))\n",
    "\n",
    "blank_psf = psf.PSFi\n",
    "\n",
    "blank_psf = norm_zero_one(blank_psf)\n",
    "\n",
    "print(blank_psf.shape)"
   ]
  },
  {
   "cell_type": "code",
   "execution_count": 2,
   "id": "a981105b",
   "metadata": {},
   "outputs": [],
   "source": [
    "from skimage.transform import resize\n",
    "n_channels = 3\n",
    "blank_psf = np.stack([resize(img, (224, 224, n_channels), anti_aliasing=True) for img in blank_psf])\n"
   ]
  },
  {
   "cell_type": "code",
   "execution_count": 3,
   "id": "b8b3171b",
   "metadata": {},
   "outputs": [],
   "source": [
    "imgs = blank_psf\n",
    "labels = np.arange(0, imgs.shape[0])\n",
    "\n",
    "all_imgs = []\n",
    "all_labels = []\n",
    "for _ in range(100):\n",
    "    noise = np.random.uniform(0, 2, size=imgs.shape)\n",
    "    all_imgs.append(imgs+noise)\n",
    "    all_labels.append(labels)\n",
    "\n",
    "all_imgs = np.concatenate(all_imgs)\n",
    "all_labels = np.concatenate(all_labels)    "
   ]
  },
  {
   "cell_type": "code",
   "execution_count": 4,
   "id": "01a73231",
   "metadata": {},
   "outputs": [],
   "source": [
    "from sklearn.model_selection import train_test_split\n",
    "\n",
    "x_train, x_test, y_train, y_test = train_test_split(all_imgs, all_labels, test_size=0.2, stratify=all_labels)"
   ]
  },
  {
   "cell_type": "code",
   "execution_count": 5,
   "id": "ee296132",
   "metadata": {},
   "outputs": [
    {
     "name": "stdout",
     "output_type": "stream",
     "text": [
      "(3200, 224, 224, 3)\n",
      "(800, 224, 224, 3)\n",
      "(3200,)\n",
      "(800,)\n"
     ]
    }
   ],
   "source": [
    "print(x_train.shape)\n",
    "print(x_test.shape)\n",
    "print(y_train.shape)\n",
    "print(y_test.shape)"
   ]
  },
  {
   "cell_type": "code",
   "execution_count": 6,
   "id": "79372430",
   "metadata": {},
   "outputs": [
    {
     "name": "stdout",
     "output_type": "stream",
     "text": [
      "Epoch 1/10000\n",
      "50/50 [==============================] - 8s 164ms/step - loss: 3.6916 - accuracy: 0.0181 - val_loss: 3.6890 - val_accuracy: 0.0250 - lr: 0.0100\n",
      "Epoch 11/10000\n",
      "50/50 [==============================] - 8s 164ms/step - loss: 3.6916 - accuracy: 0.0197 - val_loss: 3.6890 - val_accuracy: 0.0250 - lr: 0.0100\n",
      "Epoch 12/10000\n",
      "50/50 [==============================] - 8s 164ms/step - loss: 3.6916 - accuracy: 0.0216 - val_loss: 3.6890 - val_accuracy: 0.0250 - lr: 0.0100\n",
      "Epoch 13/10000\n",
      "50/50 [==============================] - 8s 164ms/step - loss: 3.6913 - accuracy: 0.0213 - val_loss: 3.6890 - val_accuracy: 0.0250 - lr: 0.0100\n",
      "Epoch 14/10000\n",
      "50/50 [==============================] - 8s 164ms/step - loss: 3.6917 - accuracy: 0.0209 - val_loss: 3.6890 - val_accuracy: 0.0250 - lr: 0.0100\n",
      "Epoch 15/10000\n",
      "50/50 [==============================] - 8s 164ms/step - loss: 3.6915 - accuracy: 0.0209 - val_loss: 3.6890 - val_accuracy: 0.0250 - lr: 0.0100\n",
      "Epoch 16/10000\n",
      "50/50 [==============================] - 8s 164ms/step - loss: 3.6916 - accuracy: 0.0184 - val_loss: 3.6889 - val_accuracy: 0.0250 - lr: 0.0100\n",
      "Epoch 17/10000\n",
      "50/50 [==============================] - 8s 164ms/step - loss: 3.6915 - accuracy: 0.0206 - val_loss: 3.6890 - val_accuracy: 0.0250 - lr: 0.0100\n",
      "Epoch 18/10000\n",
      "50/50 [==============================] - 8s 165ms/step - loss: 3.6915 - accuracy: 0.0156 - val_loss: 3.6890 - val_accuracy: 0.0250 - lr: 0.0100\n",
      "Epoch 19/10000\n",
      "50/50 [==============================] - 8s 164ms/step - loss: 3.6916 - accuracy: 0.0206 - val_loss: 3.6890 - val_accuracy: 0.0250 - lr: 0.0100\n",
      "Epoch 20/10000\n",
      "50/50 [==============================] - 8s 164ms/step - loss: 3.6915 - accuracy: 0.0184 - val_loss: 3.6890 - val_accuracy: 0.0250 - lr: 0.0100\n",
      "Epoch 21/10000\n",
      "50/50 [==============================] - 8s 164ms/step - loss: 3.6915 - accuracy: 0.0194 - val_loss: 3.6890 - val_accuracy: 0.0250 - lr: 0.0100\n",
      "Epoch 22/10000\n",
      "50/50 [==============================] - 8s 164ms/step - loss: 3.6917 - accuracy: 0.0159 - val_loss: 3.6890 - val_accuracy: 0.0250 - lr: 0.0100\n",
      "Epoch 23/10000\n",
      "50/50 [==============================] - 8s 164ms/step - loss: 3.6916 - accuracy: 0.0188 - val_loss: 3.6890 - val_accuracy: 0.0250 - lr: 0.0100\n",
      "Epoch 24/10000\n",
      "50/50 [==============================] - 8s 164ms/step - loss: 3.6917 - accuracy: 0.0191 - val_loss: 3.6890 - val_accuracy: 0.0250 - lr: 0.0100\n",
      "Epoch 25/10000\n",
      "50/50 [==============================] - 8s 165ms/step - loss: 3.6912 - accuracy: 0.0225 - val_loss: 3.6890 - val_accuracy: 0.0250 - lr: 0.0100\n",
      "Epoch 26/10000\n",
      "50/50 [==============================] - ETA: 0s - loss: 3.6916 - accuracy: 0.0181\n",
      "Epoch 26: ReduceLROnPlateau reducing learning rate to 0.0009999999776482583.\n",
      "50/50 [==============================] - 8s 164ms/step - loss: 3.6916 - accuracy: 0.0181 - val_loss: 3.6890 - val_accuracy: 0.0250 - lr: 0.0100\n",
      "Epoch 27/10000\n",
      "50/50 [==============================] - 8s 164ms/step - loss: 3.6893 - accuracy: 0.0250 - val_loss: 3.6890 - val_accuracy: 0.0250 - lr: 1.0000e-03\n",
      "Epoch 28/10000\n",
      "50/50 [==============================] - 8s 165ms/step - loss: 3.6893 - accuracy: 0.0200 - val_loss: 3.6890 - val_accuracy: 0.0250 - lr: 1.0000e-03\n",
      "Epoch 29/10000\n",
      "50/50 [==============================] - 8s 165ms/step - loss: 3.6893 - accuracy: 0.0250 - val_loss: 3.6890 - val_accuracy: 0.0250 - lr: 1.0000e-03\n",
      "Epoch 30/10000\n",
      "50/50 [==============================] - 8s 165ms/step - loss: 3.6892 - accuracy: 0.0234 - val_loss: 3.6890 - val_accuracy: 0.0250 - lr: 1.0000e-03\n",
      "Epoch 31/10000\n",
      "50/50 [==============================] - 8s 164ms/step - loss: 3.6892 - accuracy: 0.0250 - val_loss: 3.6889 - val_accuracy: 0.0250 - lr: 1.0000e-03\n",
      "Epoch 32/10000\n",
      "50/50 [==============================] - 8s 165ms/step - loss: 3.6892 - accuracy: 0.0219 - val_loss: 3.6889 - val_accuracy: 0.0250 - lr: 1.0000e-03\n",
      "Epoch 33/10000\n",
      "50/50 [==============================] - 8s 165ms/step - loss: 3.6892 - accuracy: 0.0219 - val_loss: 3.6889 - val_accuracy: 0.0250 - lr: 1.0000e-03\n",
      "Epoch 34/10000\n",
      "50/50 [==============================] - 8s 165ms/step - loss: 3.6892 - accuracy: 0.0244 - val_loss: 3.6889 - val_accuracy: 0.0250 - lr: 1.0000e-03\n",
      "Epoch 35/10000\n",
      "50/50 [==============================] - 8s 165ms/step - loss: 3.6892 - accuracy: 0.0231 - val_loss: 3.6889 - val_accuracy: 0.0250 - lr: 1.0000e-03\n",
      "Epoch 36/10000\n",
      "50/50 [==============================] - 8s 165ms/step - loss: 3.6892 - accuracy: 0.0250 - val_loss: 3.6889 - val_accuracy: 0.0250 - lr: 1.0000e-03\n",
      "Epoch 37/10000\n",
      "50/50 [==============================] - 8s 165ms/step - loss: 3.6892 - accuracy: 0.0200 - val_loss: 3.6889 - val_accuracy: 0.0250 - lr: 1.0000e-03\n",
      "Epoch 38/10000\n",
      "50/50 [==============================] - 8s 165ms/step - loss: 3.6892 - accuracy: 0.0250 - val_loss: 3.6889 - val_accuracy: 0.0250 - lr: 1.0000e-03\n",
      "Epoch 39/10000\n",
      "50/50 [==============================] - 8s 165ms/step - loss: 3.6891 - accuracy: 0.0250 - val_loss: 3.6889 - val_accuracy: 0.0250 - lr: 1.0000e-03\n",
      "Epoch 40/10000\n",
      "50/50 [==============================] - 8s 165ms/step - loss: 3.6892 - accuracy: 0.0250 - val_loss: 3.6889 - val_accuracy: 0.0250 - lr: 1.0000e-03\n",
      "Epoch 41/10000\n",
      "50/50 [==============================] - 8s 165ms/step - loss: 3.6892 - accuracy: 0.0200 - val_loss: 3.6889 - val_accuracy: 0.0250 - lr: 1.0000e-03\n",
      "Epoch 42/10000\n",
      "50/50 [==============================] - 8s 165ms/step - loss: 3.6891 - accuracy: 0.0250 - val_loss: 3.6889 - val_accuracy: 0.0250 - lr: 1.0000e-03\n",
      "Epoch 43/10000\n",
      "50/50 [==============================] - 8s 165ms/step - loss: 3.6891 - accuracy: 0.0250 - val_loss: 3.6889 - val_accuracy: 0.0250 - lr: 1.0000e-03\n",
      "Epoch 44/10000\n",
      "50/50 [==============================] - 8s 165ms/step - loss: 3.6891 - accuracy: 0.0216 - val_loss: 3.6889 - val_accuracy: 0.0250 - lr: 1.0000e-03\n",
      "Epoch 45/10000\n",
      "50/50 [==============================] - 8s 165ms/step - loss: 3.6892 - accuracy: 0.0203 - val_loss: 3.6889 - val_accuracy: 0.0250 - lr: 1.0000e-03\n",
      "Epoch 46/10000\n",
      "50/50 [==============================] - 8s 165ms/step - loss: 3.6892 - accuracy: 0.0237 - val_loss: 3.6889 - val_accuracy: 0.0250 - lr: 1.0000e-03\n",
      "Epoch 47/10000\n",
      "50/50 [==============================] - 8s 165ms/step - loss: 3.6891 - accuracy: 0.0222 - val_loss: 3.6889 - val_accuracy: 0.0250 - lr: 1.0000e-03\n",
      "Epoch 48/10000\n",
      "50/50 [==============================] - 8s 165ms/step - loss: 3.6891 - accuracy: 0.0250 - val_loss: 3.6889 - val_accuracy: 0.0250 - lr: 1.0000e-03\n",
      "Epoch 49/10000\n",
      "50/50 [==============================] - 8s 165ms/step - loss: 3.6892 - accuracy: 0.0209 - val_loss: 3.6889 - val_accuracy: 0.0250 - lr: 1.0000e-03\n",
      "Epoch 50/10000\n",
      "50/50 [==============================] - 8s 165ms/step - loss: 3.6892 - accuracy: 0.0191 - val_loss: 3.6889 - val_accuracy: 0.0250 - lr: 1.0000e-03\n",
      "Epoch 51/10000\n",
      "50/50 [==============================] - ETA: 0s - loss: 3.6891 - accuracy: 0.0194\n",
      "Epoch 51: ReduceLROnPlateau reducing learning rate to 9.999999310821295e-05.\n",
      "50/50 [==============================] - 8s 165ms/step - loss: 3.6891 - accuracy: 0.0194 - val_loss: 3.6889 - val_accuracy: 0.0250 - lr: 1.0000e-03\n",
      "Epoch 52/10000\n",
      "50/50 [==============================] - 8s 165ms/step - loss: 3.6889 - accuracy: 0.0250 - val_loss: 3.6889 - val_accuracy: 0.0250 - lr: 1.0000e-04\n",
      "Epoch 53/10000\n",
      "50/50 [==============================] - 8s 165ms/step - loss: 3.6889 - accuracy: 0.0250 - val_loss: 3.6889 - val_accuracy: 0.0250 - lr: 1.0000e-04\n",
      "Epoch 54/10000\n",
      "50/50 [==============================] - 8s 165ms/step - loss: 3.6889 - accuracy: 0.0250 - val_loss: 3.6889 - val_accuracy: 0.0250 - lr: 1.0000e-04\n",
      "Epoch 55/10000\n",
      "50/50 [==============================] - 8s 165ms/step - loss: 3.6889 - accuracy: 0.0250 - val_loss: 3.6889 - val_accuracy: 0.0250 - lr: 1.0000e-04\n",
      "Epoch 56/10000\n",
      "50/50 [==============================] - 8s 165ms/step - loss: 3.6889 - accuracy: 0.0250 - val_loss: 3.6889 - val_accuracy: 0.0250 - lr: 1.0000e-04\n",
      "Epoch 57/10000\n",
      "50/50 [==============================] - 8s 165ms/step - loss: 3.6889 - accuracy: 0.0250 - val_loss: 3.6889 - val_accuracy: 0.0250 - lr: 1.0000e-04\n",
      "Epoch 58/10000\n",
      "50/50 [==============================] - 8s 165ms/step - loss: 3.6889 - accuracy: 0.0250 - val_loss: 3.6889 - val_accuracy: 0.0250 - lr: 1.0000e-04\n"
     ]
    },
    {
     "name": "stdout",
     "output_type": "stream",
     "text": [
      "Epoch 59/10000\n",
      "50/50 [==============================] - 8s 165ms/step - loss: 3.6889 - accuracy: 0.0250 - val_loss: 3.6889 - val_accuracy: 0.0250 - lr: 1.0000e-04\n",
      "Epoch 60/10000\n",
      "50/50 [==============================] - 8s 165ms/step - loss: 3.6889 - accuracy: 0.0250 - val_loss: 3.6889 - val_accuracy: 0.0250 - lr: 1.0000e-04\n",
      "Epoch 61/10000\n",
      "50/50 [==============================] - 8s 165ms/step - loss: 3.6889 - accuracy: 0.0250 - val_loss: 3.6889 - val_accuracy: 0.0250 - lr: 1.0000e-04\n",
      "Epoch 62/10000\n",
      "50/50 [==============================] - 8s 165ms/step - loss: 3.6889 - accuracy: 0.0250 - val_loss: 3.6889 - val_accuracy: 0.0250 - lr: 1.0000e-04\n",
      "Epoch 63/10000\n",
      "50/50 [==============================] - 8s 165ms/step - loss: 3.6889 - accuracy: 0.0250 - val_loss: 3.6889 - val_accuracy: 0.0250 - lr: 1.0000e-04\n",
      "Epoch 64/10000\n",
      "50/50 [==============================] - 8s 165ms/step - loss: 3.6889 - accuracy: 0.0250 - val_loss: 3.6889 - val_accuracy: 0.0250 - lr: 1.0000e-04\n",
      "Epoch 65/10000\n",
      "50/50 [==============================] - 8s 165ms/step - loss: 3.6889 - accuracy: 0.0250 - val_loss: 3.6889 - val_accuracy: 0.0250 - lr: 1.0000e-04\n",
      "Epoch 66/10000\n",
      "50/50 [==============================] - 8s 165ms/step - loss: 3.6889 - accuracy: 0.0250 - val_loss: 3.6889 - val_accuracy: 0.0250 - lr: 1.0000e-04\n",
      "Epoch 67/10000\n",
      "50/50 [==============================] - 8s 165ms/step - loss: 3.6889 - accuracy: 0.0250 - val_loss: 3.6889 - val_accuracy: 0.0250 - lr: 1.0000e-04\n",
      "Epoch 68/10000\n",
      " 7/50 [===>..........................] - ETA: 6s - loss: 3.6890 - accuracy: 0.0312"
     ]
    },
    {
     "name": "stderr",
     "output_type": "stream",
     "text": [
      "IOPub message rate exceeded.\n",
      "The notebook server will temporarily stop sending output\n",
      "to the client in order to avoid crashing it.\n",
      "To change this limit, set the config variable\n",
      "`--NotebookApp.iopub_msg_rate_limit`.\n",
      "\n",
      "Current values:\n",
      "NotebookApp.iopub_msg_rate_limit=1000.0 (msgs/sec)\n",
      "NotebookApp.rate_limit_window=3.0 (secs)\n",
      "\n"
     ]
    }
   ],
   "source": [
    "import tensorflow as tf\n",
    "from tensorflow.keras.callbacks import ReduceLROnPlateau, EarlyStopping\n",
    "from keras import Sequential\n",
    "from tensorflow.keras.layers import Dense, Dropout\n",
    "\n",
    "metrics = 'accuracy'\n",
    "callbacks = [\n",
    "    ReduceLROnPlateau(\n",
    "    monitor=metrics, factor=0.1, patience=25, verbose=True,\n",
    "    mode='min', min_delta=1, min_lr=1e-7,),\n",
    "    EarlyStopping(monitor=f'val_{metrics}', patience=150, verbose=False, min_delta=1, restore_best_weights=True),\n",
    "]\n",
    "\n",
    "n_classes = len(set(labels))\n",
    "    \n",
    "resnet = tf.keras.applications.resnet50.ResNet50(\n",
    "    include_top=False,\n",
    "    weights=None,\n",
    "    input_tensor=None,\n",
    "    input_shape=None,\n",
    "    pooling='avg',\n",
    "    classes=n_classes,\n",
    "    classifier_activation='softmax',\n",
    ")\n",
    "\n",
    "model = Sequential([\n",
    "    resnet,\n",
    "    Dense(128, activation='ReLU'),\n",
    "    Dropout(0.5),    \n",
    "    Dense(n_classes, activation='softmax')\n",
    "])\n",
    "model.compile(optimizer=tf.keras.optimizers.Adam(learning_rate=0.01), loss='sparse_categorical_crossentropy', metrics=metrics)\n",
    "\n",
    "model.fit(x_train, y_train, validation_data=(x_test, y_test), epochs=10000, callbacks=callbacks, batch_size=64)"
   ]
  },
  {
   "cell_type": "code",
   "execution_count": 7,
   "id": "93cae330",
   "metadata": {},
   "outputs": [
    {
     "name": "stdout",
     "output_type": "stream",
     "text": [
      "Model: \"sequential\"\n",
      "_________________________________________________________________\n",
      " Layer (type)                Output Shape              Param #   \n",
      "=================================================================\n",
      " resnet50 (Functional)       (None, 2048)              23587712  \n",
      "                                                                 \n",
      " dense (Dense)               (None, 128)               262272    \n",
      "                                                                 \n",
      " dropout (Dropout)           (None, 128)               0         \n",
      "                                                                 \n",
      " dense_1 (Dense)             (None, 40)                5160      \n",
      "                                                                 \n",
      "=================================================================\n",
      "Total params: 23,855,144\n",
      "Trainable params: 23,802,024\n",
      "Non-trainable params: 53,120\n",
      "_________________________________________________________________\n",
      "None\n"
     ]
    }
   ],
   "source": [
    "print(model.summary())"
   ]
  },
  {
   "cell_type": "code",
   "execution_count": 8,
   "id": "5c628864",
   "metadata": {},
   "outputs": [
    {
     "name": "stdout",
     "output_type": "stream",
     "text": [
      "(800,)\n",
      "(800,)\n",
      "{0, 1, 2, 3, 4, 5, 6, 7, 8, 9, 10, 11, 12, 13, 14, 15, 16, 17, 18, 19, 20, 21, 22, 23, 24, 25, 26, 27, 28, 29, 30, 31, 32, 33, 34, 35, 36, 37, 38, 39}\n"
     ]
    },
    {
     "data": {
      "image/png": "[encoded data removed]",
      "text/plain": [
       "<Figure size 360x360 with 2 Axes>"
      ]
     },
     "metadata": {
      "needs_background": "light"
     },
     "output_type": "display_data"
    }
   ],
   "source": [
    "y_pred = model.predict(x_test).argmax(axis=-1)\n",
    "y_true = y_test\n",
    "\n",
    "print(y_pred.shape)\n",
    "print(y_true.shape)\n",
    "print(set(y_test))\n",
    "from sklearn.metrics import confusion_matrix\n",
    "from sklearn.metrics import ConfusionMatrixDisplay\n",
    "cm = ConfusionMatrixDisplay.from_predictions(y_true, y_pred)\n"
   ]
  },
  {
   "cell_type": "code",
   "execution_count": null,
   "id": "22b3331a",
   "metadata": {},
   "outputs": [],
   "source": []
  }
 ],
 "metadata": {
  "kernelspec": {
   "display_name": "Python 3 (ipykernel)",
   "language": "python",
   "name": "python3"
  },
  "language_info": {
   "codemirror_mode": {
    "name": "ipython",
    "version": 3
   },
   "file_extension": ".py",
   "mimetype": "text/x-python",
   "name": "python",
   "nbconvert_exporter": "python",
   "pygments_lexer": "ipython3",
   "version": "3.8.10"
  }
 },
 "nbformat": 4,
 "nbformat_minor": 5
}
