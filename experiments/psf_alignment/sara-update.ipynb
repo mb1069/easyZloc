{
 "cells": [
  {
   "cell_type": "code",
   "execution_count": 20,
   "id": "3c350189",
   "metadata": {},
   "outputs": [
    {
     "name": "stdout",
     "output_type": "stream",
     "text": [
      "Fitting datagen...\n",
      "Fitted\n"
     ]
    }
   ],
   "source": [
    "from tensorflow.keras.preprocessing.image import ImageDataGenerator\n",
    "\n",
    "datagen = ImageDataGenerator(\n",
    "    rescale=1.0/65336.0,\n",
    "    samplewise_center=False,\n",
    "    samplewise_std_normalization=False,\n",
    "    featurewise_center=True,\n",
    "    featurewise_std_normalization=True,\n",
    "    horizontal_flip=False)\n",
    "\n",
    "print('Fitting datagen...')\n",
    "# compute quantities required for featurewise normalization\n",
    "# (std, mean, and principal components if ZCA whitening is applied)\n",
    "datagen.fit(X_train[0])\n",
    "print('Fitted')\n",
    "\n",
    "X_train_preproc = [X_train[0].copy(), X_train[1].copy()]\n",
    "X_val_preproc = [X_val[0].copy(), X_val[1].copy()]\n",
    "\n",
    "X_train_preproc[0] = datagen.standardize(X_train_preproc[0].astype(float))\n",
    "X_val_preproc[0] = datagen.standardize(X_val_preproc[0].astype(float))\n",
    "\n",
    "# preprocessors = {\n",
    "#     'psfs': datagen,\n",
    "#     'coords': coords_scaler\n",
    "# }\n",
    "\n",
    "# import pickle\n",
    "# with open('./scalers.p', 'wb') as f:\n",
    "#     pickle.dump(preprocessors, f)"
   ]
  },
  {
   "cell_type": "code",
   "execution_count": 26,
   "id": "cfc51c1d",
   "metadata": {},
   "outputs": [
    {
     "name": "stderr",
     "output_type": "stream",
     "text": [
      "/home/miguel/Projects/uni/venv/lib/python3.8/site-packages/tensorflow_addons/utils/tfa_eol_msg.py:23: UserWarning: \n",
      "\n",
      "TensorFlow Addons (TFA) has ended development and introduction of new features.\n",
      "TFA has entered a minimal maintenance and release mode until a planned end of life in May 2024.\n",
      "Please modify downstream libraries to take dependencies from other repositories in our TensorFlow community (e.g. Keras, Keras-CV, and Keras-NLP). \n",
      "\n",
      "For more information see: https://github.com/tensorflow/addons/issues/2807 \n",
      "\n",
      "  warnings.warn(\n"
     ]
    },
    {
     "name": "stdout",
     "output_type": "stream",
     "text": [
      "(None, 128, 128, 3)\n"
     ]
    },
    {
     "name": "stderr",
     "output_type": "stream",
     "text": [
      "/home/miguel/Projects/uni/venv/lib/python3.8/site-packages/vit_keras/utils.py:81: UserWarning: Resizing position embeddings from 24, 24 to 8, 8\n",
      "  warnings.warn(\n"
     ]
    },
    {
     "data": {
      "application/vnd.jupyter.widget-view+json": {
       "model_id": "b88e953bd1254e15a253a616a65cc386",
       "version_major": 2,
       "version_minor": 0
      },
      "text/plain": [
       "HBox(children=(HTML(value=''), FloatProgress(value=1.0, bar_style='info', layout=Layout(width='20px'), max=1.0…"
      ]
     },
     "metadata": {},
     "output_type": "display_data"
    },
    {
     "data": {
      "application/vnd.jupyter.widget-view+json": {
       "model_id": "",
       "version_major": 2,
       "version_minor": 0
      },
      "text/plain": [
       "HBox(children=(HTML(value=''), FloatProgress(value=1.0, bar_style='info', layout=Layout(width='20px'), max=1.0…"
      ]
     },
     "metadata": {},
     "output_type": "display_data"
    },
    {
     "name": "stderr",
     "output_type": "stream",
     "text": [
      "2023-09-12 10:07:53.838912: W tensorflow/tsl/framework/cpu_allocator_impl.cc:83] Allocation of 13678018560 exceeds 10% of free system memory.\n",
      "2023-09-12 10:07:59.192267: W tensorflow/tsl/framework/cpu_allocator_impl.cc:83] Allocation of 13678018560 exceeds 10% of free system memory.\n"
     ]
    },
    {
     "name": "stdout",
     "output_type": "stream",
     "text": [
      "Epoch 1/5000\n"
     ]
    },
    {
     "name": "stderr",
     "output_type": "stream",
     "text": [
      "2023-09-12 10:08:18.472544: I tensorflow/compiler/xla/stream_executor/cuda/cuda_blas.cc:637] TensorFloat-32 will be used for the matrix multiplication. This will only be logged once.\n",
      "2023-09-12 10:08:18.641735: I tensorflow/compiler/xla/stream_executor/cuda/cuda_dnn.cc:424] Loaded cuDNN version 8901\n",
      "2023-09-12 10:08:20.265364: I tensorflow/compiler/xla/service/service.cc:169] XLA service 0x27ae3a20 initialized for platform CUDA (this does not guarantee that XLA will be used). Devices:\n",
      "2023-09-12 10:08:20.265378: I tensorflow/compiler/xla/service/service.cc:177]   StreamExecutor device (0): NVIDIA GeForce RTX 3090, Compute Capability 8.6\n",
      "2023-09-12 10:08:20.300459: I tensorflow/compiler/mlir/tensorflow/utils/dump_mlir_util.cc:269] disabling MLIR crash reproducer, set env var `MLIR_CRASH_REPRODUCER_DIRECTORY` to enable.\n",
      "2023-09-12 10:08:20.592210: I ./tensorflow/compiler/jit/device_compiler.h:180] Compiled cluster using XLA!  This line is logged at most once for the lifetime of the process.\n"
     ]
    },
    {
     "name": "stdout",
     "output_type": "stream",
     "text": [
      "1088/1088 [==============================] - 243s 196ms/step - loss: 159908.0938 - mean_absolute_error: 287.9431 - val_loss: 17493.9551 - val_mean_absolute_error: 86.2758 - lr: 1.0000e-04\n",
      "Epoch 2/5000\n",
      "1088/1088 [==============================] - 218s 200ms/step - loss: 98143.0703 - mean_absolute_error: 200.0886 - val_loss: 7963.6973 - val_mean_absolute_error: 67.0140 - lr: 1.0000e-04\n",
      "Epoch 3/5000\n",
      "1088/1088 [==============================] - 219s 202ms/step - loss: 93767.6406 - mean_absolute_error: 191.0809 - val_loss: 5063.9272 - val_mean_absolute_error: 46.0622 - lr: 1.0000e-04\n",
      "Epoch 4/5000\n",
      "1088/1088 [==============================] - 221s 203ms/step - loss: 92445.8672 - mean_absolute_error: 188.3221 - val_loss: 10073.3838 - val_mean_absolute_error: 54.3140 - lr: 1.0000e-04\n",
      "Epoch 5/5000\n",
      "1088/1088 [==============================] - 222s 204ms/step - loss: 90910.5234 - mean_absolute_error: 185.8869 - val_loss: 5503.5918 - val_mean_absolute_error: 44.5175 - lr: 1.0000e-04\n",
      "Epoch 6/5000\n",
      "1088/1088 [==============================] - 222s 204ms/step - loss: 90050.5781 - mean_absolute_error: 183.8777 - val_loss: 4236.1523 - val_mean_absolute_error: 44.5586 - lr: 1.0000e-04\n",
      "Epoch 7/5000\n",
      "1088/1088 [==============================] - 223s 205ms/step - loss: 89303.4844 - mean_absolute_error: 182.2986 - val_loss: 6129.8950 - val_mean_absolute_error: 51.5151 - lr: 1.0000e-04\n",
      "Epoch 8/5000\n",
      "1088/1088 [==============================] - 223s 205ms/step - loss: 88786.8125 - mean_absolute_error: 180.9738 - val_loss: 4722.3027 - val_mean_absolute_error: 38.4756 - lr: 1.0000e-04\n",
      "Epoch 9/5000\n",
      "1088/1088 [==============================] - 222s 204ms/step - loss: 88023.1797 - mean_absolute_error: 180.2193 - val_loss: 5389.7451 - val_mean_absolute_error: 39.7840 - lr: 1.0000e-04\n",
      "Epoch 10/5000\n",
      " 939/1088 [========================>.....] - ETA: 30s - loss: 88400.5234 - mean_absolute_error: 180.0794"
     ]
    },
    {
     "name": "stderr",
     "output_type": "stream",
     "text": [
      "IOPub message rate exceeded.\n",
      "The notebook server will temporarily stop sending output\n",
      "to the client in order to avoid crashing it.\n",
      "To change this limit, set the config variable\n",
      "`--NotebookApp.iopub_msg_rate_limit`.\n",
      "\n",
      "Current values:\n",
      "NotebookApp.iopub_msg_rate_limit=1000.0 (msgs/sec)\n",
      "NotebookApp.rate_limit_window=3.0 (secs)\n",
      "\n"
     ]
    },
    {
     "name": "stdout",
     "output_type": "stream",
     "text": [
      "1046/1088 [===========================>..] - ETA: 8s - loss: 86459.3906 - mean_absolute_error: 177.1382"
     ]
    },
    {
     "name": "stderr",
     "output_type": "stream",
     "text": [
      "IOPub message rate exceeded.\n",
      "The notebook server will temporarily stop sending output\n",
      "to the client in order to avoid crashing it.\n",
      "To change this limit, set the config variable\n",
      "`--NotebookApp.iopub_msg_rate_limit`.\n",
      "\n",
      "Current values:\n",
      "NotebookApp.iopub_msg_rate_limit=1000.0 (msgs/sec)\n",
      "NotebookApp.rate_limit_window=3.0 (secs)\n",
      "\n"
     ]
    },
    {
     "name": "stdout",
     "output_type": "stream",
     "text": [
      "1088/1088 [==============================] - 223s 205ms/step - loss: 87144.8828 - mean_absolute_error: 178.1204 - val_loss: 3773.5801 - val_mean_absolute_error: 34.3028 - lr: 1.0000e-04\n",
      "Epoch 18/5000\n",
      "1088/1088 [==============================] - 223s 205ms/step - loss: 85925.8359 - mean_absolute_error: 175.7360 - val_loss: 3053.0862 - val_mean_absolute_error: 33.0656 - lr: 1.0000e-04\n",
      "Epoch 19/5000\n",
      "1088/1088 [==============================] - 222s 204ms/step - loss: 85180.7891 - mean_absolute_error: 174.8492 - val_loss: 4718.1382 - val_mean_absolute_error: 32.8010 - lr: 1.0000e-04\n",
      "Epoch 20/5000\n",
      "1088/1088 [==============================] - 223s 205ms/step - loss: 85376.7891 - mean_absolute_error: 174.9857 - val_loss: 6909.3608 - val_mean_absolute_error: 35.4843 - lr: 1.0000e-04\n",
      "Epoch 21/5000\n",
      "1088/1088 [==============================] - 222s 204ms/step - loss: 85128.1562 - mean_absolute_error: 174.9341 - val_loss: 5600.2607 - val_mean_absolute_error: 38.5545 - lr: 1.0000e-04\n",
      "Epoch 22/5000\n",
      "1088/1088 [==============================] - 223s 205ms/step - loss: 84841.8516 - mean_absolute_error: 174.3540 - val_loss: 4901.9307 - val_mean_absolute_error: 37.8538 - lr: 1.0000e-04\n",
      "Epoch 23/5000\n",
      "1088/1088 [==============================] - 223s 205ms/step - loss: 85122.8750 - mean_absolute_error: 174.8359 - val_loss: 3567.9534 - val_mean_absolute_error: 34.1541 - lr: 1.0000e-04\n",
      "Epoch 24/5000\n",
      "1088/1088 [==============================] - 223s 205ms/step - loss: 85066.3906 - mean_absolute_error: 174.5968 - val_loss: 7252.8076 - val_mean_absolute_error: 35.2043 - lr: 1.0000e-04\n",
      "Epoch 25/5000\n",
      "1088/1088 [==============================] - 223s 205ms/step - loss: 85111.3281 - mean_absolute_error: 174.8698 - val_loss: 3174.0500 - val_mean_absolute_error: 31.9251 - lr: 1.0000e-04\n",
      "Epoch 26/5000\n",
      "1088/1088 [==============================] - 223s 205ms/step - loss: 84175.5547 - mean_absolute_error: 173.3674 - val_loss: 3953.8560 - val_mean_absolute_error: 37.4176 - lr: 1.0000e-04\n",
      "Epoch 28/5000\n",
      "  61/1088 [>.............................] - ETA: 3:27 - loss: 83784.9844 - mean_absolute_error: 173.6947"
     ]
    },
    {
     "name": "stderr",
     "output_type": "stream",
     "text": [
      "IOPub message rate exceeded.\n",
      "The notebook server will temporarily stop sending output\n",
      "to the client in order to avoid crashing it.\n",
      "To change this limit, set the config variable\n",
      "`--NotebookApp.iopub_msg_rate_limit`.\n",
      "\n",
      "Current values:\n",
      "NotebookApp.iopub_msg_rate_limit=1000.0 (msgs/sec)\n",
      "NotebookApp.rate_limit_window=3.0 (secs)\n",
      "\n"
     ]
    },
    {
     "name": "stdout",
     "output_type": "stream",
     "text": [
      "1088/1088 [==============================] - 223s 205ms/step - loss: 83737.9531 - mean_absolute_error: 172.9440 - val_loss: 5260.3320 - val_mean_absolute_error: 34.9032 - lr: 1.0000e-04\n",
      "Epoch 29/5000\n",
      "1088/1088 [==============================] - 223s 205ms/step - loss: 83222.8672 - mean_absolute_error: 172.0210 - val_loss: 9938.3174 - val_mean_absolute_error: 38.3507 - lr: 1.0000e-04\n",
      "Epoch 31/5000\n",
      "1088/1088 [==============================] - 223s 205ms/step - loss: 83628.9531 - mean_absolute_error: 173.0504 - val_loss: 5519.0586 - val_mean_absolute_error: 41.7895 - lr: 1.0000e-04\n",
      "Epoch 32/5000\n",
      "1088/1088 [==============================] - 223s 205ms/step - loss: 84348.8281 - mean_absolute_error: 173.6806 - val_loss: 4049.2720 - val_mean_absolute_error: 31.1196 - lr: 1.0000e-04\n",
      "Epoch 33/5000\n",
      "1088/1088 [==============================] - 223s 205ms/step - loss: 82919.8594 - mean_absolute_error: 171.0876 - val_loss: 4749.8643 - val_mean_absolute_error: 33.9089 - lr: 1.0000e-04\n",
      "Epoch 34/5000\n",
      " 703/1088 [==================>...........] - ETA: 1:18 - loss: 81959.4531 - mean_absolute_error: 169.9152"
     ]
    },
    {
     "name": "stderr",
     "output_type": "stream",
     "text": [
      "IOPub message rate exceeded.\n",
      "The notebook server will temporarily stop sending output\n",
      "to the client in order to avoid crashing it.\n",
      "To change this limit, set the config variable\n",
      "`--NotebookApp.iopub_msg_rate_limit`.\n",
      "\n",
      "Current values:\n",
      "NotebookApp.iopub_msg_rate_limit=1000.0 (msgs/sec)\n",
      "NotebookApp.rate_limit_window=3.0 (secs)\n",
      "\n"
     ]
    },
    {
     "name": "stdout",
     "output_type": "stream",
     "text": [
      "1088/1088 [==============================] - 223s 205ms/step - loss: 83168.1562 - mean_absolute_error: 171.9058 - val_loss: 6491.8877 - val_mean_absolute_error: 42.5846 - lr: 1.0000e-04\n",
      "Epoch 40/5000\n",
      "  57/1088 [>.............................] - ETA: 3:27 - loss: 81151.6406 - mean_absolute_error: 168.9451"
     ]
    },
    {
     "name": "stderr",
     "output_type": "stream",
     "text": [
      "IOPub message rate exceeded.\n",
      "The notebook server will temporarily stop sending output\n",
      "to the client in order to avoid crashing it.\n",
      "To change this limit, set the config variable\n",
      "`--NotebookApp.iopub_msg_rate_limit`.\n",
      "\n",
      "Current values:\n",
      "NotebookApp.iopub_msg_rate_limit=1000.0 (msgs/sec)\n",
      "NotebookApp.rate_limit_window=3.0 (secs)\n",
      "\n"
     ]
    },
    {
     "name": "stdout",
     "output_type": "stream",
     "text": [
      "1088/1088 [==============================] - 223s 205ms/step - loss: 82959.5078 - mean_absolute_error: 171.4243 - val_loss: 3085.3442 - val_mean_absolute_error: 32.4042 - lr: 1.0000e-04\n",
      "Epoch 45/5000\n",
      " 696/1088 [==================>...........] - ETA: 1:19 - loss: 81860.8828 - mean_absolute_error: 169.8420"
     ]
    },
    {
     "name": "stderr",
     "output_type": "stream",
     "text": [
      "IOPub message rate exceeded.\n",
      "The notebook server will temporarily stop sending output\n",
      "to the client in order to avoid crashing it.\n",
      "To change this limit, set the config variable\n",
      "`--NotebookApp.iopub_msg_rate_limit`.\n",
      "\n",
      "Current values:\n",
      "NotebookApp.iopub_msg_rate_limit=1000.0 (msgs/sec)\n",
      "NotebookApp.rate_limit_window=3.0 (secs)\n",
      "\n"
     ]
    },
    {
     "name": "stdout",
     "output_type": "stream",
     "text": [
      "1088/1088 [==============================] - 223s 205ms/step - loss: 82115.1562 - mean_absolute_error: 170.1649 - val_loss: 7225.9844 - val_mean_absolute_error: 43.6959 - lr: 1.0000e-04\n",
      "Epoch 51/5000\n",
      " 273/1088 [======>.......................] - ETA: 2:45 - loss: 81679.3828 - mean_absolute_error: 171.0249"
     ]
    },
    {
     "name": "stderr",
     "output_type": "stream",
     "text": [
      "IOPub message rate exceeded.\n",
      "The notebook server will temporarily stop sending output\n",
      "to the client in order to avoid crashing it.\n",
      "To change this limit, set the config variable\n",
      "`--NotebookApp.iopub_msg_rate_limit`.\n",
      "\n",
      "Current values:\n",
      "NotebookApp.iopub_msg_rate_limit=1000.0 (msgs/sec)\n",
      "NotebookApp.rate_limit_window=3.0 (secs)\n",
      "\n"
     ]
    },
    {
     "name": "stdout",
     "output_type": "stream",
     "text": [
      "1088/1088 [==============================] - 223s 205ms/step - loss: 80604.1484 - mean_absolute_error: 167.9303 - val_loss: 4459.2798 - val_mean_absolute_error: 35.2051 - lr: 1.0000e-04\n",
      "Epoch 56/5000\n",
      " 631/1088 [================>.............] - ETA: 1:32 - loss: 82505.0391 - mean_absolute_error: 170.3895"
     ]
    },
    {
     "name": "stderr",
     "output_type": "stream",
     "text": [
      "IOPub message rate exceeded.\n",
      "The notebook server will temporarily stop sending output\n",
      "to the client in order to avoid crashing it.\n",
      "To change this limit, set the config variable\n",
      "`--NotebookApp.iopub_msg_rate_limit`.\n",
      "\n",
      "Current values:\n",
      "NotebookApp.iopub_msg_rate_limit=1000.0 (msgs/sec)\n",
      "NotebookApp.rate_limit_window=3.0 (secs)\n",
      "\n"
     ]
    },
    {
     "name": "stdout",
     "output_type": "stream",
     "text": [
      "1088/1088 [==============================] - 224s 205ms/step - loss: 81701.9531 - mean_absolute_error: 169.5353 - val_loss: 3164.6257 - val_mean_absolute_error: 34.1535 - lr: 1.0000e-04\n",
      "Epoch 62/5000\n",
      "  17/1088 [..............................] - ETA: 3:36 - loss: 81373.0469 - mean_absolute_error: 166.4272"
     ]
    },
    {
     "name": "stderr",
     "output_type": "stream",
     "text": [
      "IOPub message rate exceeded.\n",
      "The notebook server will temporarily stop sending output\n",
      "to the client in order to avoid crashing it.\n",
      "To change this limit, set the config variable\n",
      "`--NotebookApp.iopub_msg_rate_limit`.\n",
      "\n",
      "Current values:\n",
      "NotebookApp.iopub_msg_rate_limit=1000.0 (msgs/sec)\n",
      "NotebookApp.rate_limit_window=3.0 (secs)\n",
      "\n"
     ]
    },
    {
     "name": "stdout",
     "output_type": "stream",
     "text": [
      "1088/1088 [==============================] - 223s 205ms/step - loss: 78508.2969 - mean_absolute_error: 164.4682 - val_loss: 4695.4746 - val_mean_absolute_error: 33.2562 - lr: 1.0000e-05\n",
      "Epoch 67/5000\n",
      " 531/1088 [=============>................] - ETA: 1:53 - loss: 79013.4766 - mean_absolute_error: 165.0674"
     ]
    },
    {
     "name": "stderr",
     "output_type": "stream",
     "text": [
      "IOPub message rate exceeded.\n",
      "The notebook server will temporarily stop sending output\n",
      "to the client in order to avoid crashing it.\n",
      "To change this limit, set the config variable\n",
      "`--NotebookApp.iopub_msg_rate_limit`.\n",
      "\n",
      "Current values:\n",
      "NotebookApp.iopub_msg_rate_limit=1000.0 (msgs/sec)\n",
      "NotebookApp.rate_limit_window=3.0 (secs)\n",
      "\n"
     ]
    },
    {
     "name": "stdout",
     "output_type": "stream",
     "text": [
      "1047/1088 [===========================>..] - ETA: 8s - loss: 77877.7031 - mean_absolute_error: 163.3230"
     ]
    },
    {
     "name": "stderr",
     "output_type": "stream",
     "text": [
      "IOPub message rate exceeded.\n",
      "The notebook server will temporarily stop sending output\n",
      "to the client in order to avoid crashing it.\n",
      "To change this limit, set the config variable\n",
      "`--NotebookApp.iopub_msg_rate_limit`.\n",
      "\n",
      "Current values:\n",
      "NotebookApp.iopub_msg_rate_limit=1000.0 (msgs/sec)\n",
      "NotebookApp.rate_limit_window=3.0 (secs)\n",
      "\n"
     ]
    },
    {
     "name": "stdout",
     "output_type": "stream",
     "text": [
      "1088/1088 [==============================] - 224s 206ms/step - loss: 77792.7031 - mean_absolute_error: 163.0014 - val_loss: 5211.0234 - val_mean_absolute_error: 30.7608 - lr: 1.0000e-05\n",
      "Epoch 78/5000\n",
      " 496/1088 [============>.................] - ETA: 2:00 - loss: 78134.9531 - mean_absolute_error: 163.3238"
     ]
    },
    {
     "name": "stderr",
     "output_type": "stream",
     "text": [
      "IOPub message rate exceeded.\n",
      "The notebook server will temporarily stop sending output\n",
      "to the client in order to avoid crashing it.\n",
      "To change this limit, set the config variable\n",
      "`--NotebookApp.iopub_msg_rate_limit`.\n",
      "\n",
      "Current values:\n",
      "NotebookApp.iopub_msg_rate_limit=1000.0 (msgs/sec)\n",
      "NotebookApp.rate_limit_window=3.0 (secs)\n",
      "\n"
     ]
    },
    {
     "name": "stdout",
     "output_type": "stream",
     "text": [
      "1088/1088 [==============================] - 223s 205ms/step - loss: 77799.8906 - mean_absolute_error: 162.8453 - val_loss: 3141.8689 - val_mean_absolute_error: 30.8653 - lr: 1.0000e-05\n",
      "Epoch 83/5000\n",
      " 736/1088 [===================>..........] - ETA: 1:11 - loss: 78028.2578 - mean_absolute_error: 163.8131"
     ]
    },
    {
     "name": "stderr",
     "output_type": "stream",
     "text": [
      "IOPub message rate exceeded.\n",
      "The notebook server will temporarily stop sending output\n",
      "to the client in order to avoid crashing it.\n",
      "To change this limit, set the config variable\n",
      "`--NotebookApp.iopub_msg_rate_limit`.\n",
      "\n",
      "Current values:\n",
      "NotebookApp.iopub_msg_rate_limit=1000.0 (msgs/sec)\n",
      "NotebookApp.rate_limit_window=3.0 (secs)\n",
      "\n"
     ]
    },
    {
     "name": "stdout",
     "output_type": "stream",
     "text": [
      "1088/1088 [==============================] - 224s 206ms/step - loss: 77497.4922 - mean_absolute_error: 162.3429 - val_loss: 2944.6128 - val_mean_absolute_error: 30.2921 - lr: 1.0000e-05\n",
      "Epoch 89/5000\n",
      " 186/1088 [====>.........................] - ETA: 3:02 - loss: 78131.2344 - mean_absolute_error: 163.5590"
     ]
    },
    {
     "name": "stderr",
     "output_type": "stream",
     "text": [
      "IOPub message rate exceeded.\n",
      "The notebook server will temporarily stop sending output\n",
      "to the client in order to avoid crashing it.\n",
      "To change this limit, set the config variable\n",
      "`--NotebookApp.iopub_msg_rate_limit`.\n",
      "\n",
      "Current values:\n",
      "NotebookApp.iopub_msg_rate_limit=1000.0 (msgs/sec)\n",
      "NotebookApp.rate_limit_window=3.0 (secs)\n",
      "\n"
     ]
    },
    {
     "name": "stdout",
     "output_type": "stream",
     "text": [
      "1088/1088 [==============================] - 223s 205ms/step - loss: 77415.6875 - mean_absolute_error: 162.0187 - val_loss: 2929.1392 - val_mean_absolute_error: 29.9058 - lr: 1.0000e-05\n",
      "Epoch 94/5000\n",
      " 640/1088 [================>.............] - ETA: 1:30 - loss: 76840.4219 - mean_absolute_error: 161.7872"
     ]
    },
    {
     "name": "stderr",
     "output_type": "stream",
     "text": [
      "IOPub message rate exceeded.\n",
      "The notebook server will temporarily stop sending output\n",
      "to the client in order to avoid crashing it.\n",
      "To change this limit, set the config variable\n",
      "`--NotebookApp.iopub_msg_rate_limit`.\n",
      "\n",
      "Current values:\n",
      "NotebookApp.iopub_msg_rate_limit=1000.0 (msgs/sec)\n",
      "NotebookApp.rate_limit_window=3.0 (secs)\n",
      "\n"
     ]
    },
    {
     "name": "stdout",
     "output_type": "stream",
     "text": [
      "1088/1088 [==============================] - 224s 206ms/step - loss: 77288.8594 - mean_absolute_error: 162.0219 - val_loss: 2934.6609 - val_mean_absolute_error: 30.2624 - lr: 1.0000e-05\n",
      "Epoch 100/5000\n",
      "  68/1088 [>.............................] - ETA: 3:26 - loss: 72779.7734 - mean_absolute_error: 157.6171"
     ]
    },
    {
     "name": "stderr",
     "output_type": "stream",
     "text": [
      "IOPub message rate exceeded.\n",
      "The notebook server will temporarily stop sending output\n",
      "to the client in order to avoid crashing it.\n",
      "To change this limit, set the config variable\n",
      "`--NotebookApp.iopub_msg_rate_limit`.\n",
      "\n",
      "Current values:\n",
      "NotebookApp.iopub_msg_rate_limit=1000.0 (msgs/sec)\n",
      "NotebookApp.rate_limit_window=3.0 (secs)\n",
      "\n"
     ]
    },
    {
     "name": "stdout",
     "output_type": "stream",
     "text": [
      "1088/1088 [==============================] - 224s 206ms/step - loss: 77269.5859 - mean_absolute_error: 161.8777 - val_loss: 2991.6426 - val_mean_absolute_error: 28.4231 - lr: 1.0000e-05\n",
      "\n"
     ]
    }
   ],
   "source": [
    " # Vision transformer training\n",
    "\n",
    "from tensorflow import keras\n",
    "from tensorflow.keras import layers, Sequential\n",
    "from tensorflow.keras import optimizers\n",
    "from keras.callbacks import ReduceLROnPlateau, EarlyStopping\n",
    "from tqdm.keras import TqdmCallback\n",
    "from tensorflow.keras import regularizers\n",
    "import tensorflow as tf\n",
    "from tensorflow.keras.layers import Input, Dense, Flatten, Dropout, LayerNormalization\n",
    "from tensorflow.keras.models import Model\n",
    "from vit_keras import vit\n",
    "\n",
    "# Assuming your input images have size (image_size, image_size, num_channels)\n",
    "image_size = X_train_preproc[0].shape[1]\n",
    "num_channels = X_train_preproc[0].shape[-1]\n",
    "num_classes = 1  # Regression task, predicting a single continuous value\n",
    "\n",
    "# Create the Vision Transformer model using the vit_keras library\n",
    "inputs = Input(shape=(image_size, image_size, num_channels))\n",
    "\n",
    "\n",
    "print(inputs.shape)\n",
    "vit_model = vit.vit_b16(image_size=image_size, \n",
    "                        activation='sigmoid',\n",
    "                        pretrained=True,\n",
    "                        include_top=False,\n",
    "                        pretrained_top=False)\n",
    "\n",
    "x = vit_model(inputs)\n",
    "# Add additional layers for regression prediction\n",
    "x = Flatten()(x)\n",
    "x = Dense(128, activation='relu')(x)\n",
    "x = Dropout(0.5)(x)\n",
    "x = Dense(64, activation='relu')(x)\n",
    "x = Dropout(0.5)(x)\n",
    "regression_output = Dense(num_classes, activation='linear')(x)  # Linear activation for regression\n",
    "\n",
    "# Combine the Vision Transformer backbone with the regression head\n",
    "model = Model(inputs=inputs, outputs=regression_output)\n",
    "\n",
    "# Compile the model\n",
    "model.compile(optimizer='adam', loss='mean_squared_error', metrics=['mae'])\n",
    "\n",
    "\n",
    "batch_size = 64\n",
    "epochs = 5000\n",
    "lr = 0.0001\n",
    "\n",
    "# # Model refining\n",
    "# model = keras.models.load_model('./latest_vit_model/')\n",
    "    \n",
    "# n_layers = len(model.layers)\n",
    "# for i in range(0, len(model.layers)-4):\n",
    "#     model.layers[i].trainable = False\n",
    "# assert model.trainable == True\n",
    "\n",
    "    \n",
    "# # Print a summary of the model architecture\n",
    "# model.summary()\n",
    "\n",
    "\n",
    "model.compile(loss='mean_squared_error', optimizer=optimizers.AdamW(learning_rate=lr), metrics=['mean_absolute_error'])\n",
    "\n",
    "callbacks = [\n",
    "    ReduceLROnPlateau(monitor='val_mean_absolute_error', factor=0.1,\n",
    "                      patience=50, verbose=True, mode='min', min_delta=5, min_lr=1e-6,),\n",
    "    EarlyStopping(monitor='val_mean_absolute_error', patience=75,\n",
    "                  verbose=False, min_delta=1, restore_best_weights=True),\n",
    "    TqdmCallback(verbose=1),\n",
    "]\n",
    "\n",
    "\n",
    "history = model.fit(X_train_preproc, y_train, batch_size=batch_size, epochs=epochs, validation_data=(X_val_preproc, y_val), callbacks=callbacks, shuffle=True, verbose=True)\n"
   ]
  }
 ],
 "metadata": {
  "kernelspec": {
   "display_name": "Python 3 (ipykernel)",
   "language": "python",
   "name": "python3"
  },
  "language_info": {
   "codemirror_mode": {
    "name": "ipython",
    "version": 3
   },
   "file_extension": ".py",
   "mimetype": "text/x-python",
   "name": "python",
   "nbconvert_exporter": "python",
   "pygments_lexer": "ipython3",
   "version": "3.8.10"
  }
 },
 "nbformat": 4,
 "nbformat_minor": 5
}
