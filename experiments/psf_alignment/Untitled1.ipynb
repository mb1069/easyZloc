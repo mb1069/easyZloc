{
 "cells": [
  {
   "cell_type": "code",
   "execution_count": 3,
   "id": "3c8734d3",
   "metadata": {},
   "outputs": [
    {
     "name": "stdout",
     "output_type": "stream",
     "text": [
      "(6259, 201, 15, 15, 1) uint16\n"
     ]
    }
   ],
   "source": [
    "## import pickle\n",
    "import numpy as np\n",
    "import matplotlib.pyplot as plt\n",
    "from data.visualise import grid_psfs, show_psf_axial\n",
    "from tifffile import imread\n",
    "import pandas as pd\n",
    "import seaborn as sns\n",
    "\n",
    "def load_pickle_file(dpath):\n",
    "    with open(dpath, 'rb') as f:\n",
    "        return pickle.load(f)\n",
    "\n",
    "# # MQ_data     \n",
    "# stacks = '/home/miguel/Projects/uni/data/smlm_3d/20230601_MQ_celltype/beads_box15/combined/stacks.ome.tif'\n",
    "# locs = '/home/miguel/Projects/uni/data/smlm_3d/20230601_MQ_celltype/beads_box15/combined/locs.hdf'\n",
    "# exclude_idx = [5, 7, 11, 14, 22, 24, 26, 27, 28, 31, 32, 35, 37, 38, 40, 45, 50, 51, 54, 68, 69, 71, 72, 82, 87, 89, 91, 98, 102, 108, 109, 112, 113, 115, 116, 121, 122, 123, 127, 129, 131, 132, 133, 138, 141, 144, 150, 151, 154, 161, 167, 169, 170, 172, 178, 179, 181, 182, 184, 185, 186, 187, 190, 200, 201, 205, 206, 210, 214, 219, 221, 224, 226, 230, 233, 234, 235, 236, 237, 243]\n",
    "# Z_STEP = 20\n",
    "\n",
    "# FD-deeploc data\n",
    "stacks = '/home/miguel/Projects/uni/data/smlm_3d/fd-deeploc-data/Astigmatism_beads_stacks_2um/combined/stacks.ome.tif'\n",
    "locs = '/home/miguel/Projects/uni/data/smlm_3d/fd-deeploc-data/Astigmatism_beads_stacks_2um/combined/locs.hdf'\n",
    "exclude_idx = []\n",
    "Z_STEP = 50\n",
    "\n",
    "all_psfs = imread(stacks)\n",
    "all_locs = pd.read_hdf(locs, key='locs')\n",
    "\n",
    "all_psfs = all_psfs[:, :, :, :, np.newaxis]\n",
    "\n",
    "print(all_psfs.shape, all_psfs.dtype)\n",
    "\n",
    "# # for i, psf in enumerate(psfs.sum(axis=-1)):\n",
    "# #     plt.title(str(i))\n",
    "# #     show_psf_axial(psf)\n",
    "\n",
    "\n",
    "# # exclude_idx = [0, 5, 7, 12, 22, 26, 32, 35, 38, 40, 45, 50, 51, 54, 68, 69, 71, 72, 82, 87, 89, 91, 98, 102, 108, 109, 112, 113, 115, 116, 121, 122, 123, 124, 127, 129, 131, 132, 133, 138, 141, 144, 150, 151, 154, 161, 167, 169, 170, 172, 178, 179, 181, 182, 184, 185, 186, 187, 190, 200, 201, 205, 206, 210, 214, 219, 221, 224, 226, 230, 233, 234, 235, 236, 237, 243]\n",
    "\n",
    "# # print('Excluded PSFs \\n\\n\\n\\n\\n')\n",
    "# # for i in exclude_idx:\n",
    "# #     show_psf_axial(psfs[i].mean(axis=-1), str(i))\n",
    "# #     plt.plot(psfs[i].max(axis=(1,2)))\n",
    "# #     plt.show()\n",
    "# # print('End of excluded PSFs \\n\\n\\n\\n\\n')\n",
    "\n",
    "# # print(psfs.shape[0])\n",
    "# # for i in range(psfs.shape[0]):\n",
    "# #     if i in exclude_idx:\n",
    "# #         continue\n",
    "# #     plt.title(str(i))\n",
    "# #     show_psf_axial(psfs[i].mean(axis=-1))\n",
    "# #     plt.plot(psfs[i].max(axis=(1,2,3)), label='max')\n",
    "# #     plt.legend()\n",
    "# #     plt.title(str(i))\n",
    "# #     plt.show()\n",
    "\n",
    "# idx = [i for i in range(psfs.shape[0]) if i not in exclude_idx]\n",
    "# psfs = psfs[idx]\n",
    "# locs = locs.iloc[idx]\n",
    "all_locs['idx'] = np.arange(all_locs.shape[0])\n"
   ]
  },
  {
   "cell_type": "code",
   "execution_count": 4,
   "id": "f365725d",
   "metadata": {},
   "outputs": [
    {
     "name": "stdout",
     "output_type": "stream",
     "text": [
      "(155, 201, 15, 15, 1)\n"
     ]
    }
   ],
   "source": [
    "# xlim = ((450, 750))\n",
    "# ylim = ((450, 750))\n",
    "\n",
    "\n",
    "xlim = ((810, 810+250))\n",
    "ylim = ((790, 790+250))\n",
    "\n",
    "\n",
    "idx = (xlim[0] < all_locs['x']) & (all_locs['x'] < xlim[1]) & (ylim[0] < all_locs['y']) & (all_locs['y'] < ylim[1])\n",
    "locs = all_locs[idx]\n",
    "psfs = all_psfs[locs['idx']]\n",
    "\n",
    "print(psfs.shape)\n",
    "\n",
    "ys = []\n",
    "for i in range(psfs.shape[0]):\n",
    "    y = np.arange(psfs.shape[1]) * Z_STEP\n",
    "    y = y - 1000\n",
    "    ys.append(y)\n",
    "ys = np.stack(ys)"
   ]
  },
  {
   "cell_type": "code",
   "execution_count": 5,
   "id": "071e10fe",
   "metadata": {},
   "outputs": [],
   "source": [
    "psf_params = dict(\n",
    "    res=90, \n",
    "    zres=10, \n",
    "    wl=660, \n",
    "    na=0.95, \n",
    "    ni=1.0, \n",
    "    size=16, \n",
    "    zsize=201\n",
    ")\n"
   ]
  },
  {
   "cell_type": "code",
   "execution_count": 6,
   "id": "a9d88373",
   "metadata": {},
   "outputs": [
    {
     "ename": "AttributeError",
     "evalue": "'str' object has no attribute 'shape'",
     "output_type": "error",
     "traceback": [
      "\u001b[0;31m---------------------------------------------------------------------------\u001b[0m",
      "\u001b[0;31mAttributeError\u001b[0m                            Traceback (most recent call last)",
      "\u001b[0;32m/tmp/ipykernel_807401/877851231.py\u001b[0m in \u001b[0;36m<cell line: 1>\u001b[0;34m()\u001b[0m\n\u001b[0;32m----> 1\u001b[0;31m \u001b[0mstacks\u001b[0m\u001b[0;34m.\u001b[0m\u001b[0mshape\u001b[0m\u001b[0;34m\u001b[0m\u001b[0;34m\u001b[0m\u001b[0m\n\u001b[0m",
      "\u001b[0;31mAttributeError\u001b[0m: 'str' object has no attribute 'shape'"
     ]
    }
   ],
   "source": [
    "stacks.shape"
   ]
  }
 ],
 "metadata": {
  "kernelspec": {
   "display_name": "Python 3 (ipykernel)",
   "language": "python",
   "name": "python3"
  },
  "language_info": {
   "codemirror_mode": {
    "name": "ipython",
    "version": 3
   },
   "file_extension": ".py",
   "mimetype": "text/x-python",
   "name": "python",
   "nbconvert_exporter": "python",
   "pygments_lexer": "ipython3",
   "version": "3.8.10"
  }
 },
 "nbformat": 4,
 "nbformat_minor": 5
}
