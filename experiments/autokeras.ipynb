{
 "cells": [
  {
   "cell_type": "markdown",
   "id": "8a4f39de",
   "metadata": {},
   "source": [
    "# 1. Data preparation"
   ]
  },
  {
   "cell_type": "code",
   "execution_count": 1,
   "id": "6686a557",
   "metadata": {},
   "outputs": [],
   "source": [
    "import tensorflow as tf\n",
    "gpus = tf.config.experimental.list_physical_devices('GPU')\n",
    "for gpu in gpus:\n",
    "    tf.config.experimental.set_memory_growth(gpu, True)\n"
   ]
  },
  {
   "cell_type": "code",
   "execution_count": null,
   "id": "e3c826d7",
   "metadata": {
    "scrolled": false
   },
   "outputs": [
    {
     "name": "stdout",
     "output_type": "stream",
     "text": [
      "The autoreload extension is already loaded. To reload it, use:\n",
      "  %reload_ext autoreload\n",
      "Reading img...\n",
      "Loading /home/miguel/Projects/uni/data/smlm_3d/picasso_test/training/NPC-A647-3D-BEADS-as-stacks.tif\n",
      "Loading /home/miguel/Projects/uni/data/smlm_3d/picasso_test/training/NPC-A647-3D-BEADS-as-stacks_locs.csv\n",
      "using image sharpness\n",
      "80 emitters before filtering\n",
      "79 emitters after borders\n",
      "79 PSFs remaining\n",
      "Aligning (79, 41, 32, 32) psfs...\n"
     ]
    },
    {
     "name": "stderr",
     "output_type": "stream",
     "text": [
      "\r",
      "  0%|          | 0/78 [00:00<?, ?it/s]"
     ]
    }
   ],
   "source": [
    "%load_ext autoreload\n",
    "%autoreload 2\n",
    "from config.datasets import dataset_configs\n",
    "\n",
    "from config.datasets import dataset_configs\n",
    "from data.datasets import TrainingDataSet, ExperimentalDataSet, GenericDataSet, MultiTrainingDataset\n",
    "from workflow_v2 import concat_dataset_features\n",
    "\n",
    "BOUND = 16\n",
    "GenericDataSet.bound = BOUND\n",
    "\n",
    "z_range = 1000\n",
    "\n",
    "dataset = 'picasso_test'\n",
    "version = ''\n",
    "cfg = dataset_configs[dataset]['training']\n",
    "# cfg['csv'] = cfg['csv'].replace('_filtered', '')\n",
    "train_dataset = TrainingDataSet(cfg, lazy=True, fit_plane_z=False, min_snr=2, transform_data=False, z_range=1000, split_data=True, add_noise=True, filter_emitters_proximity=False)\n",
    "train_dataset.bound = BOUND\n",
    "train_dataset.prepare_data()\n",
    "\n",
    "print(train_dataset.data['train'][0][0].shape)\n",
    "\n",
    "\n",
    "# dataset = '20220506_Miguel_beads_zeiss'\n",
    "# cfgs = [\n",
    "#     dataset_configs[dataset]['training_3'],\n",
    "#     dataset_configs[dataset]['training_4'],\n",
    "#     dataset_configs[dataset]['training_5']\n",
    "# ]\n",
    "\n",
    "# cfg = cfgs[0]\n",
    "# ds = MultiTrainingDataset(cfgs, fit_plane_z=True, \n",
    "#                           filter_emitters_proximity=True, \n",
    "#                           transform_data=False, \n",
    "#                           z_range=z_range, \n",
    "#                           add_noise=4, \n",
    "#                           split_data=True, \n",
    "#                           normalize_psf=True)\n",
    "\n",
    "# train_dataset = ds.merge()\n",
    "\n",
    "# train_dataset.prepare_debug()\n",
    "for c in ('train', 'test', 'val'):\n",
    "    print(c, train_dataset.data[c][1].min(), train_dataset.data[c][1].max())"
   ]
  },
  {
   "cell_type": "code",
   "execution_count": null,
   "id": "cdfc3871",
   "metadata": {},
   "outputs": [],
   "source": [
    "import autokeras as ak\n",
    "# Initialize the image regressor.\n",
    "reg = ak.ImageRegressor(overwrite=True, max_trials=100)\n",
    "# Feed the image regressor with training data.\n",
    "x_train, y_train = train_dataset.data['train'][0][0], train_dataset.data['train'][1] \n",
    "x_val, y_val = train_dataset.data['val'][0][0], train_dataset.data['val'][1] \n",
    "x_test, y_test = train_dataset.data['test'][0][0], train_dataset.data['test'][1] \n",
    "\n",
    "reg.fit(x_train, y_train, validation_data=(x_val, y_val), epochs=100, verbose=True)\n",
    "\n",
    "\n",
    "# Predict with the best model.\n",
    "predicted_y = reg.predict(x_test)\n",
    "\n",
    "\n",
    "# Evaluate the best model with testing data.\n",
    "print(reg.evaluate(x_test, y_test))\n"
   ]
  },
  {
   "cell_type": "markdown",
   "id": "420dd585",
   "metadata": {},
   "source": [
    "2. For each dot of light, cut out a stack of images around the dot (below example shows focus/defocus in steps of 200nm along Z axis)"
   ]
  }
 ],
 "metadata": {
  "kernelspec": {
   "display_name": "Python 3",
   "language": "python",
   "name": "python3"
  },
  "language_info": {
   "codemirror_mode": {
    "name": "ipython",
    "version": 3
   },
   "file_extension": ".py",
   "mimetype": "text/x-python",
   "name": "python",
   "nbconvert_exporter": "python",
   "pygments_lexer": "ipython3",
   "version": "3.8.5"
  }
 },
 "nbformat": 4,
 "nbformat_minor": 5
}
